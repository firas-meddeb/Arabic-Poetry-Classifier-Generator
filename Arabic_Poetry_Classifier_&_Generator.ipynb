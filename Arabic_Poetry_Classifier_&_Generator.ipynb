{
  "metadata": {
    "kernelspec": {
      "language": "python",
      "display_name": "Python 3",
      "name": "python3"
    },
    "language_info": {
      "name": "python",
      "version": "3.7.12",
      "mimetype": "text/x-python",
      "codemirror_mode": {
        "name": "ipython",
        "version": 3
      },
      "pygments_lexer": "ipython3",
      "nbconvert_exporter": "python",
      "file_extension": ".py"
    },
    "colab": {
      "provenance": []
    }
  },
  "nbformat_minor": 0,
  "nbformat": 4,
  "cells": [
    {
      "cell_type": "markdown",
      "source": [
        "# Dataset"
      ],
      "metadata": {
        "id": "nCfhYbUq-17y"
      }
    },
    {
      "cell_type": "code",
      "source": [
        "# import necessary libraries for pre-processing\n",
        "import numpy as np\n",
        "import pandas as pd\n",
        "from nltk import word_tokenize\n",
        "from sklearn.feature_extraction.text import TfidfVectorizer\n",
        "from sklearn.preprocessing import LabelEncoder\n",
        "from imblearn.over_sampling import SMOTE\n",
        "\n",
        "# import necessary libraries for data visualization\n",
        "import matplotlib.pyplot as plt\n",
        "import seaborn as sns\n",
        "\n",
        "# import necessary libraries for modeling\n",
        "from sklearn.model_selection import train_test_split\n",
        "from sklearn.linear_model import LogisticRegression\n",
        "import torch\n",
        "import transformers\n",
        "from transformers import BertTokenizer, BertForSequenceClassification, AdamW\n",
        "\n",
        "# import necessary modules for model evaluation\n",
        "from sklearn.metrics import classification_report, confusion_matrix, accuracy_score, f1_score, recall_score"
      ],
      "metadata": {
        "id": "Y3Yr6fe4Iq1Z",
        "execution": {
          "iopub.status.busy": "2023-03-26T15:19:44.984103Z",
          "iopub.execute_input": "2023-03-26T15:19:44.984600Z",
          "iopub.status.idle": "2023-03-26T15:19:44.993266Z",
          "shell.execute_reply.started": "2023-03-26T15:19:44.984557Z",
          "shell.execute_reply": "2023-03-26T15:19:44.991636Z"
        },
        "trusted": true
      },
      "execution_count": null,
      "outputs": []
    },
    {
      "cell_type": "code",
      "source": [
        "# set up the environment (GPU)\n",
        "device = torch.device('cuda') if torch.cuda.is_available() else torch.device('cpu')\n",
        "print(device)"
      ],
      "metadata": {
        "id": "QCzi-aNFIq1b",
        "outputId": "6da5f9e8-615f-40bf-d1fa-6afd8738cfb7",
        "execution": {
          "iopub.status.busy": "2023-03-26T15:19:47.647347Z",
          "iopub.execute_input": "2023-03-26T15:19:47.647779Z",
          "iopub.status.idle": "2023-03-26T15:19:47.654076Z",
          "shell.execute_reply.started": "2023-03-26T15:19:47.647743Z",
          "shell.execute_reply": "2023-03-26T15:19:47.653158Z"
        },
        "trusted": true
      },
      "execution_count": null,
      "outputs": [
        {
          "name": "stdout",
          "text": "cpu\n",
          "output_type": "stream"
        }
      ]
    },
    {
      "cell_type": "code",
      "source": [
        "# import the first dataset and display it\n",
        "ar_poems = pd.read_csv(\"/kaggle/input/arabic-poetry/Arabic_poetry_dataset.csv\")\n",
        "ar_poems.head()"
      ],
      "metadata": {
        "id": "rCmm44JIIq1d",
        "outputId": "c9773b7f-66f4-4ea3-a654-b730e1f077c4",
        "execution": {
          "iopub.status.busy": "2023-03-26T15:22:29.412039Z",
          "iopub.execute_input": "2023-03-26T15:22:29.412513Z",
          "iopub.status.idle": "2023-03-26T15:22:30.933149Z",
          "shell.execute_reply.started": "2023-03-26T15:22:29.412473Z",
          "shell.execute_reply": "2023-03-26T15:22:30.931986Z"
        },
        "trusted": true
      },
      "execution_count": null,
      "outputs": [
        {
          "execution_count": 42,
          "output_type": "execute_result",
          "data": {
            "text/plain": "   id  category      poet_name                    poem_title  \\\n0   0  الإمارات  خلفان بن مصبح     بدت تختال في حُلل الجمالِ   \n1   1  الإمارات  خلفان بن مصبح          يا طائر الشعر القرير   \n2   2  الإمارات  خلفان بن مصبح          بنت حجرات أرى من عجب   \n3   3  الإمارات  خلفان بن مصبح  هذا الربيع بنور الحسن وافانا   \n4   4  الإمارات  خلفان بن مصبح   روحي فداك وإن مُنحتُ صدوداً   \n\n                                           poem_text  \n0  بدت تختال في حُلل الجمالِ\\nوجادت بالزيارة والو...  \n1  يا طائر الشعر القرير\\nيا وحي إلهام الصدور\\nأسع...  \n2  بنت حجرات أرى من عجب\\nأن أرى فيك جمال العرب\\nد...  \n3  هذا الربيع بنور الحسن وافانا\\nوقد كسا الأرض با...  \n4  روحي فداك وإن مُنحتُ صدوداً\\nأخفاك ما بي أم أط...  ",
            "text/html": "<div>\n<style scoped>\n    .dataframe tbody tr th:only-of-type {\n        vertical-align: middle;\n    }\n\n    .dataframe tbody tr th {\n        vertical-align: top;\n    }\n\n    .dataframe thead th {\n        text-align: right;\n    }\n</style>\n<table border=\"1\" class=\"dataframe\">\n  <thead>\n    <tr style=\"text-align: right;\">\n      <th></th>\n      <th>id</th>\n      <th>category</th>\n      <th>poet_name</th>\n      <th>poem_title</th>\n      <th>poem_text</th>\n    </tr>\n  </thead>\n  <tbody>\n    <tr>\n      <th>0</th>\n      <td>0</td>\n      <td>الإمارات</td>\n      <td>خلفان بن مصبح</td>\n      <td>بدت تختال في حُلل الجمالِ</td>\n      <td>بدت تختال في حُلل الجمالِ\\nوجادت بالزيارة والو...</td>\n    </tr>\n    <tr>\n      <th>1</th>\n      <td>1</td>\n      <td>الإمارات</td>\n      <td>خلفان بن مصبح</td>\n      <td>يا طائر الشعر القرير</td>\n      <td>يا طائر الشعر القرير\\nيا وحي إلهام الصدور\\nأسع...</td>\n    </tr>\n    <tr>\n      <th>2</th>\n      <td>2</td>\n      <td>الإمارات</td>\n      <td>خلفان بن مصبح</td>\n      <td>بنت حجرات أرى من عجب</td>\n      <td>بنت حجرات أرى من عجب\\nأن أرى فيك جمال العرب\\nد...</td>\n    </tr>\n    <tr>\n      <th>3</th>\n      <td>3</td>\n      <td>الإمارات</td>\n      <td>خلفان بن مصبح</td>\n      <td>هذا الربيع بنور الحسن وافانا</td>\n      <td>هذا الربيع بنور الحسن وافانا\\nوقد كسا الأرض با...</td>\n    </tr>\n    <tr>\n      <th>4</th>\n      <td>4</td>\n      <td>الإمارات</td>\n      <td>خلفان بن مصبح</td>\n      <td>روحي فداك وإن مُنحتُ صدوداً</td>\n      <td>روحي فداك وإن مُنحتُ صدوداً\\nأخفاك ما بي أم أط...</td>\n    </tr>\n  </tbody>\n</table>\n</div>"
          },
          "metadata": {}
        }
      ]
    },
    {
      "cell_type": "code",
      "source": [
        "# import the second dataset and display it\n",
        "ar_poems1 = pd.read_csv(\"/kaggle/input/arabic-poetry-dataset-478-2017/all_poems.csv\")\n",
        "ar_poems1.head()"
      ],
      "metadata": {
        "id": "87p78J4tIq1d",
        "outputId": "b8910377-4e91-40e1-bffe-fe861900c092",
        "execution": {
          "iopub.status.busy": "2023-03-26T15:22:34.004026Z",
          "iopub.execute_input": "2023-03-26T15:22:34.004442Z",
          "iopub.status.idle": "2023-03-26T15:22:35.772875Z",
          "shell.execute_reply.started": "2023-03-26T15:22:34.004406Z",
          "shell.execute_reply": "2023-03-26T15:22:35.771428Z"
        },
        "trusted": true
      },
      "execution_count": null,
      "outputs": [
        {
          "execution_count": 43,
          "output_type": "execute_result",
          "data": {
            "text/plain": "   poem_id                                          poem_link poem_style  \\\n0       21  http://www.adab.com/modules.php?name=Sh3er&doW...       فصحى   \n1    65546  http://www.adab.com/modules.php?name=Sh3er&doW...       فصحى   \n2    65561  http://www.adab.com/modules.php?name=Sh3er&doW...       فصحى   \n3    65554  http://www.adab.com/modules.php?name=Sh3er&doW...       فصحى   \n4    65550  http://www.adab.com/modules.php?name=Sh3er&doW...       فصحى   \n\n                                           poem_text      poem_title poet_cat  \\\n0  عيناك غابتا نخيل ساعة السحر او شرفتان راح يناي...   أنشودة المطر    العراق   \n1   انا لا ازال و في يدي قدحي ياليل اين تفرق الشر...  أقداح و أحلام    العراق   \n2   علي مقلتيك ارتشفت النجوم وعانقت امالي الايبة ...     هوى واحد !    العراق   \n3  اساطير من حشرجات الزمان نسيج اليد البالية رواه...         أساطير    العراق   \n4  والتف حولك ساعداي ومال جيدك في اشتهاء كالزهرة ...  اللقاء الأخير    العراق   \n\n   poet_id                                          poet_link        poet_name  \n0        2  http://www.adab.com/modules.php?name=Sh3er&doW...  بدر شاكر السياب  \n1        2  http://www.adab.com/modules.php?name=Sh3er&doW...  بدر شاكر السياب  \n2        2  http://www.adab.com/modules.php?name=Sh3er&doW...  بدر شاكر السياب  \n3        2  http://www.adab.com/modules.php?name=Sh3er&doW...  بدر شاكر السياب  \n4        2  http://www.adab.com/modules.php?name=Sh3er&doW...  بدر شاكر السياب  ",
            "text/html": "<div>\n<style scoped>\n    .dataframe tbody tr th:only-of-type {\n        vertical-align: middle;\n    }\n\n    .dataframe tbody tr th {\n        vertical-align: top;\n    }\n\n    .dataframe thead th {\n        text-align: right;\n    }\n</style>\n<table border=\"1\" class=\"dataframe\">\n  <thead>\n    <tr style=\"text-align: right;\">\n      <th></th>\n      <th>poem_id</th>\n      <th>poem_link</th>\n      <th>poem_style</th>\n      <th>poem_text</th>\n      <th>poem_title</th>\n      <th>poet_cat</th>\n      <th>poet_id</th>\n      <th>poet_link</th>\n      <th>poet_name</th>\n    </tr>\n  </thead>\n  <tbody>\n    <tr>\n      <th>0</th>\n      <td>21</td>\n      <td>http://www.adab.com/modules.php?name=Sh3er&amp;doW...</td>\n      <td>فصحى</td>\n      <td>عيناك غابتا نخيل ساعة السحر او شرفتان راح يناي...</td>\n      <td>أنشودة المطر</td>\n      <td>العراق</td>\n      <td>2</td>\n      <td>http://www.adab.com/modules.php?name=Sh3er&amp;doW...</td>\n      <td>بدر شاكر السياب</td>\n    </tr>\n    <tr>\n      <th>1</th>\n      <td>65546</td>\n      <td>http://www.adab.com/modules.php?name=Sh3er&amp;doW...</td>\n      <td>فصحى</td>\n      <td>انا لا ازال و في يدي قدحي ياليل اين تفرق الشر...</td>\n      <td>أقداح و أحلام</td>\n      <td>العراق</td>\n      <td>2</td>\n      <td>http://www.adab.com/modules.php?name=Sh3er&amp;doW...</td>\n      <td>بدر شاكر السياب</td>\n    </tr>\n    <tr>\n      <th>2</th>\n      <td>65561</td>\n      <td>http://www.adab.com/modules.php?name=Sh3er&amp;doW...</td>\n      <td>فصحى</td>\n      <td>علي مقلتيك ارتشفت النجوم وعانقت امالي الايبة ...</td>\n      <td>هوى واحد !</td>\n      <td>العراق</td>\n      <td>2</td>\n      <td>http://www.adab.com/modules.php?name=Sh3er&amp;doW...</td>\n      <td>بدر شاكر السياب</td>\n    </tr>\n    <tr>\n      <th>3</th>\n      <td>65554</td>\n      <td>http://www.adab.com/modules.php?name=Sh3er&amp;doW...</td>\n      <td>فصحى</td>\n      <td>اساطير من حشرجات الزمان نسيج اليد البالية رواه...</td>\n      <td>أساطير</td>\n      <td>العراق</td>\n      <td>2</td>\n      <td>http://www.adab.com/modules.php?name=Sh3er&amp;doW...</td>\n      <td>بدر شاكر السياب</td>\n    </tr>\n    <tr>\n      <th>4</th>\n      <td>65550</td>\n      <td>http://www.adab.com/modules.php?name=Sh3er&amp;doW...</td>\n      <td>فصحى</td>\n      <td>والتف حولك ساعداي ومال جيدك في اشتهاء كالزهرة ...</td>\n      <td>اللقاء الأخير</td>\n      <td>العراق</td>\n      <td>2</td>\n      <td>http://www.adab.com/modules.php?name=Sh3er&amp;doW...</td>\n      <td>بدر شاكر السياب</td>\n    </tr>\n  </tbody>\n</table>\n</div>"
          },
          "metadata": {}
        }
      ]
    },
    {
      "cell_type": "markdown",
      "source": [
        "# EDA:"
      ],
      "metadata": {
        "id": "o7QTwZ3qIq1e"
      }
    },
    {
      "cell_type": "code",
      "source": [
        "print('First dataset exploration:\\n\\n')\n",
        "print(ar_poems.info())\n",
        "print('\\n\\nSecond dataset exploration:\\n\\n')\n",
        "print(ar_poems1.info())"
      ],
      "metadata": {
        "id": "opGlA90VIq1g",
        "outputId": "c404d751-2525-47f2-fb15-74ba1aa16590",
        "execution": {
          "iopub.status.busy": "2023-03-26T15:22:37.922932Z",
          "iopub.execute_input": "2023-03-26T15:22:37.926894Z",
          "iopub.status.idle": "2023-03-26T15:22:37.998055Z",
          "shell.execute_reply.started": "2023-03-26T15:22:37.926841Z",
          "shell.execute_reply": "2023-03-26T15:22:37.996743Z"
        },
        "trusted": true
      },
      "execution_count": null,
      "outputs": [
        {
          "name": "stdout",
          "text": "First dataset exploration:\n\n\n<class 'pandas.core.frame.DataFrame'>\nRangeIndex: 54944 entries, 0 to 54943\nData columns (total 5 columns):\n #   Column      Non-Null Count  Dtype \n---  ------      --------------  ----- \n 0   id          54944 non-null  int64 \n 1   category    54944 non-null  object\n 2   poet_name   54944 non-null  object\n 3   poem_title  54944 non-null  object\n 4   poem_text   54944 non-null  object\ndtypes: int64(1), object(4)\nmemory usage: 2.1+ MB\nNone\n\n\nSecond dataset exploration:\n\n\n<class 'pandas.core.frame.DataFrame'>\nRangeIndex: 58021 entries, 0 to 58020\nData columns (total 9 columns):\n #   Column      Non-Null Count  Dtype \n---  ------      --------------  ----- \n 0   poem_id     58021 non-null  int64 \n 1   poem_link   58021 non-null  object\n 2   poem_style  58021 non-null  object\n 3   poem_text   58020 non-null  object\n 4   poem_title  58021 non-null  object\n 5   poet_cat    58021 non-null  object\n 6   poet_id     58021 non-null  int64 \n 7   poet_link   58021 non-null  object\n 8   poet_name   58021 non-null  object\ndtypes: int64(2), object(7)\nmemory usage: 4.0+ MB\nNone\n",
          "output_type": "stream"
        }
      ]
    },
    {
      "cell_type": "code",
      "source": [
        "# drop useless columns\n",
        "ar_poems = ar_poems.drop(columns=['id'])\n",
        "ar_poems1 = ar_poems1.drop(columns=['poem_id','poem_link','poem_style','poet_id','poet_link'])\n",
        "# rename columns\n",
        "ar_poems1 = ar_poems1.rename(columns={\"poet_cat\": \"category\"})"
      ],
      "metadata": {
        "id": "9T7CL1GBIq1h",
        "execution": {
          "iopub.status.busy": "2023-03-26T15:22:38.491866Z",
          "iopub.execute_input": "2023-03-26T15:22:38.492574Z",
          "iopub.status.idle": "2023-03-26T15:22:38.514351Z",
          "shell.execute_reply.started": "2023-03-26T15:22:38.492532Z",
          "shell.execute_reply": "2023-03-26T15:22:38.513188Z"
        },
        "trusted": true
      },
      "execution_count": null,
      "outputs": []
    },
    {
      "cell_type": "code",
      "source": [
        "print('First dataset exploration: Final Form\\n\\n')\n",
        "print(ar_poems.info())\n",
        "print('\\n\\nSecond dataset exploration: Final Form\\n\\n')\n",
        "print(ar_poems1.info())"
      ],
      "metadata": {
        "id": "FRtHDdIvIq1h",
        "outputId": "ba468989-34fc-4e4d-d0e1-a494dba90bd9",
        "execution": {
          "iopub.status.busy": "2023-03-26T15:22:41.412776Z",
          "iopub.execute_input": "2023-03-26T15:22:41.413194Z",
          "iopub.status.idle": "2023-03-26T15:22:41.469335Z",
          "shell.execute_reply.started": "2023-03-26T15:22:41.413148Z",
          "shell.execute_reply": "2023-03-26T15:22:41.467823Z"
        },
        "trusted": true
      },
      "execution_count": null,
      "outputs": [
        {
          "name": "stdout",
          "text": "First dataset exploration: Final Form\n\n\n<class 'pandas.core.frame.DataFrame'>\nRangeIndex: 54944 entries, 0 to 54943\nData columns (total 4 columns):\n #   Column      Non-Null Count  Dtype \n---  ------      --------------  ----- \n 0   category    54944 non-null  object\n 1   poet_name   54944 non-null  object\n 2   poem_title  54944 non-null  object\n 3   poem_text   54944 non-null  object\ndtypes: object(4)\nmemory usage: 1.7+ MB\nNone\n\n\nSecond dataset exploration: Final Form\n\n\n<class 'pandas.core.frame.DataFrame'>\nRangeIndex: 58021 entries, 0 to 58020\nData columns (total 4 columns):\n #   Column      Non-Null Count  Dtype \n---  ------      --------------  ----- \n 0   poem_text   58020 non-null  object\n 1   poem_title  58021 non-null  object\n 2   category    58021 non-null  object\n 3   poet_name   58021 non-null  object\ndtypes: object(4)\nmemory usage: 1.8+ MB\nNone\n",
          "output_type": "stream"
        }
      ]
    },
    {
      "cell_type": "code",
      "source": [
        "ar_poems.head()"
      ],
      "metadata": {
        "id": "VsQD8q3UIq1i",
        "outputId": "bfa1c200-aaaf-4ff3-ada2-7593d414e68a",
        "execution": {
          "iopub.status.busy": "2023-03-26T15:22:43.406623Z",
          "iopub.execute_input": "2023-03-26T15:22:43.407237Z",
          "iopub.status.idle": "2023-03-26T15:22:43.420078Z",
          "shell.execute_reply.started": "2023-03-26T15:22:43.407181Z",
          "shell.execute_reply": "2023-03-26T15:22:43.419166Z"
        },
        "trusted": true
      },
      "execution_count": null,
      "outputs": [
        {
          "execution_count": 47,
          "output_type": "execute_result",
          "data": {
            "text/plain": "   category      poet_name                    poem_title  \\\n0  الإمارات  خلفان بن مصبح     بدت تختال في حُلل الجمالِ   \n1  الإمارات  خلفان بن مصبح          يا طائر الشعر القرير   \n2  الإمارات  خلفان بن مصبح          بنت حجرات أرى من عجب   \n3  الإمارات  خلفان بن مصبح  هذا الربيع بنور الحسن وافانا   \n4  الإمارات  خلفان بن مصبح   روحي فداك وإن مُنحتُ صدوداً   \n\n                                           poem_text  \n0  بدت تختال في حُلل الجمالِ\\nوجادت بالزيارة والو...  \n1  يا طائر الشعر القرير\\nيا وحي إلهام الصدور\\nأسع...  \n2  بنت حجرات أرى من عجب\\nأن أرى فيك جمال العرب\\nد...  \n3  هذا الربيع بنور الحسن وافانا\\nوقد كسا الأرض با...  \n4  روحي فداك وإن مُنحتُ صدوداً\\nأخفاك ما بي أم أط...  ",
            "text/html": "<div>\n<style scoped>\n    .dataframe tbody tr th:only-of-type {\n        vertical-align: middle;\n    }\n\n    .dataframe tbody tr th {\n        vertical-align: top;\n    }\n\n    .dataframe thead th {\n        text-align: right;\n    }\n</style>\n<table border=\"1\" class=\"dataframe\">\n  <thead>\n    <tr style=\"text-align: right;\">\n      <th></th>\n      <th>category</th>\n      <th>poet_name</th>\n      <th>poem_title</th>\n      <th>poem_text</th>\n    </tr>\n  </thead>\n  <tbody>\n    <tr>\n      <th>0</th>\n      <td>الإمارات</td>\n      <td>خلفان بن مصبح</td>\n      <td>بدت تختال في حُلل الجمالِ</td>\n      <td>بدت تختال في حُلل الجمالِ\\nوجادت بالزيارة والو...</td>\n    </tr>\n    <tr>\n      <th>1</th>\n      <td>الإمارات</td>\n      <td>خلفان بن مصبح</td>\n      <td>يا طائر الشعر القرير</td>\n      <td>يا طائر الشعر القرير\\nيا وحي إلهام الصدور\\nأسع...</td>\n    </tr>\n    <tr>\n      <th>2</th>\n      <td>الإمارات</td>\n      <td>خلفان بن مصبح</td>\n      <td>بنت حجرات أرى من عجب</td>\n      <td>بنت حجرات أرى من عجب\\nأن أرى فيك جمال العرب\\nد...</td>\n    </tr>\n    <tr>\n      <th>3</th>\n      <td>الإمارات</td>\n      <td>خلفان بن مصبح</td>\n      <td>هذا الربيع بنور الحسن وافانا</td>\n      <td>هذا الربيع بنور الحسن وافانا\\nوقد كسا الأرض با...</td>\n    </tr>\n    <tr>\n      <th>4</th>\n      <td>الإمارات</td>\n      <td>خلفان بن مصبح</td>\n      <td>روحي فداك وإن مُنحتُ صدوداً</td>\n      <td>روحي فداك وإن مُنحتُ صدوداً\\nأخفاك ما بي أم أط...</td>\n    </tr>\n  </tbody>\n</table>\n</div>"
          },
          "metadata": {}
        }
      ]
    },
    {
      "cell_type": "code",
      "source": [
        "ar_poems1.head()"
      ],
      "metadata": {
        "id": "ZAk-EhrbIq1j",
        "outputId": "49e66a00-3836-4f78-d8bb-05ce6a98171a",
        "execution": {
          "iopub.status.busy": "2023-03-26T15:22:43.550879Z",
          "iopub.execute_input": "2023-03-26T15:22:43.552047Z",
          "iopub.status.idle": "2023-03-26T15:22:43.564426Z",
          "shell.execute_reply.started": "2023-03-26T15:22:43.552002Z",
          "shell.execute_reply": "2023-03-26T15:22:43.563054Z"
        },
        "trusted": true
      },
      "execution_count": null,
      "outputs": [
        {
          "execution_count": 48,
          "output_type": "execute_result",
          "data": {
            "text/plain": "                                           poem_text      poem_title category  \\\n0  عيناك غابتا نخيل ساعة السحر او شرفتان راح يناي...   أنشودة المطر    العراق   \n1   انا لا ازال و في يدي قدحي ياليل اين تفرق الشر...  أقداح و أحلام    العراق   \n2   علي مقلتيك ارتشفت النجوم وعانقت امالي الايبة ...     هوى واحد !    العراق   \n3  اساطير من حشرجات الزمان نسيج اليد البالية رواه...         أساطير    العراق   \n4  والتف حولك ساعداي ومال جيدك في اشتهاء كالزهرة ...  اللقاء الأخير    العراق   \n\n         poet_name  \n0  بدر شاكر السياب  \n1  بدر شاكر السياب  \n2  بدر شاكر السياب  \n3  بدر شاكر السياب  \n4  بدر شاكر السياب  ",
            "text/html": "<div>\n<style scoped>\n    .dataframe tbody tr th:only-of-type {\n        vertical-align: middle;\n    }\n\n    .dataframe tbody tr th {\n        vertical-align: top;\n    }\n\n    .dataframe thead th {\n        text-align: right;\n    }\n</style>\n<table border=\"1\" class=\"dataframe\">\n  <thead>\n    <tr style=\"text-align: right;\">\n      <th></th>\n      <th>poem_text</th>\n      <th>poem_title</th>\n      <th>category</th>\n      <th>poet_name</th>\n    </tr>\n  </thead>\n  <tbody>\n    <tr>\n      <th>0</th>\n      <td>عيناك غابتا نخيل ساعة السحر او شرفتان راح يناي...</td>\n      <td>أنشودة المطر</td>\n      <td>العراق</td>\n      <td>بدر شاكر السياب</td>\n    </tr>\n    <tr>\n      <th>1</th>\n      <td>انا لا ازال و في يدي قدحي ياليل اين تفرق الشر...</td>\n      <td>أقداح و أحلام</td>\n      <td>العراق</td>\n      <td>بدر شاكر السياب</td>\n    </tr>\n    <tr>\n      <th>2</th>\n      <td>علي مقلتيك ارتشفت النجوم وعانقت امالي الايبة ...</td>\n      <td>هوى واحد !</td>\n      <td>العراق</td>\n      <td>بدر شاكر السياب</td>\n    </tr>\n    <tr>\n      <th>3</th>\n      <td>اساطير من حشرجات الزمان نسيج اليد البالية رواه...</td>\n      <td>أساطير</td>\n      <td>العراق</td>\n      <td>بدر شاكر السياب</td>\n    </tr>\n    <tr>\n      <th>4</th>\n      <td>والتف حولك ساعداي ومال جيدك في اشتهاء كالزهرة ...</td>\n      <td>اللقاء الأخير</td>\n      <td>العراق</td>\n      <td>بدر شاكر السياب</td>\n    </tr>\n  </tbody>\n</table>\n</div>"
          },
          "metadata": {}
        }
      ]
    },
    {
      "cell_type": "code",
      "source": [
        "# explore unique categories in the 1st dataset\n",
        "ar_poems.category.unique()"
      ],
      "metadata": {
        "id": "qF_e7VSDIq1k",
        "outputId": "025f0289-3c70-474c-9939-46aecc1ff2dc",
        "execution": {
          "iopub.status.busy": "2023-03-26T15:22:45.348419Z",
          "iopub.execute_input": "2023-03-26T15:22:45.348898Z",
          "iopub.status.idle": "2023-03-26T15:22:45.362218Z",
          "shell.execute_reply.started": "2023-03-26T15:22:45.348849Z",
          "shell.execute_reply": "2023-03-26T15:22:45.360813Z"
        },
        "trusted": true
      },
      "execution_count": null,
      "outputs": [
        {
          "execution_count": 49,
          "output_type": "execute_result",
          "data": {
            "text/plain": "array(['الإمارات', 'البحرين', 'الجزائر', 'السعودية', 'السودان', 'العراق',\n       'المغرب', 'اليمن', 'تونس', 'سوريا', 'عمان', 'فلسطين', 'لبنان',\n       'ليبيا', 'مصر', 'الأردن', 'الكويت', 'قطر', 'موريتانيا',\n       'العصر الجاهلي', 'العصر الإسلامي', 'العصر العباسي',\n       'العصر الايوبي', 'العصر العثماني', 'عصر المخضرمون', 'العصر الاموي',\n       'العصر الأندلسي', 'العصر المملوكي'], dtype=object)"
          },
          "metadata": {}
        }
      ]
    },
    {
      "cell_type": "code",
      "source": [
        "# explore unique categories in the 2nd dataset\n",
        "ar_poems1.category.unique()"
      ],
      "metadata": {
        "id": "Nzm-ReujIq1k",
        "outputId": "27a3e71a-dc73-4faa-da3f-33be3ad9299b",
        "execution": {
          "iopub.status.busy": "2023-03-26T15:22:45.489064Z",
          "iopub.execute_input": "2023-03-26T15:22:45.489666Z",
          "iopub.status.idle": "2023-03-26T15:22:45.503621Z",
          "shell.execute_reply.started": "2023-03-26T15:22:45.489583Z",
          "shell.execute_reply": "2023-03-26T15:22:45.502188Z"
        },
        "trusted": true
      },
      "execution_count": null,
      "outputs": [
        {
          "execution_count": 50,
          "output_type": "execute_result",
          "data": {
            "text/plain": "array(['العراق', 'سوريا', 'مصر', 'تونس', 'السعودية', 'لبنان', 'فلسطين',\n       'اليمن', 'العصر الجاهلي', 'العصر الأندلسي', 'السودان', 'البحرين',\n       'العصر الإسلامي', 'العصر العباسي', 'ليبيا', 'عمان', 'المغرب',\n       'الجزائر', 'الإمارات', 'الأردن', 'الكويت', 'قطر', 'موريتانيا',\n       'شعراء العراق والشام', 'أفغانستان', 'إيران'], dtype=object)"
          },
          "metadata": {}
        }
      ]
    },
    {
      "cell_type": "code",
      "source": [
        "# concat the 2 initial datasets\n",
        "frames = [ar_poems, ar_poems1]\n",
        "result = pd.concat(frames)\n",
        "# reset index\n",
        "result.reset_index(drop=True, inplace=True)\n",
        "#display resulting dataset\n",
        "print('\\nThe entire dataset after merging the two initial datasets is of', len(result),'long.\\n\\n')\n",
        "result.head()"
      ],
      "metadata": {
        "id": "xXakjUb8Iq1k",
        "outputId": "66896182-edfc-4629-d365-51912a90bf84",
        "execution": {
          "iopub.status.busy": "2023-03-26T15:22:47.382295Z",
          "iopub.execute_input": "2023-03-26T15:22:47.382760Z",
          "iopub.status.idle": "2023-03-26T15:22:47.419533Z",
          "shell.execute_reply.started": "2023-03-26T15:22:47.382718Z",
          "shell.execute_reply": "2023-03-26T15:22:47.418353Z"
        },
        "trusted": true
      },
      "execution_count": null,
      "outputs": [
        {
          "name": "stdout",
          "text": "\nThe entire dataset after merging the two initial datasets is of 112965 long.\n\n\n",
          "output_type": "stream"
        },
        {
          "execution_count": 51,
          "output_type": "execute_result",
          "data": {
            "text/plain": "   category      poet_name                    poem_title  \\\n0  الإمارات  خلفان بن مصبح     بدت تختال في حُلل الجمالِ   \n1  الإمارات  خلفان بن مصبح          يا طائر الشعر القرير   \n2  الإمارات  خلفان بن مصبح          بنت حجرات أرى من عجب   \n3  الإمارات  خلفان بن مصبح  هذا الربيع بنور الحسن وافانا   \n4  الإمارات  خلفان بن مصبح   روحي فداك وإن مُنحتُ صدوداً   \n\n                                           poem_text  \n0  بدت تختال في حُلل الجمالِ\\nوجادت بالزيارة والو...  \n1  يا طائر الشعر القرير\\nيا وحي إلهام الصدور\\nأسع...  \n2  بنت حجرات أرى من عجب\\nأن أرى فيك جمال العرب\\nد...  \n3  هذا الربيع بنور الحسن وافانا\\nوقد كسا الأرض با...  \n4  روحي فداك وإن مُنحتُ صدوداً\\nأخفاك ما بي أم أط...  ",
            "text/html": "<div>\n<style scoped>\n    .dataframe tbody tr th:only-of-type {\n        vertical-align: middle;\n    }\n\n    .dataframe tbody tr th {\n        vertical-align: top;\n    }\n\n    .dataframe thead th {\n        text-align: right;\n    }\n</style>\n<table border=\"1\" class=\"dataframe\">\n  <thead>\n    <tr style=\"text-align: right;\">\n      <th></th>\n      <th>category</th>\n      <th>poet_name</th>\n      <th>poem_title</th>\n      <th>poem_text</th>\n    </tr>\n  </thead>\n  <tbody>\n    <tr>\n      <th>0</th>\n      <td>الإمارات</td>\n      <td>خلفان بن مصبح</td>\n      <td>بدت تختال في حُلل الجمالِ</td>\n      <td>بدت تختال في حُلل الجمالِ\\nوجادت بالزيارة والو...</td>\n    </tr>\n    <tr>\n      <th>1</th>\n      <td>الإمارات</td>\n      <td>خلفان بن مصبح</td>\n      <td>يا طائر الشعر القرير</td>\n      <td>يا طائر الشعر القرير\\nيا وحي إلهام الصدور\\nأسع...</td>\n    </tr>\n    <tr>\n      <th>2</th>\n      <td>الإمارات</td>\n      <td>خلفان بن مصبح</td>\n      <td>بنت حجرات أرى من عجب</td>\n      <td>بنت حجرات أرى من عجب\\nأن أرى فيك جمال العرب\\nد...</td>\n    </tr>\n    <tr>\n      <th>3</th>\n      <td>الإمارات</td>\n      <td>خلفان بن مصبح</td>\n      <td>هذا الربيع بنور الحسن وافانا</td>\n      <td>هذا الربيع بنور الحسن وافانا\\nوقد كسا الأرض با...</td>\n    </tr>\n    <tr>\n      <th>4</th>\n      <td>الإمارات</td>\n      <td>خلفان بن مصبح</td>\n      <td>روحي فداك وإن مُنحتُ صدوداً</td>\n      <td>روحي فداك وإن مُنحتُ صدوداً\\nأخفاك ما بي أم أط...</td>\n    </tr>\n  </tbody>\n</table>\n</div>"
          },
          "metadata": {}
        }
      ]
    },
    {
      "cell_type": "code",
      "source": [
        "# check for duplicates in the result dataset\n",
        "print('The result dataset contains', len(result[result.duplicated(keep=False)]), 'duplicate rows.\\n')\n",
        "result[result.duplicated(keep=False)]"
      ],
      "metadata": {
        "id": "_RoViStYIq1l",
        "outputId": "6d013613-c257-4383-950c-dc6bc31a7313",
        "execution": {
          "iopub.status.busy": "2023-03-26T15:22:49.280366Z",
          "iopub.execute_input": "2023-03-26T15:22:49.280794Z",
          "iopub.status.idle": "2023-03-26T15:22:49.640493Z",
          "shell.execute_reply.started": "2023-03-26T15:22:49.280755Z",
          "shell.execute_reply": "2023-03-26T15:22:49.639140Z"
        },
        "trusted": true
      },
      "execution_count": null,
      "outputs": [
        {
          "name": "stdout",
          "text": "The result dataset contains 350 duplicate rows.\n\n",
          "output_type": "stream"
        },
        {
          "execution_count": 52,
          "output_type": "execute_result",
          "data": {
            "text/plain": "       category          poet_name                 poem_title  \\\n524     البحرين          قاسم حداد                     العنبر   \n525     البحرين          قاسم حداد                     العنبر   \n2147     المغرب  أبو الفيض الكتاني          نعمل من لهوى كسوى   \n2148     المغرب  أبو الفيض الكتاني  نور الحق هداني بفضل عطاني   \n2149     المغرب  أبو الفيض الكتاني            أصابني حب الهوى   \n...         ...                ...                        ...   \n96188     سوريا        كمال خير بك                       هرب    \n96895  السعودية    أحمد سالم باعطب            السلم في عرفهم    \n96896  السعودية    أحمد سالم باعطب            السلم في عرفهم    \n96898  السعودية    أحمد سالم باعطب              الحبُّ للقلب    \n96899  السعودية    أحمد سالم باعطب              الحبُّ للقلب    \n\n                                               poem_text  \n524    ليس لي من جراحي غير هذا الزجاج الذي يتحدَّرُ \\...  \n525    ليس لي من جراحي غير هذا الزجاج الذي يتحدَّرُ \\...  \n2147   نعمل من لهوى كسوى\\nومن الثلج والنار حزم\\nونشعل...  \n2148   نور الحق هداني بفضل عطاني\\nمن حلل كساني يا باب...  \n2149   أصابني حب الهوى\\nولم نجد له دوى\\nألا فؤادي قد ...  \n...                                                  ...  \n96188  ورايت انك ترحلين بين السطور النازفه ورايت نهدك...  \n96895   قالت رايت الامس حول حقولنا متسلا هلا رعي حرما...  \n96896   قالت رايت الامس حول حقولنا متسلا هلا رعي حرما...  \n96898   قالت لقد شاخ منك العقل والجسد وغاب عن عزمك ال...  \n96899   قالت لقد شاخ منك العقل والجسد وغاب عن عزمك ال...  \n\n[350 rows x 4 columns]",
            "text/html": "<div>\n<style scoped>\n    .dataframe tbody tr th:only-of-type {\n        vertical-align: middle;\n    }\n\n    .dataframe tbody tr th {\n        vertical-align: top;\n    }\n\n    .dataframe thead th {\n        text-align: right;\n    }\n</style>\n<table border=\"1\" class=\"dataframe\">\n  <thead>\n    <tr style=\"text-align: right;\">\n      <th></th>\n      <th>category</th>\n      <th>poet_name</th>\n      <th>poem_title</th>\n      <th>poem_text</th>\n    </tr>\n  </thead>\n  <tbody>\n    <tr>\n      <th>524</th>\n      <td>البحرين</td>\n      <td>قاسم حداد</td>\n      <td>العنبر</td>\n      <td>ليس لي من جراحي غير هذا الزجاج الذي يتحدَّرُ \\...</td>\n    </tr>\n    <tr>\n      <th>525</th>\n      <td>البحرين</td>\n      <td>قاسم حداد</td>\n      <td>العنبر</td>\n      <td>ليس لي من جراحي غير هذا الزجاج الذي يتحدَّرُ \\...</td>\n    </tr>\n    <tr>\n      <th>2147</th>\n      <td>المغرب</td>\n      <td>أبو الفيض الكتاني</td>\n      <td>نعمل من لهوى كسوى</td>\n      <td>نعمل من لهوى كسوى\\nومن الثلج والنار حزم\\nونشعل...</td>\n    </tr>\n    <tr>\n      <th>2148</th>\n      <td>المغرب</td>\n      <td>أبو الفيض الكتاني</td>\n      <td>نور الحق هداني بفضل عطاني</td>\n      <td>نور الحق هداني بفضل عطاني\\nمن حلل كساني يا باب...</td>\n    </tr>\n    <tr>\n      <th>2149</th>\n      <td>المغرب</td>\n      <td>أبو الفيض الكتاني</td>\n      <td>أصابني حب الهوى</td>\n      <td>أصابني حب الهوى\\nولم نجد له دوى\\nألا فؤادي قد ...</td>\n    </tr>\n    <tr>\n      <th>...</th>\n      <td>...</td>\n      <td>...</td>\n      <td>...</td>\n      <td>...</td>\n    </tr>\n    <tr>\n      <th>96188</th>\n      <td>سوريا</td>\n      <td>كمال خير بك</td>\n      <td>هرب</td>\n      <td>ورايت انك ترحلين بين السطور النازفه ورايت نهدك...</td>\n    </tr>\n    <tr>\n      <th>96895</th>\n      <td>السعودية</td>\n      <td>أحمد سالم باعطب</td>\n      <td>السلم في عرفهم</td>\n      <td>قالت رايت الامس حول حقولنا متسلا هلا رعي حرما...</td>\n    </tr>\n    <tr>\n      <th>96896</th>\n      <td>السعودية</td>\n      <td>أحمد سالم باعطب</td>\n      <td>السلم في عرفهم</td>\n      <td>قالت رايت الامس حول حقولنا متسلا هلا رعي حرما...</td>\n    </tr>\n    <tr>\n      <th>96898</th>\n      <td>السعودية</td>\n      <td>أحمد سالم باعطب</td>\n      <td>الحبُّ للقلب</td>\n      <td>قالت لقد شاخ منك العقل والجسد وغاب عن عزمك ال...</td>\n    </tr>\n    <tr>\n      <th>96899</th>\n      <td>السعودية</td>\n      <td>أحمد سالم باعطب</td>\n      <td>الحبُّ للقلب</td>\n      <td>قالت لقد شاخ منك العقل والجسد وغاب عن عزمك ال...</td>\n    </tr>\n  </tbody>\n</table>\n<p>350 rows × 4 columns</p>\n</div>"
          },
          "metadata": {}
        }
      ]
    },
    {
      "cell_type": "code",
      "source": [
        "# remove the 175 duplicates\n",
        "result.drop_duplicates(inplace=True)\n",
        "print('\\nThe result dataset is of', len(result),'long.\\n\\n')"
      ],
      "metadata": {
        "id": "83vFw4RCIq1l",
        "outputId": "be0b586b-6579-4a86-9dfa-5b3390389a1c",
        "execution": {
          "iopub.status.busy": "2023-03-26T15:22:50.439409Z",
          "iopub.execute_input": "2023-03-26T15:22:50.439916Z",
          "iopub.status.idle": "2023-03-26T15:22:50.557183Z",
          "shell.execute_reply.started": "2023-03-26T15:22:50.439877Z",
          "shell.execute_reply": "2023-03-26T15:22:50.555860Z"
        },
        "trusted": true
      },
      "execution_count": null,
      "outputs": [
        {
          "name": "stdout",
          "text": "\nThe result dataset is of 112790 long.\n\n\n",
          "output_type": "stream"
        }
      ]
    },
    {
      "cell_type": "code",
      "source": [
        "result.info()"
      ],
      "metadata": {
        "id": "EBFgmE16Iq1l",
        "outputId": "c731e110-1a9e-45e6-b64b-8143f3637305",
        "execution": {
          "iopub.status.busy": "2023-03-26T15:22:50.638020Z",
          "iopub.execute_input": "2023-03-26T15:22:50.638730Z",
          "iopub.status.idle": "2023-03-26T15:22:50.687153Z",
          "shell.execute_reply.started": "2023-03-26T15:22:50.638680Z",
          "shell.execute_reply": "2023-03-26T15:22:50.685476Z"
        },
        "trusted": true
      },
      "execution_count": null,
      "outputs": [
        {
          "name": "stdout",
          "text": "<class 'pandas.core.frame.DataFrame'>\nInt64Index: 112790 entries, 0 to 112964\nData columns (total 4 columns):\n #   Column      Non-Null Count   Dtype \n---  ------      --------------   ----- \n 0   category    112790 non-null  object\n 1   poet_name   112790 non-null  object\n 2   poem_title  112790 non-null  object\n 3   poem_text   112789 non-null  object\ndtypes: object(4)\nmemory usage: 4.3+ MB\n",
          "output_type": "stream"
        }
      ]
    },
    {
      "cell_type": "code",
      "source": [
        "# remove the only row which misses \"poem_text\"\n",
        "result.dropna(inplace=True)"
      ],
      "metadata": {
        "id": "i43RLHIHIq1m",
        "execution": {
          "iopub.status.busy": "2023-03-26T15:22:52.452465Z",
          "iopub.execute_input": "2023-03-26T15:22:52.453790Z",
          "iopub.status.idle": "2023-03-26T15:22:52.510623Z",
          "shell.execute_reply.started": "2023-03-26T15:22:52.453726Z",
          "shell.execute_reply": "2023-03-26T15:22:52.509347Z"
        },
        "trusted": true
      },
      "execution_count": null,
      "outputs": []
    },
    {
      "cell_type": "code",
      "source": [
        "# explore unique categories in the result dataset\n",
        "result.category.unique()"
      ],
      "metadata": {
        "id": "KRykvNm_Iq1m",
        "outputId": "35d3213a-cb90-4108-c604-4313a74a0fd5",
        "execution": {
          "iopub.status.busy": "2023-03-26T15:22:52.634751Z",
          "iopub.execute_input": "2023-03-26T15:22:52.636054Z",
          "iopub.status.idle": "2023-03-26T15:22:52.655462Z",
          "shell.execute_reply.started": "2023-03-26T15:22:52.635995Z",
          "shell.execute_reply": "2023-03-26T15:22:52.653918Z"
        },
        "trusted": true
      },
      "execution_count": null,
      "outputs": [
        {
          "execution_count": 56,
          "output_type": "execute_result",
          "data": {
            "text/plain": "array(['الإمارات', 'البحرين', 'الجزائر', 'السعودية', 'السودان', 'العراق',\n       'المغرب', 'اليمن', 'تونس', 'سوريا', 'عمان', 'فلسطين', 'لبنان',\n       'ليبيا', 'مصر', 'الأردن', 'الكويت', 'قطر', 'موريتانيا',\n       'العصر الجاهلي', 'العصر الإسلامي', 'العصر العباسي',\n       'العصر الايوبي', 'العصر العثماني', 'عصر المخضرمون', 'العصر الاموي',\n       'العصر الأندلسي', 'العصر المملوكي', 'شعراء العراق والشام',\n       'أفغانستان', 'إيران'], dtype=object)"
          },
          "metadata": {}
        }
      ]
    },
    {
      "cell_type": "code",
      "source": [
        "# import nature corpus\n",
        "nature_list = open(\"../input/words/nature.txt\", \"r\", encoding=\"utf-8\").read()\n",
        "nature_words = word_tokenize(nature_list)\n",
        "# import animals corpus\n",
        "animals_list = open(\"../input/words/animals.txt\", \"r\", encoding=\"utf-8\").read()\n",
        "animal_words = word_tokenize(animals_list)\n",
        "# import metaphysics corpus\n",
        "meta_list = open(\"../input/meta-words/allah.txt\", \"r\", encoding=\"utf-8\").read()\n",
        "meta_words = word_tokenize(meta_list)\n",
        "# import war corpus\n",
        "war_list = open(\"../input/war_words_arabic/war.txt\", \"r\", encoding=\"utf-8\").read()\n",
        "war_words = word_tokenize(war_list)"
      ],
      "metadata": {
        "id": "cFPcVa-xIq1m",
        "execution": {
          "iopub.status.busy": "2023-03-26T13:07:09.469679Z",
          "iopub.execute_input": "2023-03-26T13:07:09.472984Z",
          "iopub.status.idle": "2023-03-26T13:07:09.487153Z",
          "shell.execute_reply.started": "2023-03-26T13:07:09.472905Z",
          "shell.execute_reply": "2023-03-26T13:07:09.485895Z"
        },
        "trusted": true
      },
      "execution_count": null,
      "outputs": []
    },
    {
      "cell_type": "code",
      "source": [
        "print('nature-related words are:', nature_list)\n",
        "print('\\nanimals-related words are:', animals_list)\n",
        "print('\\nmeta-related words are:', meta_list)\n",
        "print('\\nwar-related words are:', war_list)"
      ],
      "metadata": {
        "execution": {
          "iopub.status.busy": "2023-03-26T15:23:09.606880Z",
          "iopub.execute_input": "2023-03-26T15:23:09.607337Z",
          "iopub.status.idle": "2023-03-26T15:23:09.614199Z",
          "shell.execute_reply.started": "2023-03-26T15:23:09.607291Z",
          "shell.execute_reply": "2023-03-26T15:23:09.612928Z"
        },
        "trusted": true,
        "id": "82YBNEbJk8F-",
        "outputId": "28435259-89cc-410b-9988-703f4465b80f"
      },
      "execution_count": null,
      "outputs": [
        {
          "name": "stdout",
          "text": "nature-related words are: صواعق بحر بحار نجوم نجم سماء سحاب السحب جبل غصن شجر صحراء غابة حقل وردة ورود أزهار زهرة صخر حجر كوكب مجرة رياح نار شمس قمر شموس أقمار ثلج صيف شتاء خريف ربيع مطر رعد برق جبال\n\nanimals-related words are: فراشة اسد ثعلب ثعالب اسود حشرة وحش نملة نحلة فراشة فراشات نمر كلب فيل زرافة ذئب خروف خراف نعجة نعاج بقرة ثور جمل ناقة كلاب قطة هرة هرر ضبع ضباع خنزير خنازير حمار انعام حمير غزال غزلان حوت قرد قرود الخيل الخيول الفرس حصان جياد شبل جرو طائر عصفور عصافير طير طيور دجاج ارنب عنكبوت دب نسر تمساح جراد عقرب فأر ضفدع بلبل صقر سمك أسماك\n\nmeta-related words are: الله جن ملائكة ملاك شيطان ابليس جنة نار فردوس نبي رسول جهنم قيامة بعث جحيم إله وحي الرحمن\n\nwar-related words are: صراع عراك غارة قتال قتل مأزق معركة معمعة ملحة ملحمة موقعة معترك مقتتل نزال هيجاء وغى وقيعة وقعة حرب\n",
          "output_type": "stream"
        }
      ]
    },
    {
      "cell_type": "code",
      "source": [
        "# define a function that counts the number of occurrences of a specific corpus' words in a list of poems\n",
        "def count_words(words, poems):\n",
        "    freq = 0\n",
        "    for word in words:\n",
        "        for poem in poems:\n",
        "            if word in poem:\n",
        "                freq += 1\n",
        "    return freq"
      ],
      "metadata": {
        "id": "whqT4BngIq1n",
        "execution": {
          "iopub.status.busy": "2023-03-26T15:23:15.577512Z",
          "iopub.execute_input": "2023-03-26T15:23:15.577980Z",
          "iopub.status.idle": "2023-03-26T15:23:15.584384Z",
          "shell.execute_reply.started": "2023-03-26T15:23:15.577938Z",
          "shell.execute_reply": "2023-03-26T15:23:15.583197Z"
        },
        "trusted": true
      },
      "execution_count": null,
      "outputs": []
    },
    {
      "cell_type": "code",
      "source": [
        "# store all poem texts in a list\n",
        "ar_poems_text = list(result['poem_text'])\n",
        "# get the number of occurrences for each of the imported corpora's words in all poems\n",
        "nature_freq = count_words(nature_words, ar_poems_text)\n",
        "animals_freq = count_words(animal_words, ar_poems_text)\n",
        "meta_freq = count_words(meta_words, ar_poems_text)\n",
        "war_freq = count_words(war_words, ar_poems_text)"
      ],
      "metadata": {
        "id": "K6_3l-1IIq1n",
        "execution": {
          "iopub.status.busy": "2023-03-26T15:24:12.038390Z",
          "iopub.execute_input": "2023-03-26T15:24:12.039708Z",
          "iopub.status.idle": "2023-03-26T15:24:23.558778Z",
          "shell.execute_reply.started": "2023-03-26T15:24:12.039615Z",
          "shell.execute_reply": "2023-03-26T15:24:23.557423Z"
        },
        "trusted": true
      },
      "execution_count": null,
      "outputs": []
    },
    {
      "cell_type": "code",
      "source": [
        "print('There is', nature_freq, 'nature-related words,', war_freq, 'war-related words', animals_freq, 'animals-related words, and',\n",
        "      meta_freq, 'Metaphysics-related words in the dataset.')"
      ],
      "metadata": {
        "id": "d6muo_KaIq1n",
        "outputId": "3eb6dfa5-a98c-488b-98b5-63557027fbe5",
        "execution": {
          "iopub.status.busy": "2023-03-26T15:24:23.561173Z",
          "iopub.execute_input": "2023-03-26T15:24:23.561551Z",
          "iopub.status.idle": "2023-03-26T15:24:23.567244Z",
          "shell.execute_reply.started": "2023-03-26T15:24:23.561514Z",
          "shell.execute_reply": "2023-03-26T15:24:23.566009Z"
        },
        "trusted": true
      },
      "execution_count": null,
      "outputs": [
        {
          "name": "stdout",
          "text": "There is 108283 nature-related words, 14509 war-related words 59957 animals-related words, and 75476 Metaphysics-related words in the dataset.\n",
          "output_type": "stream"
        }
      ]
    },
    {
      "cell_type": "markdown",
      "source": [
        "## الشعر الجاهلي - Jahli Era Poetry (pre-islam)"
      ],
      "metadata": {
        "execution": {
          "iopub.status.busy": "2023-03-14T20:38:35.834650Z",
          "iopub.execute_input": "2023-03-14T20:38:35.835793Z",
          "iopub.status.idle": "2023-03-14T20:38:35.848101Z",
          "shell.execute_reply.started": "2023-03-14T20:38:35.835740Z",
          "shell.execute_reply": "2023-03-14T20:38:35.846618Z"
        },
        "id": "KtZJUd8zIq1n"
      }
    },
    {
      "cell_type": "code",
      "source": [
        "# store the \"jahli\" poems into a list\n",
        "jahli_df = result.loc[result['category'] == \"العصر الجاهلي\"]\n",
        "jahli_text = list(jahli_df['poem_text'])\n",
        "# get the number of occurrences for each of the imported corpora's words in \"jahli\" poems\n",
        "jahli_nature_freq = count_words(nature_words, jahli_text)\n",
        "jahli_animals_freq = count_words(animal_words, jahli_text)\n",
        "jahli_meta_freq = count_words(meta_words, jahli_text)\n",
        "jahli_war_freq = count_words(war_words, jahli_text)"
      ],
      "metadata": {
        "id": "SJwfr6ozIq1o",
        "execution": {
          "iopub.status.busy": "2023-03-26T15:24:45.670063Z",
          "iopub.execute_input": "2023-03-26T15:24:45.670494Z",
          "iopub.status.idle": "2023-03-26T15:24:45.916029Z",
          "shell.execute_reply.started": "2023-03-26T15:24:45.670458Z",
          "shell.execute_reply": "2023-03-26T15:24:45.914856Z"
        },
        "trusted": true
      },
      "execution_count": null,
      "outputs": []
    },
    {
      "cell_type": "code",
      "source": [
        "# compute the rate of the existence of each corpora's words in \"jahli\" examples\n",
        "jahli_rate_animal = jahli_animals_freq/len(jahli_df)\n",
        "jahli_rate_nature = jahli_nature_freq/len(jahli_df)\n",
        "jahli_rate_meta = jahli_meta_freq/len(jahli_df)\n",
        "jahli_war_rate = jahli_war_freq/len(jahli_df)\n",
        "\n",
        "print(\"The number of repetitions of animal-related words in jahli-era poetry is\", jahli_animals_freq, 'times, with an average of', jahli_rate_animal)\n",
        "print(\"The number of repetitions of nature-related words in jahli-era poetry is\", jahli_nature_freq, 'times, with an average of', jahli_rate_nature)\n",
        "print(\"The number of repetitions of metaphysics-related words in jahli-era poetry is\", jahli_meta_freq, 'times, with an average of', jahli_rate_meta)\n",
        "print(\"The number of repetitions of war-related words in jahli-era poetry is\", jahli_war_freq, 'times, with an average of', jahli_war_rate)"
      ],
      "metadata": {
        "id": "UIPqVKxrIq1p",
        "outputId": "fa7f8e84-aa4b-4a89-cc5a-89581551a54e",
        "execution": {
          "iopub.status.busy": "2023-03-26T15:25:00.252275Z",
          "iopub.execute_input": "2023-03-26T15:25:00.252705Z",
          "iopub.status.idle": "2023-03-26T15:25:00.261231Z",
          "shell.execute_reply.started": "2023-03-26T15:25:00.252668Z",
          "shell.execute_reply": "2023-03-26T15:25:00.259973Z"
        },
        "trusted": true
      },
      "execution_count": null,
      "outputs": [
        {
          "name": "stdout",
          "text": "The number of repetitions of animal-related words in jahli-era poetry is 1344 times, with an average of 0.40275696733593047\nThe number of repetitions of nature-related words in jahli-era poetry is 1238 times, with an average of 0.3709919089002098\nThe number of repetitions of metaphysics-related words in jahli-era poetry is 980 times, with an average of 0.293676955349116\nThe number of repetitions of war-related words in jahli-era poetry is 442 times, with an average of 0.13245430026970334\n",
          "output_type": "stream"
        }
      ]
    },
    {
      "cell_type": "markdown",
      "source": [
        "## Islamic Era - الشعر في العصر الإسلامي\n"
      ],
      "metadata": {
        "id": "No7od5LLIq1p"
      }
    },
    {
      "cell_type": "code",
      "source": [
        "# store the \"islamic\" poems into a list\n",
        "islamic_df = result.loc[result['category'] == \"العصر الإسلامي\"]\n",
        "islamic_text = list(islamic_df['poem_text'])\n",
        "# get the number of occurrences for each of the imported corpora's words in \"islamic\" poems\n",
        "islamic_animals_freq = count_words(animal_words, islamic_text)\n",
        "islamic_nature_freq = count_words(nature_words, islamic_text)\n",
        "islamic_meta_freq = count_words(meta_words, islamic_text)\n",
        "islamic_war_freq = count_words(war_words, islamic_text)"
      ],
      "metadata": {
        "id": "JpBu_krWIq1p",
        "execution": {
          "iopub.status.busy": "2023-03-26T15:25:10.063326Z",
          "iopub.execute_input": "2023-03-26T15:25:10.063788Z",
          "iopub.status.idle": "2023-03-26T15:25:10.390285Z",
          "shell.execute_reply.started": "2023-03-26T15:25:10.063747Z",
          "shell.execute_reply": "2023-03-26T15:25:10.389220Z"
        },
        "trusted": true
      },
      "execution_count": null,
      "outputs": []
    },
    {
      "cell_type": "code",
      "source": [
        "# compute the rate of the existence of each corpora's words in \"islamic\" examples\n",
        "islamic_rate_animal = islamic_animals_freq/len(islamic_df)\n",
        "islamic_rate_nature = islamic_nature_freq/len(islamic_df)\n",
        "islamic_rate_meta = islamic_meta_freq/len(islamic_df)\n",
        "islamic_war_rate = islamic_war_freq/len(islamic_df)\n",
        "\n",
        "print(\"The number of repetitions of animal-related words in islamic-era poetry is\", islamic_animals_freq, 'times, with an average of', islamic_rate_animal)\n",
        "print(\"The number of repetitions of nature-related words in islamic-era poetry is\", islamic_nature_freq, 'times, with an average of', islamic_rate_nature)\n",
        "print(\"The number of repetitions of meta-related words in islamic-era poetry is\", islamic_meta_freq, 'times, with an average of', islamic_rate_meta)\n",
        "print(\"The number of repetitions of war-related words in islamic-era poetry is\", islamic_war_freq, 'times, with an average of', islamic_war_rate)"
      ],
      "metadata": {
        "id": "b38bM2GmIq1q",
        "outputId": "a1503b05-4fc0-48b8-a53c-fb95ab2742e4",
        "execution": {
          "iopub.status.busy": "2023-03-26T15:25:21.856661Z",
          "iopub.execute_input": "2023-03-26T15:25:21.857057Z",
          "iopub.status.idle": "2023-03-26T15:25:21.865969Z",
          "shell.execute_reply.started": "2023-03-26T15:25:21.857023Z",
          "shell.execute_reply": "2023-03-26T15:25:21.864278Z"
        },
        "trusted": true
      },
      "execution_count": null,
      "outputs": [
        {
          "name": "stdout",
          "text": "The number of repetitions of animal-related words in islamic-era poetry is 2254 times, with an average of 0.5763231909997443\nThe number of repetitions of nature-related words in islamic-era poetry is 2766 times, with an average of 0.7072360010227563\nThe number of repetitions of meta-related words in islamic-era poetry is 1810 times, with an average of 0.4627972385579136\nThe number of repetitions of war-related words in islamic-era poetry is 801 times, with an average of 0.20480695474303248\n",
          "output_type": "stream"
        }
      ]
    },
    {
      "cell_type": "markdown",
      "source": [
        "## Andalus Era - الشعر في العصر الأندلسي"
      ],
      "metadata": {
        "id": "ZtTXE4HFIq1q"
      }
    },
    {
      "cell_type": "code",
      "source": [
        "# store the \"andalus\" poems into a list\n",
        "andalus_df = result.loc[result['category'] == \"العصر الأندلسي\"]\n",
        "andalus_df"
      ],
      "metadata": {
        "id": "K2-yC3GwIq1q",
        "outputId": "3edf0a2a-792d-4769-a61e-0c3bf36da7d3",
        "execution": {
          "iopub.status.busy": "2023-03-26T15:25:29.908923Z",
          "iopub.execute_input": "2023-03-26T15:25:29.909349Z",
          "iopub.status.idle": "2023-03-26T15:25:29.936726Z",
          "shell.execute_reply.started": "2023-03-26T15:25:29.909313Z",
          "shell.execute_reply": "2023-03-26T15:25:29.935332Z"
        },
        "trusted": true
      },
      "execution_count": null,
      "outputs": [
        {
          "execution_count": 66,
          "output_type": "execute_result",
          "data": {
            "text/plain": "              category        poet_name                       poem_title  \\\n42648   العصر الأندلسي         ابن حيوس         طيف ألم قبيل منصدع الضيا   \n42649   العصر الأندلسي         ابن حيوس          أما وبديع ما تأتي يمينا   \n42650   العصر الأندلسي         ابن حيوس      عداكم هوى مذ شفنا ما تعدانا   \n42651   العصر الأندلسي         ابن حيوس          بنصرك يدرك الفتح المبين   \n42652   العصر الأندلسي         ابن حيوس       ظن الأراك لدى واديه أظعانا   \n...                ...              ...                              ...   \n112925  العصر الأندلسي  المعتمد بن عباد  صَنَعَ الرّيحُ من الماءِ زَرَد    \n112926  العصر الأندلسي  المعتمد بن عباد              كأنَّها فوقَ العصا    \n112927  العصر الأندلسي  المعتمد بن عباد     انظرهما في الظّلام قد نجَما    \n112928  العصر الأندلسي  المعتمد بن عباد      هذا المؤذِّن قد بدا بأذانه    \n112929  العصر الأندلسي  المعتمد بن عباد         يا سيّدي يا معدن العلمِ    \n\n                                                poem_text  \n42648   طَيفٌ ألمَّ قُبَيْل منصدعِ الضيا\\nليثير من وجد...  \n42649   أَما وَبَديعِ ما تَأتي يَمينا\\nتَحَرَّجَ رَبُّ...  \n42650   عَداكُم هَوىً مُذ شَفَّنا ما تَعَدّانا\\nفَهَوّ...  \n42651   بِنَصرِكَ يُدرَكُ الفَتحُ المُبينُ\\nوَعِندَكَ ...  \n42652   ظَنَّ الأَراكَ لَدى واديهِ أَظعانا\\nفَلَم يُطِ...  \n...                                                   ...  \n112925       صنع الريح من الماء زرد (اي درع لقتال لو جمد)  \n112926                    كانها فوق العصا (هامة زنجي عصي)  \n112927  انظرهما في الظلام قد نجما* انظرهما في الظلام ق...  \n112928  هذا المءذن قد بدا باذانه* هذا المءذن قد بدا با...  \n112929   يا سيدي يا معدن العلم يا الة لحرب والسلم وجه ...  \n\n[9533 rows x 4 columns]",
            "text/html": "<div>\n<style scoped>\n    .dataframe tbody tr th:only-of-type {\n        vertical-align: middle;\n    }\n\n    .dataframe tbody tr th {\n        vertical-align: top;\n    }\n\n    .dataframe thead th {\n        text-align: right;\n    }\n</style>\n<table border=\"1\" class=\"dataframe\">\n  <thead>\n    <tr style=\"text-align: right;\">\n      <th></th>\n      <th>category</th>\n      <th>poet_name</th>\n      <th>poem_title</th>\n      <th>poem_text</th>\n    </tr>\n  </thead>\n  <tbody>\n    <tr>\n      <th>42648</th>\n      <td>العصر الأندلسي</td>\n      <td>ابن حيوس</td>\n      <td>طيف ألم قبيل منصدع الضيا</td>\n      <td>طَيفٌ ألمَّ قُبَيْل منصدعِ الضيا\\nليثير من وجد...</td>\n    </tr>\n    <tr>\n      <th>42649</th>\n      <td>العصر الأندلسي</td>\n      <td>ابن حيوس</td>\n      <td>أما وبديع ما تأتي يمينا</td>\n      <td>أَما وَبَديعِ ما تَأتي يَمينا\\nتَحَرَّجَ رَبُّ...</td>\n    </tr>\n    <tr>\n      <th>42650</th>\n      <td>العصر الأندلسي</td>\n      <td>ابن حيوس</td>\n      <td>عداكم هوى مذ شفنا ما تعدانا</td>\n      <td>عَداكُم هَوىً مُذ شَفَّنا ما تَعَدّانا\\nفَهَوّ...</td>\n    </tr>\n    <tr>\n      <th>42651</th>\n      <td>العصر الأندلسي</td>\n      <td>ابن حيوس</td>\n      <td>بنصرك يدرك الفتح المبين</td>\n      <td>بِنَصرِكَ يُدرَكُ الفَتحُ المُبينُ\\nوَعِندَكَ ...</td>\n    </tr>\n    <tr>\n      <th>42652</th>\n      <td>العصر الأندلسي</td>\n      <td>ابن حيوس</td>\n      <td>ظن الأراك لدى واديه أظعانا</td>\n      <td>ظَنَّ الأَراكَ لَدى واديهِ أَظعانا\\nفَلَم يُطِ...</td>\n    </tr>\n    <tr>\n      <th>...</th>\n      <td>...</td>\n      <td>...</td>\n      <td>...</td>\n      <td>...</td>\n    </tr>\n    <tr>\n      <th>112925</th>\n      <td>العصر الأندلسي</td>\n      <td>المعتمد بن عباد</td>\n      <td>صَنَعَ الرّيحُ من الماءِ زَرَد</td>\n      <td>صنع الريح من الماء زرد (اي درع لقتال لو جمد)</td>\n    </tr>\n    <tr>\n      <th>112926</th>\n      <td>العصر الأندلسي</td>\n      <td>المعتمد بن عباد</td>\n      <td>كأنَّها فوقَ العصا</td>\n      <td>كانها فوق العصا (هامة زنجي عصي)</td>\n    </tr>\n    <tr>\n      <th>112927</th>\n      <td>العصر الأندلسي</td>\n      <td>المعتمد بن عباد</td>\n      <td>انظرهما في الظّلام قد نجَما</td>\n      <td>انظرهما في الظلام قد نجما* انظرهما في الظلام ق...</td>\n    </tr>\n    <tr>\n      <th>112928</th>\n      <td>العصر الأندلسي</td>\n      <td>المعتمد بن عباد</td>\n      <td>هذا المؤذِّن قد بدا بأذانه</td>\n      <td>هذا المءذن قد بدا باذانه* هذا المءذن قد بدا با...</td>\n    </tr>\n    <tr>\n      <th>112929</th>\n      <td>العصر الأندلسي</td>\n      <td>المعتمد بن عباد</td>\n      <td>يا سيّدي يا معدن العلمِ</td>\n      <td>يا سيدي يا معدن العلم يا الة لحرب والسلم وجه ...</td>\n    </tr>\n  </tbody>\n</table>\n<p>9533 rows × 4 columns</p>\n</div>"
          },
          "metadata": {}
        }
      ]
    },
    {
      "cell_type": "code",
      "source": [
        "andalus_text = list(andalus_df['poem_text'])\n",
        "# get the number of occurrences for each of the imported corpora's words in \"andalus\" poems\n",
        "andalus_animals_freq = count_words(animal_words, andalus_text)\n",
        "andalus_nature_freq = count_words(nature_words, andalus_text)\n",
        "andalus_meta_freq = count_words(meta_words, andalus_text)\n",
        "andalus_war_freq = count_words(war_words, andalus_text)"
      ],
      "metadata": {
        "id": "Np5UAPekIq1q",
        "execution": {
          "iopub.status.busy": "2023-03-26T15:25:37.993511Z",
          "iopub.execute_input": "2023-03-26T15:25:37.994432Z",
          "iopub.status.idle": "2023-03-26T15:25:39.076484Z",
          "shell.execute_reply.started": "2023-03-26T15:25:37.994382Z",
          "shell.execute_reply": "2023-03-26T15:25:39.075572Z"
        },
        "trusted": true
      },
      "execution_count": null,
      "outputs": []
    },
    {
      "cell_type": "code",
      "source": [
        "# compute the rate of the existence of each corpora's words in \"andalus\" examples\n",
        "andalus_rate_animal = andalus_animals_freq/len(andalus_df)\n",
        "andalus_rate_nature = andalus_nature_freq/len(andalus_df)\n",
        "andalus_rate_meta = andalus_meta_freq/len(andalus_df)\n",
        "andalus_rate_war = andalus_war_freq/len(andalus_df)\n",
        "\n",
        "print(\"The number of repetitions of animal-related words in andalus-era poetry is\", andalus_animals_freq, 'times, with an average of', andalus_rate_animal)\n",
        "print(\"The number of repetitions of nature-related words in andalus-era poetry is\", andalus_nature_freq, 'times, with an average of', andalus_rate_nature)\n",
        "print(\"The number of repetitions of meta-related words in andalus-era poetry is\", andalus_meta_freq, 'times, with an average of', andalus_rate_meta)\n",
        "print(\"The number of repetitions of war-related words in andalus-era poetry is\", andalus_war_freq, 'times, with an average of', andalus_rate_war)"
      ],
      "metadata": {
        "id": "6O7aTU0YIq1r",
        "outputId": "d208e067-f633-4d6c-9974-2cd5a28fcca9",
        "execution": {
          "iopub.status.busy": "2023-03-26T15:25:48.285518Z",
          "iopub.execute_input": "2023-03-26T15:25:48.285937Z",
          "iopub.status.idle": "2023-03-26T15:25:48.294577Z",
          "shell.execute_reply.started": "2023-03-26T15:25:48.285900Z",
          "shell.execute_reply": "2023-03-26T15:25:48.293244Z"
        },
        "trusted": true
      },
      "execution_count": null,
      "outputs": [
        {
          "name": "stdout",
          "text": "The number of repetitions of animal-related words in andalus-era poetry is 5309 times, with an average of 0.5569075841812651\nThe number of repetitions of nature-related words in andalus-era poetry is 10178 times, with an average of 1.0676597083814119\nThe number of repetitions of meta-related words in andalus-era poetry is 6831 times, with an average of 0.7165635162068604\nThe number of repetitions of war-related words in andalus-era poetry is 1494 times, with an average of 0.15671876639043322\n",
          "output_type": "stream"
        }
      ]
    },
    {
      "cell_type": "markdown",
      "source": [
        "## Comparison:"
      ],
      "metadata": {
        "id": "g9fVdePBIq1r"
      }
    },
    {
      "cell_type": "code",
      "source": [
        "eras = ['jahlia', 'islamic', 'Andalus']\n",
        "# compare nature rates in \"jahlia\", \"islamic\" and \"andalus\" poems\n",
        "rates = [jahli_rate_nature, islamic_rate_nature, andalus_rate_nature]\n",
        "\n",
        "sns.set_style('whitegrid')\n",
        "sns.barplot(x=eras, y=rates)\n",
        "plt.title('Nature in Jahlia, Islamic, and Andalus Poetry')\n",
        "plt.show()"
      ],
      "metadata": {
        "id": "yRng5KrnIq1r",
        "outputId": "015860cc-58fe-4d5b-eb5f-7db660b62e75",
        "execution": {
          "iopub.status.busy": "2023-03-26T15:26:00.186411Z",
          "iopub.execute_input": "2023-03-26T15:26:00.186827Z",
          "iopub.status.idle": "2023-03-26T15:26:00.402921Z",
          "shell.execute_reply.started": "2023-03-26T15:26:00.186790Z",
          "shell.execute_reply": "2023-03-26T15:26:00.401710Z"
        },
        "trusted": true
      },
      "execution_count": null,
      "outputs": [
        {
          "output_type": "display_data",
          "data": {
            "text/plain": "<Figure size 640x480 with 1 Axes>",
            "image/png": "[encoded data removed]"
          },
          "metadata": {}
        }
      ]
    },
    {
      "cell_type": "code",
      "source": [
        "# compare animals rates in \"jahlia\", \"islamic\" and \"andalus\" poems\n",
        "rates = [jahli_rate_animal, islamic_rate_animal, andalus_rate_animal]\n",
        "\n",
        "sns.set_style('whitegrid')\n",
        "sns.barplot(x=eras, y=rates)\n",
        "plt.title('Animals in Jahlia, Islamic, and Andalus Poetry')\n",
        "plt.show()"
      ],
      "metadata": {
        "id": "TfPVzNqJIq1r",
        "outputId": "887c1630-4402-4532-a5f3-b6ac45d77b06",
        "execution": {
          "iopub.status.busy": "2023-03-26T15:26:09.210926Z",
          "iopub.execute_input": "2023-03-26T15:26:09.213027Z",
          "iopub.status.idle": "2023-03-26T15:26:09.429702Z",
          "shell.execute_reply.started": "2023-03-26T15:26:09.212973Z",
          "shell.execute_reply": "2023-03-26T15:26:09.428377Z"
        },
        "trusted": true
      },
      "execution_count": null,
      "outputs": [
        {
          "output_type": "display_data",
          "data": {
            "text/plain": "<Figure size 640x480 with 1 Axes>",
            "image/png": "[encoded data removed]"
          },
          "metadata": {}
        }
      ]
    },
    {
      "cell_type": "code",
      "source": [
        "# compare meta rates in \"jahlia\", \"islamic\" and \"andalus\" poems\n",
        "rates = [jahli_rate_meta,islamic_rate_meta, andalus_rate_meta]\n",
        "\n",
        "sns.set_style('whitegrid')\n",
        "sns.barplot(x=eras, y=rates)\n",
        "plt.title('Meta in Jahlia, Islamic, and Andalus Poetry')\n",
        "plt.show()"
      ],
      "metadata": {
        "id": "cLncmSKyIq1r",
        "outputId": "26a11897-e9d9-4fd1-fc6b-59bc307c0355",
        "execution": {
          "iopub.status.busy": "2023-03-26T15:26:25.252477Z",
          "iopub.execute_input": "2023-03-26T15:26:25.253711Z",
          "iopub.status.idle": "2023-03-26T15:26:25.474450Z",
          "shell.execute_reply.started": "2023-03-26T15:26:25.253661Z",
          "shell.execute_reply": "2023-03-26T15:26:25.473057Z"
        },
        "trusted": true
      },
      "execution_count": null,
      "outputs": [
        {
          "output_type": "display_data",
          "data": {
            "text/plain": "<Figure size 640x480 with 1 Axes>",
            "image/png": "[encoded data removed]"
          },
          "metadata": {}
        }
      ]
    },
    {
      "cell_type": "code",
      "source": [
        "# compare war rates in \"jahlia\", \"islamic\" and \"andalus\" poems\n",
        "rates = [jahli_war_rate, islamic_war_rate, andalus_rate_war]\n",
        "\n",
        "sns.set_style('whitegrid')\n",
        "sns.barplot(x=eras, y=rates)\n",
        "plt.title('War in Jahlia, Islamic, and Andalus Poetry')\n",
        "plt.show()"
      ],
      "metadata": {
        "id": "vA102DHp-mYY",
        "outputId": "3fece625-a1b0-4d69-ec80-6993de8f4c69",
        "execution": {
          "iopub.status.busy": "2023-03-26T15:26:34.535495Z",
          "iopub.execute_input": "2023-03-26T15:26:34.536322Z",
          "iopub.status.idle": "2023-03-26T15:26:34.758120Z",
          "shell.execute_reply.started": "2023-03-26T15:26:34.536272Z",
          "shell.execute_reply": "2023-03-26T15:26:34.756822Z"
        },
        "trusted": true
      },
      "execution_count": null,
      "outputs": [
        {
          "output_type": "display_data",
          "data": {
            "text/plain": "<Figure size 640x480 with 1 Axes>",
            "image/png": "[encoded data removed]"
          },
          "metadata": {}
        }
      ]
    },
    {
      "cell_type": "markdown",
      "source": [
        "# Data Preprocessing:"
      ],
      "metadata": {
        "id": "z0KQEIJhIq1s"
      }
    },
    {
      "cell_type": "code",
      "source": [
        "# explore unique categories in the 1st dataset\n",
        "result.category.unique()"
      ],
      "metadata": {
        "id": "z-yULuIVIq1s",
        "outputId": "4c331cec-f3ee-417a-aea2-d33797a8bf05",
        "execution": {
          "iopub.status.busy": "2023-03-26T15:26:38.599216Z",
          "iopub.execute_input": "2023-03-26T15:26:38.599668Z",
          "iopub.status.idle": "2023-03-26T15:26:38.617391Z",
          "shell.execute_reply.started": "2023-03-26T15:26:38.599611Z",
          "shell.execute_reply": "2023-03-26T15:26:38.616252Z"
        },
        "trusted": true
      },
      "execution_count": null,
      "outputs": [
        {
          "execution_count": 73,
          "output_type": "execute_result",
          "data": {
            "text/plain": "array(['الإمارات', 'البحرين', 'الجزائر', 'السعودية', 'السودان', 'العراق',\n       'المغرب', 'اليمن', 'تونس', 'سوريا', 'عمان', 'فلسطين', 'لبنان',\n       'ليبيا', 'مصر', 'الأردن', 'الكويت', 'قطر', 'موريتانيا',\n       'العصر الجاهلي', 'العصر الإسلامي', 'العصر العباسي',\n       'العصر الايوبي', 'العصر العثماني', 'عصر المخضرمون', 'العصر الاموي',\n       'العصر الأندلسي', 'العصر المملوكي', 'شعراء العراق والشام',\n       'أفغانستان', 'إيران'], dtype=object)"
          },
          "metadata": {}
        }
      ]
    },
    {
      "cell_type": "code",
      "source": [
        "modern = ['الإمارات', 'البحرين', 'الجزائر', 'السعودية', 'السودان', 'العراق',\n",
        "       'المغرب', 'اليمن', 'تونس', 'سوريا', 'عمان', 'فلسطين', 'لبنان',\n",
        "       'ليبيا', 'مصر', 'الأردن', 'الكويت', 'قطر', 'موريتانيا','شعراء العراق والشام',\n",
        "       'أفغانستان', 'إيران']\n",
        "modern"
      ],
      "metadata": {
        "id": "PFz8Ik-5Iq1s",
        "outputId": "ee298175-ed71-484d-9612-f3f037ee411f",
        "execution": {
          "iopub.status.busy": "2023-03-26T15:26:39.077584Z",
          "iopub.execute_input": "2023-03-26T15:26:39.078045Z",
          "iopub.status.idle": "2023-03-26T15:26:39.089468Z",
          "shell.execute_reply.started": "2023-03-26T15:26:39.078003Z",
          "shell.execute_reply": "2023-03-26T15:26:39.087813Z"
        },
        "trusted": true
      },
      "execution_count": null,
      "outputs": [
        {
          "execution_count": 74,
          "output_type": "execute_result",
          "data": {
            "text/plain": "['الإمارات',\n 'البحرين',\n 'الجزائر',\n 'السعودية',\n 'السودان',\n 'العراق',\n 'المغرب',\n 'اليمن',\n 'تونس',\n 'سوريا',\n 'عمان',\n 'فلسطين',\n 'لبنان',\n 'ليبيا',\n 'مصر',\n 'الأردن',\n 'الكويت',\n 'قطر',\n 'موريتانيا',\n 'شعراء العراق والشام',\n 'أفغانستان',\n 'إيران']"
          },
          "metadata": {}
        }
      ]
    },
    {
      "cell_type": "code",
      "source": [
        "# merge the 22 different countries categories as 'modern' category\n",
        "for i in range(len(result)):\n",
        "    if result.iloc[i]['category'] in modern:\n",
        "        result.iloc[i]['category'] = 'modern'"
      ],
      "metadata": {
        "id": "MsxrKeOcIq1s",
        "execution": {
          "iopub.status.busy": "2023-03-26T15:26:40.966289Z",
          "iopub.execute_input": "2023-03-26T15:26:40.966792Z",
          "iopub.status.idle": "2023-03-26T15:26:51.709822Z",
          "shell.execute_reply.started": "2023-03-26T15:26:40.966707Z",
          "shell.execute_reply": "2023-03-26T15:26:51.708325Z"
        },
        "trusted": true
      },
      "execution_count": null,
      "outputs": []
    },
    {
      "cell_type": "code",
      "source": [
        "result.category.unique()"
      ],
      "metadata": {
        "id": "pdaCzgceIq1t",
        "outputId": "6b7bff6f-f2f0-4ce9-819b-024888718609",
        "execution": {
          "iopub.status.busy": "2023-03-26T15:26:51.712297Z",
          "iopub.execute_input": "2023-03-26T15:26:51.713125Z",
          "iopub.status.idle": "2023-03-26T15:26:51.731075Z",
          "shell.execute_reply.started": "2023-03-26T15:26:51.713073Z",
          "shell.execute_reply": "2023-03-26T15:26:51.729619Z"
        },
        "trusted": true
      },
      "execution_count": null,
      "outputs": [
        {
          "execution_count": 76,
          "output_type": "execute_result",
          "data": {
            "text/plain": "array(['modern', 'العصر الجاهلي', 'العصر الإسلامي', 'العصر العباسي',\n       'العصر الايوبي', 'العصر العثماني', 'عصر المخضرمون', 'العصر الاموي',\n       'العصر الأندلسي', 'العصر المملوكي'], dtype=object)"
          },
          "metadata": {}
        }
      ]
    },
    {
      "cell_type": "markdown",
      "source": [
        "Now we have 10 classes: modern + 9 eras. We can start modeling."
      ],
      "metadata": {
        "id": "2VVO_pzrIq1t"
      }
    },
    {
      "cell_type": "code",
      "source": [
        "result.info()"
      ],
      "metadata": {
        "id": "PvnTpvXaIq1t",
        "outputId": "e618369f-37e5-4f09-b168-5eda74a3f854",
        "execution": {
          "iopub.status.busy": "2023-03-26T15:26:51.732795Z",
          "iopub.execute_input": "2023-03-26T15:26:51.733191Z",
          "iopub.status.idle": "2023-03-26T15:26:51.782190Z",
          "shell.execute_reply.started": "2023-03-26T15:26:51.733154Z",
          "shell.execute_reply": "2023-03-26T15:26:51.780732Z"
        },
        "trusted": true
      },
      "execution_count": null,
      "outputs": [
        {
          "name": "stdout",
          "text": "<class 'pandas.core.frame.DataFrame'>\nInt64Index: 112789 entries, 0 to 112964\nData columns (total 4 columns):\n #   Column      Non-Null Count   Dtype \n---  ------      --------------   ----- \n 0   category    112789 non-null  object\n 1   poet_name   112789 non-null  object\n 2   poem_title  112789 non-null  object\n 3   poem_text   112789 non-null  object\ndtypes: object(4)\nmemory usage: 4.3+ MB\n",
          "output_type": "stream"
        }
      ]
    },
    {
      "cell_type": "code",
      "source": [
        "result.category.value_counts()"
      ],
      "metadata": {
        "id": "r49RpjteIq1t",
        "outputId": "453d6151-27c0-426f-f483-cf3d636917fd",
        "execution": {
          "iopub.status.busy": "2023-03-26T15:26:51.785411Z",
          "iopub.execute_input": "2023-03-26T15:26:51.785969Z",
          "iopub.status.idle": "2023-03-26T15:26:51.801754Z",
          "shell.execute_reply.started": "2023-03-26T15:26:51.785918Z",
          "shell.execute_reply": "2023-03-26T15:26:51.800869Z"
        },
        "trusted": true
      },
      "execution_count": null,
      "outputs": [
        {
          "execution_count": 78,
          "output_type": "execute_result",
          "data": {
            "text/plain": "modern            40520\nالعصر العباسي     29412\nالعصر الأندلسي     9533\nالعصر المملوكي     9056\nالعصر الايوبي      6062\nالعصر العثماني     4622\nالعصر الاموي       4309\nالعصر الإسلامي     3911\nالعصر الجاهلي      3337\nعصر المخضرمون      2027\nName: category, dtype: int64"
          },
          "metadata": {}
        }
      ]
    },
    {
      "cell_type": "markdown",
      "source": [
        "# Modeling: 1st method"
      ],
      "metadata": {
        "id": "QcrDIR7QI0oq"
      }
    },
    {
      "cell_type": "markdown",
      "source": [
        "This first method takes different amounts of time for each step. Here's a breakdown of each step's time complexity:\n",
        "\n",
        "* Loading the dataset: O(N), where N is the number of rows in the dataset.\n",
        "* Splitting data into train and test sets: O(1).\n",
        "* Encoding the target variable: O(N), where N is the number of unique target categories.\n",
        "* Vectorizing the text data: O(N * M), where N is the number of documents and M is the average length of the documents in terms of tokens.\n",
        "* Training the logistic regression model: O(C * d * n), where C is the regularization strength, d is the number of features, and n is the number of samples in the training set.\n",
        "* Predicting the categories of the test data: O(d * m), where d is the number of features and m is the number of samples in the test set.\n",
        "* Evaluating the performance of the model: O(m), where m is the number of samples in the test set.\n",
        "\n",
        "In general, the most time-consuming step is training the logistic regression model, which has a time complexity of O(C * d * n). The other steps take less time relatively."
      ],
      "metadata": {
        "id": "jTGBe3j-y7Ru"
      }
    },
    {
      "cell_type": "code",
      "source": [
        "# Load the dataset\n",
        "df = result\n",
        "\n",
        "# Split the data into train and test sets\n",
        "X_train, X_test, y_train, y_test = train_test_split(df['poem_text'], df['category'], test_size=0.2, random_state=42)\n",
        "\n",
        "# Encode target variable\n",
        "label_encoder = LabelEncoder()\n",
        "y_train = label_encoder.fit_transform(y_train)\n",
        "y_test = label_encoder.fit_transform(y_test)\n",
        "\n",
        "# Vectorize the text data using TF-IDF\n",
        "vectorizer = TfidfVectorizer()\n",
        "X_train_vec = vectorizer.fit_transform(X_train)\n",
        "X_test_vec = vectorizer.transform(X_test)\n",
        "\n",
        "# Train a logistic regression model\n",
        "model = LogisticRegression()\n",
        "model.fit(X_train_vec, y_train)\n",
        "\n",
        "# Predict the categories of the test data\n",
        "y_pred = model.predict(X_test_vec)\n",
        "\n",
        "# Evaluate the performance of the model\n",
        "print(classification_report(y_test, y_pred))"
      ],
      "metadata": {
        "id": "IKJhseKCIq10",
        "outputId": "d5b81a7a-0888-4754-991a-58d452d0f7e4",
        "execution": {
          "iopub.status.busy": "2023-03-24T12:31:05.501042Z",
          "iopub.execute_input": "2023-03-24T12:31:05.502405Z",
          "iopub.status.idle": "2023-03-24T12:34:45.461853Z",
          "shell.execute_reply.started": "2023-03-24T12:31:05.502345Z",
          "shell.execute_reply": "2023-03-24T12:34:45.460367Z"
        },
        "trusted": true
      },
      "execution_count": null,
      "outputs": [
        {
          "name": "stderr",
          "text": "/opt/conda/lib/python3.7/site-packages/sklearn/linear_model/_logistic.py:818: ConvergenceWarning: lbfgs failed to converge (status=1):\nSTOP: TOTAL NO. of ITERATIONS REACHED LIMIT.\n\nIncrease the number of iterations (max_iter) or scale the data as shown in:\n    https://scikit-learn.org/stable/modules/preprocessing.html\nPlease also refer to the documentation for alternative solver options:\n    https://scikit-learn.org/stable/modules/linear_model.html#logistic-regression\n  extra_warning_msg=_LOGISTIC_SOLVER_CONVERGENCE_MSG,\n",
          "output_type": "stream"
        },
        {
          "name": "stdout",
          "text": "              precision    recall  f1-score   support\n\n           0       0.75      0.86      0.80      8091\n           1       0.60      0.22      0.32      1920\n           2       0.69      0.33      0.44       736\n           3       0.53      0.42      0.47       889\n           4       0.52      0.27      0.36      1205\n           5       0.42      0.08      0.14       667\n           6       0.53      0.82      0.64      5844\n           7       0.57      0.22      0.32       950\n           8       0.47      0.34      0.39      1834\n           9       0.42      0.12      0.19       422\n\n    accuracy                           0.62     22558\n   macro avg       0.55      0.37      0.41     22558\nweighted avg       0.61      0.62      0.59     22558\n\n",
          "output_type": "stream"
        }
      ]
    },
    {
      "cell_type": "code",
      "source": [
        "# calculate and print various evaluation metrics\n",
        "accuracy = accuracy_score(y_test, y_pred)\n",
        "f_score = f1_score(y_test, y_pred, average='weighted')\n",
        "recall = recall_score(y_test, y_pred, average='weighted')\n",
        "print(f\"Accuracy: {accuracy}\")\n",
        "print(f\"F1 Score: {f_score}\")\n",
        "print(f\"Recall: {recall}\")"
      ],
      "metadata": {
        "id": "l4VlgPdOIq10",
        "outputId": "3848318f-ba24-4f10-df94-ef2defa4ff27",
        "execution": {
          "iopub.status.busy": "2023-03-24T12:34:45.463773Z",
          "iopub.execute_input": "2023-03-24T12:34:45.464192Z",
          "iopub.status.idle": "2023-03-24T12:34:45.496342Z",
          "shell.execute_reply.started": "2023-03-24T12:34:45.464151Z",
          "shell.execute_reply": "2023-03-24T12:34:45.494929Z"
        },
        "trusted": true
      },
      "execution_count": null,
      "outputs": [
        {
          "name": "stdout",
          "text": "Accuracy: 0.6204894050891037\nF1 Score: 0.5858490541240394\nRecall: 0.6204894050891037\n",
          "output_type": "stream"
        }
      ]
    },
    {
      "cell_type": "markdown",
      "source": [
        "We'll try to improve our modeling by balancing the classes distribution"
      ],
      "metadata": {
        "id": "COr___bj-mYc"
      }
    },
    {
      "cell_type": "code",
      "source": [
        "# Load the dataset\n",
        "df = result\n",
        "\n",
        "# Split the data into training and testing sets\n",
        "X_train, X_test, y_train, y_test = train_test_split(df['poem_text'], df['category'], test_size=0.2, random_state=42)\n",
        "\n",
        "# Vectorize the text data using TF-IDF\n",
        "vectorizer = TfidfVectorizer()\n",
        "X_train_vec = vectorizer.fit_transform(X_train)\n",
        "X_test_vec = vectorizer.transform(X_test)\n",
        "\n",
        "label_encoder = LabelEncoder()\n",
        "y_train = label_encoder.fit_transform(y_train)\n",
        "y_test = label_encoder.fit_transform(y_test)\n",
        "\n",
        "smote = SMOTE(random_state=42)\n",
        "X_train_resampled, y_train_resampled = smote.fit_resample(X_train_vec, y_train)\n",
        "\n",
        "# Train a logistic regression model\n",
        "model = LogisticRegression()\n",
        "model.fit(X_train_resampled, y_train_resampled)\n",
        "\n",
        "# Predict the categories of the test data\n",
        "y_pred = model.predict(X_test_vec)\n",
        "\n",
        "# Evaluate the performance of the model\n",
        "print(classification_report(y_test, y_pred))"
      ],
      "metadata": {
        "id": "Ew8el2CzIq10",
        "outputId": "c8a5571f-85dd-41de-d1f0-105eaec6101e",
        "execution": {
          "iopub.status.busy": "2023-03-24T12:34:45.498436Z",
          "iopub.execute_input": "2023-03-24T12:34:45.498828Z",
          "iopub.status.idle": "2023-03-24T12:43:40.539172Z",
          "shell.execute_reply.started": "2023-03-24T12:34:45.498788Z",
          "shell.execute_reply": "2023-03-24T12:43:40.537360Z"
        },
        "trusted": true
      },
      "execution_count": null,
      "outputs": [
        {
          "name": "stderr",
          "text": "/opt/conda/lib/python3.7/site-packages/sklearn/linear_model/_logistic.py:818: ConvergenceWarning: lbfgs failed to converge (status=1):\nSTOP: TOTAL NO. of ITERATIONS REACHED LIMIT.\n\nIncrease the number of iterations (max_iter) or scale the data as shown in:\n    https://scikit-learn.org/stable/modules/preprocessing.html\nPlease also refer to the documentation for alternative solver options:\n    https://scikit-learn.org/stable/modules/linear_model.html#logistic-regression\n  extra_warning_msg=_LOGISTIC_SOLVER_CONVERGENCE_MSG,\n",
          "output_type": "stream"
        },
        {
          "name": "stdout",
          "text": "              precision    recall  f1-score   support\n\n           0       0.87      0.72      0.78      8091\n           1       0.40      0.44      0.42      1920\n           2       0.44      0.66      0.53       736\n           3       0.43      0.53      0.47       889\n           4       0.37      0.42      0.39      1205\n           5       0.31      0.32      0.32       667\n           6       0.66      0.52      0.58      5844\n           7       0.30      0.54      0.39       950\n           8       0.37      0.49      0.42      1834\n           9       0.22      0.39      0.28       422\n\n    accuracy                           0.57     22558\n   macro avg       0.44      0.50      0.46     22558\nweighted avg       0.62      0.57      0.59     22558\n\n",
          "output_type": "stream"
        }
      ]
    },
    {
      "cell_type": "code",
      "source": [
        "# calculate and print various evaluation metrics\n",
        "accuracy = accuracy_score(y_test, y_pred)\n",
        "f_score = f1_score(y_test, y_pred, average='weighted')\n",
        "recall = recall_score(y_test, y_pred, average='weighted')\n",
        "print(f\"Accuracy: {accuracy}\")\n",
        "print(f\"F1 Score: {f_score}\")\n",
        "print(f\"Recall: {recall}\")"
      ],
      "metadata": {
        "id": "qU3u8OstIq10",
        "outputId": "65815e94-8d66-4231-c016-4988b50ab81b",
        "execution": {
          "iopub.status.busy": "2023-03-24T12:43:40.540796Z",
          "iopub.execute_input": "2023-03-24T12:43:40.541232Z",
          "iopub.status.idle": "2023-03-24T12:43:40.574530Z",
          "shell.execute_reply.started": "2023-03-24T12:43:40.541190Z",
          "shell.execute_reply": "2023-03-24T12:43:40.573092Z"
        },
        "trusted": true
      },
      "execution_count": null,
      "outputs": [
        {
          "name": "stdout",
          "text": "Accuracy: 0.5730561219966309\nF1 Score: 0.5894833139252075\nRecall: 0.5730561219966309\n",
          "output_type": "stream"
        }
      ]
    },
    {
      "cell_type": "markdown",
      "source": [
        "We can see that the first model is better than the second but we still didn't get good result using basic ML classifiers. We'll opt to use transfer learning to see if we can get better results."
      ],
      "metadata": {
        "id": "4gK7Be_E-mYf"
      }
    },
    {
      "cell_type": "markdown",
      "source": [
        "# Modeling: 2nd method"
      ],
      "metadata": {
        "id": "4u_CvItDIq1t"
      }
    },
    {
      "cell_type": "code",
      "source": [
        "X = result['poem_text']\n",
        "y = result['category']\n",
        "\n",
        "# split dataset into train and test sets\n",
        "X_train, X_test, y_train, y_test = train_test_split(X, y, test_size=0.2, random_state=42)\n",
        "\n",
        "# encode target variable\n",
        "label_encoder = LabelEncoder()\n",
        "y_train = label_encoder.fit_transform(y_train)\n",
        "y_test = label_encoder.fit_transform(y_test)\n",
        "\n",
        "# initialize BERT tokenizer\n",
        "tokenizer = BertTokenizer.from_pretrained('aubmindlab/bert-base-arabertv02', do_lower_case=True)"
      ],
      "metadata": {
        "colab": {
          "referenced_widgets": [
            "2e450bb5b0784f779d1756095f49b6dc",
            "2ac2465ff4a34200be731a27b55c044d",
            "94d906dd094e480da0ce9e1e41f9ff3e",
            "f65f1c4eb2404e65a199848edf1596fc",
            "fd10aaff24154de1b60c7ee1afe3d4e9",
            "02f5acd470c4490091a46e422a125050",
            "ec297a4dd18f4635ae6f992697d9dec3",
            "10aceae97aad439eb5454e879e40d2e2",
            "38ede0ee5f73487087a5e7eee4799b15",
            "81da6d6e39f2471a947b2cdb48030890",
            "9e0845dd963540f9af60db8419583201",
            "1af75808ff5849a99dcacc815e0cbe8f"
          ]
        },
        "id": "Ep8xgzsSIq1u",
        "outputId": "b479f534-a9ff-414c-9b56-d69fd586e7b9",
        "execution": {
          "iopub.status.busy": "2023-03-26T13:07:32.777306Z",
          "iopub.execute_input": "2023-03-26T13:07:32.777725Z",
          "iopub.status.idle": "2023-03-26T13:07:34.112023Z",
          "shell.execute_reply.started": "2023-03-26T13:07:32.777690Z",
          "shell.execute_reply": "2023-03-26T13:07:34.111031Z"
        },
        "trusted": true
      },
      "execution_count": null,
      "outputs": [
        {
          "output_type": "display_data",
          "data": {
            "text/plain": "Downloading (…)solve/main/vocab.txt:   0%|          | 0.00/825k [00:00<?, ?B/s]",
            "application/vnd.jupyter.widget-view+json": {
              "version_major": 2,
              "version_minor": 0,
              "model_id": "38ede0ee5f73487087a5e7eee4799b15"
            }
          },
          "metadata": {}
        },
        {
          "output_type": "display_data",
          "data": {
            "text/plain": "Downloading (…)cial_tokens_map.json:   0%|          | 0.00/112 [00:00<?, ?B/s]",
            "application/vnd.jupyter.widget-view+json": {
              "version_major": 2,
              "version_minor": 0,
              "model_id": "81da6d6e39f2471a947b2cdb48030890"
            }
          },
          "metadata": {}
        },
        {
          "output_type": "display_data",
          "data": {
            "text/plain": "Downloading (…)okenizer_config.json:   0%|          | 0.00/381 [00:00<?, ?B/s]",
            "application/vnd.jupyter.widget-view+json": {
              "version_major": 2,
              "version_minor": 0,
              "model_id": "9e0845dd963540f9af60db8419583201"
            }
          },
          "metadata": {}
        },
        {
          "output_type": "display_data",
          "data": {
            "text/plain": "Downloading (…)lve/main/config.json:   0%|          | 0.00/384 [00:00<?, ?B/s]",
            "application/vnd.jupyter.widget-view+json": {
              "version_major": 2,
              "version_minor": 0,
              "model_id": "1af75808ff5849a99dcacc815e0cbe8f"
            }
          },
          "metadata": {}
        }
      ]
    },
    {
      "cell_type": "code",
      "source": [
        "# encode train data using BERT tokenizer\n",
        "encoded_data_train = tokenizer.batch_encode_plus(\n",
        "    X_train.tolist(),\n",
        "    add_special_tokens=True,\n",
        "    return_attention_mask=True,\n",
        "    pad_to_max_length=True,\n",
        "    max_length=256,\n",
        "    return_tensors='pt',\n",
        "    truncation=True\n",
        ")"
      ],
      "metadata": {
        "id": "RPsnl69HIq1u",
        "outputId": "15b034cc-4b54-49f2-930f-351dbbd26ae1",
        "execution": {
          "iopub.status.busy": "2023-03-26T13:07:34.115951Z",
          "iopub.execute_input": "2023-03-26T13:07:34.116690Z",
          "iopub.status.idle": "2023-03-26T13:14:01.125374Z",
          "shell.execute_reply.started": "2023-03-26T13:07:34.116649Z",
          "shell.execute_reply": "2023-03-26T13:14:01.124243Z"
        },
        "trusted": true
      },
      "execution_count": null,
      "outputs": [
        {
          "name": "stderr",
          "text": "/opt/conda/lib/python3.7/site-packages/transformers/tokenization_utils_base.py:2345: FutureWarning: The `pad_to_max_length` argument is deprecated and will be removed in a future version, use `padding=True` or `padding='longest'` to pad to the longest sequence in the batch, or use `padding='max_length'` to pad to a max length. In this case, you can give a specific length with `max_length` (e.g. `max_length=45`) or leave max_length to None to pad to the maximal input size of the model (e.g. 512 for Bert).\n  FutureWarning,\n",
          "output_type": "stream"
        }
      ]
    },
    {
      "cell_type": "code",
      "source": [
        "# encode test data using BERT tokenizer\n",
        "encoded_data_test = tokenizer.batch_encode_plus(\n",
        "    X_test.tolist(),\n",
        "    add_special_tokens=True,\n",
        "    return_attention_mask=True,\n",
        "    pad_to_max_length=True,\n",
        "    max_length=256,\n",
        "    return_tensors='pt',\n",
        "    truncation=True\n",
        ")"
      ],
      "metadata": {
        "id": "_RJR8bTMIq1u",
        "execution": {
          "iopub.status.busy": "2023-03-26T13:14:01.127289Z",
          "iopub.execute_input": "2023-03-26T13:14:01.127704Z",
          "iopub.status.idle": "2023-03-26T13:15:36.054284Z",
          "shell.execute_reply.started": "2023-03-26T13:14:01.127664Z",
          "shell.execute_reply": "2023-03-26T13:15:36.053168Z"
        },
        "trusted": true
      },
      "execution_count": null,
      "outputs": []
    },
    {
      "cell_type": "code",
      "source": [
        "# create PyTorch dataloaders\n",
        "input_ids_train = encoded_data_train['input_ids']\n",
        "attention_masks_train = encoded_data_train['attention_mask']\n",
        "labels_train = torch.tensor(y_train.tolist())"
      ],
      "metadata": {
        "id": "YMXsVLqUIq1u",
        "execution": {
          "iopub.status.busy": "2023-03-26T13:15:36.055869Z",
          "iopub.execute_input": "2023-03-26T13:15:36.056821Z",
          "iopub.status.idle": "2023-03-26T13:15:36.069048Z",
          "shell.execute_reply.started": "2023-03-26T13:15:36.056780Z",
          "shell.execute_reply": "2023-03-26T13:15:36.067909Z"
        },
        "trusted": true
      },
      "execution_count": null,
      "outputs": []
    },
    {
      "cell_type": "code",
      "source": [
        "input_ids_test = encoded_data_test['input_ids']\n",
        "attention_masks_test = encoded_data_test['attention_mask']\n",
        "labels_test = torch.tensor(y_test.tolist())"
      ],
      "metadata": {
        "id": "mNPrLUHkIq1u",
        "execution": {
          "iopub.status.busy": "2023-03-26T13:15:36.072381Z",
          "iopub.execute_input": "2023-03-26T13:15:36.072651Z",
          "iopub.status.idle": "2023-03-26T13:15:36.082234Z",
          "shell.execute_reply.started": "2023-03-26T13:15:36.072626Z",
          "shell.execute_reply": "2023-03-26T13:15:36.081093Z"
        },
        "trusted": true
      },
      "execution_count": null,
      "outputs": []
    },
    {
      "cell_type": "code",
      "source": [
        "# combine the input data, attention masks, and labels into a single tensor using TensorDataset\n",
        "dataset_train = torch.utils.data.TensorDataset(input_ids_train, attention_masks_train, labels_train)\n",
        "dataset_test = torch.utils.data.TensorDataset(input_ids_test, attention_masks_test, labels_test)\n",
        "\n",
        "dataloader_train = torch.utils.data.DataLoader(dataset_train, batch_size=32, shuffle=True)\n",
        "dataloader_test = torch.utils.data.DataLoader(dataset_test, batch_size=32, shuffle=False)"
      ],
      "metadata": {
        "id": "SU-40fFDIq1v",
        "execution": {
          "iopub.status.busy": "2023-03-26T13:15:36.083549Z",
          "iopub.execute_input": "2023-03-26T13:15:36.083980Z",
          "iopub.status.idle": "2023-03-26T13:15:36.097404Z",
          "shell.execute_reply.started": "2023-03-26T13:15:36.083943Z",
          "shell.execute_reply": "2023-03-26T13:15:36.096348Z"
        },
        "trusted": true
      },
      "execution_count": null,
      "outputs": []
    },
    {
      "cell_type": "markdown",
      "source": [
        "## Load the model"
      ],
      "metadata": {
        "id": "bT4Pg23n0Xw1"
      }
    },
    {
      "cell_type": "markdown",
      "source": [
        "Due to limited resources (access to GPU), we will train our model for 5 epochs and save the output weights and re-import the trained model again.\n",
        "\n",
        "In general, initializing a BERT model has a time complexity of O(n^2), where n is the number of parameters in the model. This is because each parameter's weight initialization involves an operation that takes O(n) time.\n",
        "\n",
        "On the other hand, initializing AdamW optimizer is a simple operation that sets the learning rate, and thus has a time complexity of O(1).\n",
        "\n",
        "AdamW is a popular optimizer for deep learning tasks, especially for NLP tasks that involve long input sequences. It offers two main advantages:\n",
        "\n",
        "* Weight decay: AdamW includes a weight decay parameter that applies a penalty term to the loss function, which helps prevent overfitting and improve the model's generalization to new data.\n",
        "\n",
        "* Sparse gradients: AdamW is effective at handling sparse gradients, which are common in NLP tasks, by adapting the learning rate for each parameter separately. This can result in faster convergence and better model performance compared to other optimization algorithms."
      ],
      "metadata": {
        "id": "MFsuo9XQzqDx"
      }
    },
    {
      "cell_type": "code",
      "source": [
        "# initialize BERT model and optimizer\n",
        "model = BertForSequenceClassification.from_pretrained(\n",
        "    'aubmindlab/bert-base-arabertv02',\n",
        "    num_labels = 10,\n",
        "    output_attentions = False,\n",
        "    output_hidden_states = False\n",
        ")\n",
        "# initialize AdamW optimizer\n",
        "optimizer = AdamW(model.parameters(), lr=1e-5)\n",
        "model.to(device)"
      ],
      "metadata": {
        "execution": {
          "iopub.status.busy": "2023-03-20T07:54:47.490386Z",
          "iopub.execute_input": "2023-03-20T07:54:47.490753Z",
          "iopub.status.idle": "2023-03-20T07:54:47.505059Z",
          "shell.execute_reply.started": "2023-03-20T07:54:47.490703Z",
          "shell.execute_reply": "2023-03-20T07:54:47.503880Z"
        },
        "id": "YFDfhhraIq1v"
      },
      "execution_count": null,
      "outputs": []
    },
    {
      "cell_type": "markdown",
      "source": [
        "## Train the model"
      ],
      "metadata": {
        "id": "ebTFX0BL0aWG"
      }
    },
    {
      "cell_type": "markdown",
      "source": [
        "The time complexity of training a BERT-based model using mini-batch gradient descent is influenced by factors such as the model's size, number of parameters, and batch size.\n",
        "\n",
        "The outer loop that loops through epochs has a time complexity of O(E), where E is the number of epochs.\n",
        "\n",
        "The inner loop that processes the batches has a time complexity of O(N/B), where N is the total number of training examples and B is the batch size.\n",
        "\n",
        "For each batch, the time complexity of processing the inputs using the BERT model and optimizer is O(N^2), where N is the length of the input sequence. This is due to BERT's self-attention mechanism, which performs pairwise comparisons between input tokens, leading to a time complexity of O(N^2).\n",
        "\n",
        "As a result, the overall time complexity of training the BERT-based model using mini-batch gradient descent is O(E * N^3 / B). Techniques such as gradient accumulation or mixed precision training can further reduce this time complexity."
      ],
      "metadata": {
        "id": "RjUK7Cawzwe0"
      }
    },
    {
      "cell_type": "code",
      "source": [
        "# train the model\n",
        "epochs = 5\n",
        "\n",
        "for epoch in range(1, epochs+1):\n",
        "    model.train()\n",
        "    loss_train_total = 0\n",
        "\n",
        "    for batch in dataloader_train:\n",
        "        batch = tuple(b.to(device) for b in batch)\n",
        "        inputs = {'input_ids': batch[0],\n",
        "                  'attention_mask': batch[1],\n",
        "                  'labels': batch[2]}\n",
        "\n",
        "\n",
        "        optimizer.zero_grad()\n",
        "\n",
        "        outputs = model(**inputs)\n",
        "        loss = outputs[0]\n",
        "        loss_train_total += loss.item()\n",
        "        loss.backward()\n",
        "\n",
        "        optimizer.step()\n",
        "\n",
        "    loss_train_avg = loss_train_total/len(dataloader_train)\n",
        "\n",
        "    print(f'Epoch: {epoch} \\t Training Loss: {loss_train_avg}')"
      ],
      "metadata": {
        "id": "ssVrcOZq-mYi"
      },
      "execution_count": null,
      "outputs": []
    },
    {
      "cell_type": "code",
      "source": [
        "model.save_pretrained(\"/kaggle/working/model\")"
      ],
      "metadata": {
        "id": "uuqnXs6e-mYi"
      },
      "execution_count": null,
      "outputs": []
    },
    {
      "cell_type": "markdown",
      "source": [
        "After saving the model this way we created a dataset in kaggle to store the pre-trained model's weights. This step will be further explained in the video."
      ],
      "metadata": {
        "id": "8CAGayp1-mYj"
      }
    },
    {
      "cell_type": "code",
      "source": [
        "# Load the 1st fine tuned pre-trained model on 5 epochs\n",
        "model1 = BertForSequenceClassification.from_pretrained(\"/kaggle/input/model-arabic-fine-tined/model\")\n",
        "# reset optimizer\n",
        "optimizer = AdamW(model1.parameters(), lr=1e-5)"
      ],
      "metadata": {
        "execution": {
          "iopub.status.busy": "2023-03-20T07:54:47.506604Z",
          "iopub.execute_input": "2023-03-20T07:54:47.506995Z",
          "iopub.status.idle": "2023-03-20T07:54:47.516624Z",
          "shell.execute_reply.started": "2023-03-20T07:54:47.506960Z",
          "shell.execute_reply": "2023-03-20T07:54:47.515531Z"
        },
        "id": "76SufwE6Iq1w",
        "outputId": "a5ca0f32-0b47-40d8-a6d3-48d155b3ef1e",
        "trusted": true
      },
      "execution_count": null,
      "outputs": [
        {
          "execution_count": 47,
          "output_type": "execute_result",
          "data": {
            "text/plain": "'model1 = BertForSequenceClassification.from_pretrained(\"/kaggle/input/model-arabic-fine-tined/model\")\\noptimizer = AdamW(model1.parameters(), lr=1e-5) '"
          },
          "metadata": {}
        }
      ]
    },
    {
      "cell_type": "code",
      "source": [
        "# train the model on the next 5 epochs\n",
        "epochs = 5\n",
        "\n",
        "for epoch in range(1, epochs+1):\n",
        "    model1.train()\n",
        "    loss_train_total = 0\n",
        "\n",
        "    for batch in dataloader_train:\n",
        "        batch = tuple(b.to(device) for b in batch)\n",
        "        inputs = {'input_ids': batch[0],\n",
        "                  'attention_mask': batch[1],\n",
        "                  'labels': batch[2]}\n",
        "\n",
        "\n",
        "        optimizer.zero_grad()\n",
        "\n",
        "        outputs = model1(**inputs)\n",
        "        loss = outputs[0]\n",
        "        loss_train_total += loss.item()\n",
        "        loss.backward()\n",
        "\n",
        "        optimizer.step()\n",
        "\n",
        "    loss_train_avg = loss_train_total/len(dataloader_train)\n",
        "\n",
        "    print(f'Epoch: {epoch} \\t Training Loss: {loss_train_avg}')"
      ],
      "metadata": {
        "id": "76F9VjPc-mYj"
      },
      "execution_count": null,
      "outputs": []
    },
    {
      "cell_type": "code",
      "source": [
        "# save the 2nd model's weights\n",
        "model_path = '/kaggle/working/model_weights2.pth'\n",
        "torch.save(model1.state_dict(), model_path)"
      ],
      "metadata": {
        "id": "UTH4WLQ5-mYk"
      },
      "execution_count": null,
      "outputs": []
    },
    {
      "cell_type": "markdown",
      "source": [
        "In this part we tried to save the model in another way. So after saving it with this method we had also to re-read it but with a different method."
      ],
      "metadata": {
        "id": "cTAg9Qry-mYk"
      }
    },
    {
      "cell_type": "code",
      "source": [
        "# Load the 2nd fine tuned pre-trained model on 10 epochs\n",
        "\n",
        "model2 = BertForSequenceClassification.from_pretrained(\n",
        "        'aubmindlab/bert-base-arabertv02',\n",
        "        num_labels = 10,\n",
        "        output_attentions = False,\n",
        "        output_hidden_states = False)\n",
        "model2.load_state_dict(torch.load(\"/kaggle/input/model-arabic-fine-tuned2/model_weights2.pth\", map_location=device))\n",
        "# reset optimizer\n",
        "optimizer = AdamW(model2.parameters(), lr=1e-5)"
      ],
      "metadata": {
        "execution": {
          "iopub.status.busy": "2023-03-20T07:54:47.518076Z",
          "iopub.execute_input": "2023-03-20T07:54:47.519239Z",
          "iopub.status.idle": "2023-03-20T07:54:47.528825Z",
          "shell.execute_reply.started": "2023-03-20T07:54:47.519204Z",
          "shell.execute_reply": "2023-03-20T07:54:47.527840Z"
        },
        "id": "5gxFhOlLIq1w",
        "outputId": "709d6a01-ba97-427c-acf4-b07158ee8101",
        "trusted": true
      },
      "execution_count": null,
      "outputs": [
        {
          "execution_count": 48,
          "output_type": "execute_result",
          "data": {
            "text/plain": "'model2 = BertForSequenceClassification.from_pretrained(\\n        \\'aubmindlab/bert-base-arabertv02\\',\\n        num_labels = 10,\\n        output_attentions = False,\\n        output_hidden_states = False)\\nmodel2.load_state_dict(torch.load(\"/kaggle/input/model-arabic-fine-tuned2/model_weights2.pth\", map_location=device))\\noptimizer = AdamW(model2.parameters(), lr=1e-5) '"
          },
          "metadata": {}
        }
      ]
    },
    {
      "cell_type": "code",
      "source": [
        "# train the model on the next 5 epochs\n",
        "epochs = 5\n",
        "\n",
        "for epoch in range(1, epochs+1):\n",
        "    model2.train()\n",
        "    loss_train_total = 0\n",
        "\n",
        "    for batch in dataloader_train:\n",
        "        batch = tuple(b.to(device) for b in batch)\n",
        "        inputs = {'input_ids': batch[0],\n",
        "                  'attention_mask': batch[1],\n",
        "                  'labels': batch[2]}\n",
        "\n",
        "\n",
        "        optimizer.zero_grad()\n",
        "\n",
        "        outputs = model2(**inputs)\n",
        "        loss = outputs[0]\n",
        "        loss_train_total += loss.item()\n",
        "        loss.backward()\n",
        "\n",
        "        optimizer.step()\n",
        "\n",
        "    loss_train_avg = loss_train_total/len(dataloader_train)\n",
        "\n",
        "    print(f'Epoch: {epoch} \\t Training Loss: {loss_train_avg}')"
      ],
      "metadata": {
        "id": "2r0IzGQNQaU0"
      },
      "execution_count": null,
      "outputs": []
    },
    {
      "cell_type": "code",
      "source": [
        "model2.save_pretrained(\"/kaggle/working/model\")"
      ],
      "metadata": {
        "id": "hHhIxaBEQwZc"
      },
      "execution_count": null,
      "outputs": []
    },
    {
      "cell_type": "code",
      "source": [
        "# Load the 3rd fine tuned pre-trained model on 15 epochs\n",
        "\n",
        "model3 = BertForSequenceClassification.from_pretrained(\"/kaggle/input/model-arabic-fine-tined/model3\")\n",
        "optimizer = AdamW(model3.parameters(), lr=1e-5)"
      ],
      "metadata": {
        "execution": {
          "iopub.status.busy": "2023-03-20T07:54:47.530196Z",
          "iopub.execute_input": "2023-03-20T07:54:47.530659Z",
          "iopub.status.idle": "2023-03-20T07:54:53.253524Z",
          "shell.execute_reply.started": "2023-03-20T07:54:47.530624Z",
          "shell.execute_reply": "2023-03-20T07:54:53.252256Z"
        },
        "id": "iN32rDjvIq1x",
        "outputId": "179e674a-1cb6-4559-db44-5aec65a3e69f",
        "trusted": true
      },
      "execution_count": null,
      "outputs": [
        {
          "name": "stderr",
          "text": "/opt/conda/lib/python3.7/site-packages/transformers/optimization.py:310: FutureWarning: This implementation of AdamW is deprecated and will be removed in a future version. Use the PyTorch implementation torch.optim.AdamW instead, or set `no_deprecation_warning=True` to disable this warning\n  FutureWarning,\n",
          "output_type": "stream"
        }
      ]
    },
    {
      "cell_type": "code",
      "source": [
        "# train the model on the final 5 epochs\n",
        "epochs = 5\n",
        "\n",
        "for epoch in range(1, epochs+1):\n",
        "    model3.train()\n",
        "    loss_train_total = 0\n",
        "\n",
        "    for batch in dataloader_train:\n",
        "        batch = tuple(b.to(device) for b in batch)\n",
        "        inputs = {'input_ids': batch[0],\n",
        "                  'attention_mask': batch[1],\n",
        "                  'labels': batch[2]}\n",
        "\n",
        "\n",
        "        optimizer.zero_grad()\n",
        "\n",
        "        outputs = model3(**inputs)\n",
        "        loss = outputs[0]\n",
        "        loss_train_total += loss.item()\n",
        "        loss.backward()\n",
        "\n",
        "        optimizer.step()\n",
        "\n",
        "    loss_train_avg = loss_train_total/len(dataloader_train)\n",
        "\n",
        "    print(f'Epoch: {epoch} \\t Training Loss: {loss_train_avg}')"
      ],
      "metadata": {
        "execution": {
          "iopub.status.busy": "2023-03-20T08:01:50.685168Z",
          "iopub.execute_input": "2023-03-20T08:01:50.685837Z",
          "iopub.status.idle": "2023-03-20T10:53:42.750457Z",
          "shell.execute_reply.started": "2023-03-20T08:01:50.685781Z",
          "shell.execute_reply": "2023-03-20T10:53:42.749306Z"
        },
        "id": "Abw5Q2wjIq1x",
        "outputId": "2748d967-253c-41a0-c9e9-28a2c041ed6e",
        "trusted": true
      },
      "execution_count": null,
      "outputs": [
        {
          "name": "stdout",
          "text": "Epoch: 1 \t Training Loss: 0.09737337435371117\nEpoch: 2 \t Training Loss: 0.08509998305263955\nEpoch: 3 \t Training Loss: 0.07803929860105883\nEpoch: 4 \t Training Loss: 0.07358518353426426\nEpoch: 5 \t Training Loss: 0.06705504426122098\n",
          "output_type": "stream"
        }
      ]
    },
    {
      "cell_type": "code",
      "source": [
        "model3.save_pretrained(\"/kaggle/working/model\")"
      ],
      "metadata": {
        "execution": {
          "iopub.status.busy": "2023-03-20T10:57:32.750112Z",
          "iopub.execute_input": "2023-03-20T10:57:32.750841Z",
          "iopub.status.idle": "2023-03-20T10:57:33.602071Z",
          "shell.execute_reply.started": "2023-03-20T10:57:32.750783Z",
          "shell.execute_reply": "2023-03-20T10:57:33.600986Z"
        },
        "id": "SkkE2ip2Iq1y",
        "trusted": true
      },
      "execution_count": null,
      "outputs": []
    },
    {
      "cell_type": "code",
      "source": [
        "# Load the final fine tuned trained model on 20 epochs\n",
        "model3 = BertForSequenceClassification.from_pretrained(\"/kaggle/input/model-arabic-fine-tined/model\")\n",
        "optimizer = AdamW(model3.parameters(), lr=1e-5)\n",
        "model3.to(device)"
      ],
      "metadata": {
        "id": "UFegRkLh-mYl",
        "outputId": "dcfc2251-6d84-4c9b-90a3-977529442cfb",
        "execution": {
          "iopub.status.busy": "2023-03-26T13:15:36.098967Z",
          "iopub.execute_input": "2023-03-26T13:15:36.099474Z",
          "iopub.status.idle": "2023-03-26T13:15:47.523673Z",
          "shell.execute_reply.started": "2023-03-26T13:15:36.099440Z",
          "shell.execute_reply": "2023-03-26T13:15:47.522528Z"
        },
        "trusted": true
      },
      "execution_count": null,
      "outputs": [
        {
          "name": "stderr",
          "text": "/opt/conda/lib/python3.7/site-packages/transformers/optimization.py:310: FutureWarning: This implementation of AdamW is deprecated and will be removed in a future version. Use the PyTorch implementation torch.optim.AdamW instead, or set `no_deprecation_warning=True` to disable this warning\n  FutureWarning,\n",
          "output_type": "stream"
        },
        {
          "execution_count": 89,
          "output_type": "execute_result",
          "data": {
            "text/plain": "BertForSequenceClassification(\n  (bert): BertModel(\n    (embeddings): BertEmbeddings(\n      (word_embeddings): Embedding(64000, 768, padding_idx=0)\n      (position_embeddings): Embedding(512, 768)\n      (token_type_embeddings): Embedding(2, 768)\n      (LayerNorm): LayerNorm((768,), eps=1e-12, elementwise_affine=True)\n      (dropout): Dropout(p=0.1, inplace=False)\n    )\n    (encoder): BertEncoder(\n      (layer): ModuleList(\n        (0): BertLayer(\n          (attention): BertAttention(\n            (self): BertSelfAttention(\n              (query): Linear(in_features=768, out_features=768, bias=True)\n              (key): Linear(in_features=768, out_features=768, bias=True)\n              (value): Linear(in_features=768, out_features=768, bias=True)\n              (dropout): Dropout(p=0.1, inplace=False)\n            )\n            (output): BertSelfOutput(\n              (dense): Linear(in_features=768, out_features=768, bias=True)\n              (LayerNorm): LayerNorm((768,), eps=1e-12, elementwise_affine=True)\n              (dropout): Dropout(p=0.1, inplace=False)\n            )\n          )\n          (intermediate): BertIntermediate(\n            (dense): Linear(in_features=768, out_features=3072, bias=True)\n            (intermediate_act_fn): GELUActivation()\n          )\n          (output): BertOutput(\n            (dense): Linear(in_features=3072, out_features=768, bias=True)\n            (LayerNorm): LayerNorm((768,), eps=1e-12, elementwise_affine=True)\n            (dropout): Dropout(p=0.1, inplace=False)\n          )\n        )\n        (1): BertLayer(\n          (attention): BertAttention(\n            (self): BertSelfAttention(\n              (query): Linear(in_features=768, out_features=768, bias=True)\n              (key): Linear(in_features=768, out_features=768, bias=True)\n              (value): Linear(in_features=768, out_features=768, bias=True)\n              (dropout): Dropout(p=0.1, inplace=False)\n            )\n            (output): BertSelfOutput(\n              (dense): Linear(in_features=768, out_features=768, bias=True)\n              (LayerNorm): LayerNorm((768,), eps=1e-12, elementwise_affine=True)\n              (dropout): Dropout(p=0.1, inplace=False)\n            )\n          )\n          (intermediate): BertIntermediate(\n            (dense): Linear(in_features=768, out_features=3072, bias=True)\n            (intermediate_act_fn): GELUActivation()\n          )\n          (output): BertOutput(\n            (dense): Linear(in_features=3072, out_features=768, bias=True)\n            (LayerNorm): LayerNorm((768,), eps=1e-12, elementwise_affine=True)\n            (dropout): Dropout(p=0.1, inplace=False)\n          )\n        )\n        (2): BertLayer(\n          (attention): BertAttention(\n            (self): BertSelfAttention(\n              (query): Linear(in_features=768, out_features=768, bias=True)\n              (key): Linear(in_features=768, out_features=768, bias=True)\n              (value): Linear(in_features=768, out_features=768, bias=True)\n              (dropout): Dropout(p=0.1, inplace=False)\n            )\n            (output): BertSelfOutput(\n              (dense): Linear(in_features=768, out_features=768, bias=True)\n              (LayerNorm): LayerNorm((768,), eps=1e-12, elementwise_affine=True)\n              (dropout): Dropout(p=0.1, inplace=False)\n            )\n          )\n          (intermediate): BertIntermediate(\n            (dense): Linear(in_features=768, out_features=3072, bias=True)\n            (intermediate_act_fn): GELUActivation()\n          )\n          (output): BertOutput(\n            (dense): Linear(in_features=3072, out_features=768, bias=True)\n            (LayerNorm): LayerNorm((768,), eps=1e-12, elementwise_affine=True)\n            (dropout): Dropout(p=0.1, inplace=False)\n          )\n        )\n        (3): BertLayer(\n          (attention): BertAttention(\n            (self): BertSelfAttention(\n              (query): Linear(in_features=768, out_features=768, bias=True)\n              (key): Linear(in_features=768, out_features=768, bias=True)\n              (value): Linear(in_features=768, out_features=768, bias=True)\n              (dropout): Dropout(p=0.1, inplace=False)\n            )\n            (output): BertSelfOutput(\n              (dense): Linear(in_features=768, out_features=768, bias=True)\n              (LayerNorm): LayerNorm((768,), eps=1e-12, elementwise_affine=True)\n              (dropout): Dropout(p=0.1, inplace=False)\n            )\n          )\n          (intermediate): BertIntermediate(\n            (dense): Linear(in_features=768, out_features=3072, bias=True)\n            (intermediate_act_fn): GELUActivation()\n          )\n          (output): BertOutput(\n            (dense): Linear(in_features=3072, out_features=768, bias=True)\n            (LayerNorm): LayerNorm((768,), eps=1e-12, elementwise_affine=True)\n            (dropout): Dropout(p=0.1, inplace=False)\n          )\n        )\n        (4): BertLayer(\n          (attention): BertAttention(\n            (self): BertSelfAttention(\n              (query): Linear(in_features=768, out_features=768, bias=True)\n              (key): Linear(in_features=768, out_features=768, bias=True)\n              (value): Linear(in_features=768, out_features=768, bias=True)\n              (dropout): Dropout(p=0.1, inplace=False)\n            )\n            (output): BertSelfOutput(\n              (dense): Linear(in_features=768, out_features=768, bias=True)\n              (LayerNorm): LayerNorm((768,), eps=1e-12, elementwise_affine=True)\n              (dropout): Dropout(p=0.1, inplace=False)\n            )\n          )\n          (intermediate): BertIntermediate(\n            (dense): Linear(in_features=768, out_features=3072, bias=True)\n            (intermediate_act_fn): GELUActivation()\n          )\n          (output): BertOutput(\n            (dense): Linear(in_features=3072, out_features=768, bias=True)\n            (LayerNorm): LayerNorm((768,), eps=1e-12, elementwise_affine=True)\n            (dropout): Dropout(p=0.1, inplace=False)\n          )\n        )\n        (5): BertLayer(\n          (attention): BertAttention(\n            (self): BertSelfAttention(\n              (query): Linear(in_features=768, out_features=768, bias=True)\n              (key): Linear(in_features=768, out_features=768, bias=True)\n              (value): Linear(in_features=768, out_features=768, bias=True)\n              (dropout): Dropout(p=0.1, inplace=False)\n            )\n            (output): BertSelfOutput(\n              (dense): Linear(in_features=768, out_features=768, bias=True)\n              (LayerNorm): LayerNorm((768,), eps=1e-12, elementwise_affine=True)\n              (dropout): Dropout(p=0.1, inplace=False)\n            )\n          )\n          (intermediate): BertIntermediate(\n            (dense): Linear(in_features=768, out_features=3072, bias=True)\n            (intermediate_act_fn): GELUActivation()\n          )\n          (output): BertOutput(\n            (dense): Linear(in_features=3072, out_features=768, bias=True)\n            (LayerNorm): LayerNorm((768,), eps=1e-12, elementwise_affine=True)\n            (dropout): Dropout(p=0.1, inplace=False)\n          )\n        )\n        (6): BertLayer(\n          (attention): BertAttention(\n            (self): BertSelfAttention(\n              (query): Linear(in_features=768, out_features=768, bias=True)\n              (key): Linear(in_features=768, out_features=768, bias=True)\n              (value): Linear(in_features=768, out_features=768, bias=True)\n              (dropout): Dropout(p=0.1, inplace=False)\n            )\n            (output): BertSelfOutput(\n              (dense): Linear(in_features=768, out_features=768, bias=True)\n              (LayerNorm): LayerNorm((768,), eps=1e-12, elementwise_affine=True)\n              (dropout): Dropout(p=0.1, inplace=False)\n            )\n          )\n          (intermediate): BertIntermediate(\n            (dense): Linear(in_features=768, out_features=3072, bias=True)\n            (intermediate_act_fn): GELUActivation()\n          )\n          (output): BertOutput(\n            (dense): Linear(in_features=3072, out_features=768, bias=True)\n            (LayerNorm): LayerNorm((768,), eps=1e-12, elementwise_affine=True)\n            (dropout): Dropout(p=0.1, inplace=False)\n          )\n        )\n        (7): BertLayer(\n          (attention): BertAttention(\n            (self): BertSelfAttention(\n              (query): Linear(in_features=768, out_features=768, bias=True)\n              (key): Linear(in_features=768, out_features=768, bias=True)\n              (value): Linear(in_features=768, out_features=768, bias=True)\n              (dropout): Dropout(p=0.1, inplace=False)\n            )\n            (output): BertSelfOutput(\n              (dense): Linear(in_features=768, out_features=768, bias=True)\n              (LayerNorm): LayerNorm((768,), eps=1e-12, elementwise_affine=True)\n              (dropout): Dropout(p=0.1, inplace=False)\n            )\n          )\n          (intermediate): BertIntermediate(\n            (dense): Linear(in_features=768, out_features=3072, bias=True)\n            (intermediate_act_fn): GELUActivation()\n          )\n          (output): BertOutput(\n            (dense): Linear(in_features=3072, out_features=768, bias=True)\n            (LayerNorm): LayerNorm((768,), eps=1e-12, elementwise_affine=True)\n            (dropout): Dropout(p=0.1, inplace=False)\n          )\n        )\n        (8): BertLayer(\n          (attention): BertAttention(\n            (self): BertSelfAttention(\n              (query): Linear(in_features=768, out_features=768, bias=True)\n              (key): Linear(in_features=768, out_features=768, bias=True)\n              (value): Linear(in_features=768, out_features=768, bias=True)\n              (dropout): Dropout(p=0.1, inplace=False)\n            )\n            (output): BertSelfOutput(\n              (dense): Linear(in_features=768, out_features=768, bias=True)\n              (LayerNorm): LayerNorm((768,), eps=1e-12, elementwise_affine=True)\n              (dropout): Dropout(p=0.1, inplace=False)\n            )\n          )\n          (intermediate): BertIntermediate(\n            (dense): Linear(in_features=768, out_features=3072, bias=True)\n            (intermediate_act_fn): GELUActivation()\n          )\n          (output): BertOutput(\n            (dense): Linear(in_features=3072, out_features=768, bias=True)\n            (LayerNorm): LayerNorm((768,), eps=1e-12, elementwise_affine=True)\n            (dropout): Dropout(p=0.1, inplace=False)\n          )\n        )\n        (9): BertLayer(\n          (attention): BertAttention(\n            (self): BertSelfAttention(\n              (query): Linear(in_features=768, out_features=768, bias=True)\n              (key): Linear(in_features=768, out_features=768, bias=True)\n              (value): Linear(in_features=768, out_features=768, bias=True)\n              (dropout): Dropout(p=0.1, inplace=False)\n            )\n            (output): BertSelfOutput(\n              (dense): Linear(in_features=768, out_features=768, bias=True)\n              (LayerNorm): LayerNorm((768,), eps=1e-12, elementwise_affine=True)\n              (dropout): Dropout(p=0.1, inplace=False)\n            )\n          )\n          (intermediate): BertIntermediate(\n            (dense): Linear(in_features=768, out_features=3072, bias=True)\n            (intermediate_act_fn): GELUActivation()\n          )\n          (output): BertOutput(\n            (dense): Linear(in_features=3072, out_features=768, bias=True)\n            (LayerNorm): LayerNorm((768,), eps=1e-12, elementwise_affine=True)\n            (dropout): Dropout(p=0.1, inplace=False)\n          )\n        )\n        (10): BertLayer(\n          (attention): BertAttention(\n            (self): BertSelfAttention(\n              (query): Linear(in_features=768, out_features=768, bias=True)\n              (key): Linear(in_features=768, out_features=768, bias=True)\n              (value): Linear(in_features=768, out_features=768, bias=True)\n              (dropout): Dropout(p=0.1, inplace=False)\n            )\n            (output): BertSelfOutput(\n              (dense): Linear(in_features=768, out_features=768, bias=True)\n              (LayerNorm): LayerNorm((768,), eps=1e-12, elementwise_affine=True)\n              (dropout): Dropout(p=0.1, inplace=False)\n            )\n          )\n          (intermediate): BertIntermediate(\n            (dense): Linear(in_features=768, out_features=3072, bias=True)\n            (intermediate_act_fn): GELUActivation()\n          )\n          (output): BertOutput(\n            (dense): Linear(in_features=3072, out_features=768, bias=True)\n            (LayerNorm): LayerNorm((768,), eps=1e-12, elementwise_affine=True)\n            (dropout): Dropout(p=0.1, inplace=False)\n          )\n        )\n        (11): BertLayer(\n          (attention): BertAttention(\n            (self): BertSelfAttention(\n              (query): Linear(in_features=768, out_features=768, bias=True)\n              (key): Linear(in_features=768, out_features=768, bias=True)\n              (value): Linear(in_features=768, out_features=768, bias=True)\n              (dropout): Dropout(p=0.1, inplace=False)\n            )\n            (output): BertSelfOutput(\n              (dense): Linear(in_features=768, out_features=768, bias=True)\n              (LayerNorm): LayerNorm((768,), eps=1e-12, elementwise_affine=True)\n              (dropout): Dropout(p=0.1, inplace=False)\n            )\n          )\n          (intermediate): BertIntermediate(\n            (dense): Linear(in_features=768, out_features=3072, bias=True)\n            (intermediate_act_fn): GELUActivation()\n          )\n          (output): BertOutput(\n            (dense): Linear(in_features=3072, out_features=768, bias=True)\n            (LayerNorm): LayerNorm((768,), eps=1e-12, elementwise_affine=True)\n            (dropout): Dropout(p=0.1, inplace=False)\n          )\n        )\n      )\n    )\n    (pooler): BertPooler(\n      (dense): Linear(in_features=768, out_features=768, bias=True)\n      (activation): Tanh()\n    )\n  )\n  (dropout): Dropout(p=0.1, inplace=False)\n  (classifier): Linear(in_features=768, out_features=10, bias=True)\n)"
          },
          "metadata": {}
        }
      ]
    },
    {
      "cell_type": "markdown",
      "source": [
        "## Test the model"
      ],
      "metadata": {
        "id": "mpeHbUBk0Qfr"
      }
    },
    {
      "cell_type": "markdown",
      "source": [
        "The time complexity of evaluating a BERT-based model on a test set depends on the size of the test set and the length of the input sequences.\n",
        "\n",
        "The loop that iterates over the test set batches runs for O(N/B) time, where N is the total number of test examples and B is the batch size.\n",
        "\n",
        "For each batch, the time complexity of processing the inputs using the BERT model is O(T^2), where T is the length of the input sequence. This is because BERT performs self-attention on the input sequence, which requires pairwise comparisons between each pair of input tokens, resulting in a time complexity of O(T^2).\n",
        "\n",
        "Therefore, the total time complexity of evaluating the BERT-based model on the test set is O(N/B * T^2)."
      ],
      "metadata": {
        "id": "29VYhVxP0No7"
      }
    },
    {
      "cell_type": "code",
      "source": [
        "# evaluate the model on test set\n",
        "model3.eval()\n",
        "\n",
        "predictions = []\n",
        "true_labels = []\n",
        "\n",
        "for batch in dataloader_test:\n",
        "    batch = tuple(b.to(device) for b in batch)\n",
        "    inputs = {'input_ids': batch[0],\n",
        "              'attention_mask': batch[1],\n",
        "              'labels': batch[2]}\n",
        "\n",
        "    with torch.no_grad():\n",
        "        outputs = model3(**inputs)\n",
        "\n",
        "    logits = outputs[1].detach().cpu().numpy()\n",
        "    label_ids = inputs['labels'].cpu().numpy()\n",
        "\n",
        "    predictions.append(logits)\n",
        "    true_labels.append(label_ids)\n",
        "\n",
        "# combine results for all batches\n",
        "predictions = np.concatenate(predictions, axis=0)\n",
        "true_labels = np.concatenate(true_labels, axis=0)"
      ],
      "metadata": {
        "id": "I3Ua9XVDIq1y",
        "execution": {
          "iopub.status.busy": "2023-03-26T13:15:47.527535Z",
          "iopub.execute_input": "2023-03-26T13:15:47.527853Z",
          "iopub.status.idle": "2023-03-26T13:18:35.126270Z",
          "shell.execute_reply.started": "2023-03-26T13:15:47.527825Z",
          "shell.execute_reply": "2023-03-26T13:18:35.125213Z"
        },
        "trusted": true
      },
      "execution_count": null,
      "outputs": []
    },
    {
      "cell_type": "code",
      "source": [
        "# get predicted labels\n",
        "predicted_labels = np.argmax(predictions, axis=1)\n",
        "\n",
        "# print classification report\n",
        "print(classification_report(true_labels, predicted_labels))\n",
        "\n",
        "# calculate and print various evaluation metrics\n",
        "accuracy = accuracy_score(true_labels, predicted_labels)\n",
        "f_score = f1_score(true_labels, predicted_labels, average='macro')\n",
        "recall = recall_score(true_labels, predicted_labels, average='macro')\n",
        "\n",
        "print(f\"Accuracy: {accuracy}\")\n",
        "print(f\"F1 Score: {f_score}\")\n",
        "print(f\"Recall: {recall}\")"
      ],
      "metadata": {
        "id": "EY4_UMdCIq1z",
        "outputId": "b145b992-c281-45de-a58c-eed100e7387b",
        "execution": {
          "iopub.status.busy": "2023-03-26T13:18:35.127825Z",
          "iopub.execute_input": "2023-03-26T13:18:35.128818Z",
          "iopub.status.idle": "2023-03-26T13:18:35.192458Z",
          "shell.execute_reply.started": "2023-03-26T13:18:35.128778Z",
          "shell.execute_reply": "2023-03-26T13:18:35.191348Z"
        },
        "trusted": true
      },
      "execution_count": null,
      "outputs": [
        {
          "name": "stdout",
          "text": "              precision    recall  f1-score   support\n\n           0       0.91      0.88      0.89      8091\n           1       0.47      0.62      0.54      1920\n           2       0.63      0.65      0.64       736\n           3       0.74      0.55      0.63       889\n           4       0.48      0.33      0.39      1205\n           5       0.70      0.64      0.67       667\n           6       0.69      0.80      0.74      5844\n           7       0.51      0.41      0.45       950\n           8       0.53      0.44      0.48      1834\n           9       0.38      0.35      0.37       422\n\n    accuracy                           0.71     22558\n   macro avg       0.60      0.57      0.58     22558\nweighted avg       0.71      0.71      0.71     22558\n\nAccuracy: 0.7123415196382658\nF1 Score: 0.5791228698159324\nRecall: 0.5650695611876857\n",
          "output_type": "stream"
        }
      ]
    },
    {
      "cell_type": "code",
      "source": [
        "# calculate and print various evaluation metrics (we use weighted F1-score since the dataset is highly imbalanced)\n",
        "accuracy = accuracy_score(true_labels, predicted_labels)\n",
        "f_score = f1_score(true_labels, predicted_labels, average='weighted')\n",
        "recall = recall_score(true_labels, predicted_labels, average='weighted')\n",
        "print(f\"Accuracy: {accuracy}\")\n",
        "print(f\"F1 Score: {f_score}\")\n",
        "print(f\"Recall: {recall}\")"
      ],
      "metadata": {
        "id": "_ctU0jXM-mYl",
        "outputId": "6b084b32-b187-4b8d-89dc-343de6c17858",
        "execution": {
          "iopub.status.busy": "2023-03-26T13:18:35.193806Z",
          "iopub.execute_input": "2023-03-26T13:18:35.194366Z",
          "iopub.status.idle": "2023-03-26T13:18:35.220798Z",
          "shell.execute_reply.started": "2023-03-26T13:18:35.194321Z",
          "shell.execute_reply": "2023-03-26T13:18:35.219705Z"
        },
        "trusted": true
      },
      "execution_count": null,
      "outputs": [
        {
          "name": "stdout",
          "text": "Accuracy: 0.7123415196382658\nF1 Score: 0.7090029465280414\nRecall: 0.7123415196382658\n",
          "output_type": "stream"
        }
      ]
    },
    {
      "cell_type": "code",
      "source": [
        "label_encoder1 = LabelEncoder()\n",
        "true_labels_enc = label_encoder1.fit_transform(true_labels)\n",
        "predicted_labels_enc = label_encoder1.fit_transform(predicted_labels)"
      ],
      "metadata": {
        "execution": {
          "iopub.status.busy": "2023-03-26T13:36:05.691336Z",
          "iopub.execute_input": "2023-03-26T13:36:05.691732Z",
          "iopub.status.idle": "2023-03-26T13:36:05.706148Z",
          "shell.execute_reply.started": "2023-03-26T13:36:05.691696Z",
          "shell.execute_reply": "2023-03-26T13:36:05.705129Z"
        },
        "trusted": true,
        "id": "0gjAT_E-k8GI"
      },
      "execution_count": null,
      "outputs": []
    },
    {
      "cell_type": "code",
      "source": [
        "from sklearn.metrics import confusion_matrix\n",
        "import matplotlib.pyplot as plt\n",
        "import seaborn as sns\n",
        "\n",
        "conf_matrix = confusion_matrix(true_labels_enc, predicted_labels_enc)\n",
        "conf_matrix = conf_matrix.astype('float') / conf_matrix.sum(axis=1)[:, np.newaxis]\n",
        "sns.set(font_scale=0.65)\n",
        "fig, ax = plt.subplots(figsize=(10, 8))  # set the figure size\n",
        "sns.heatmap(conf_matrix, annot=True, cmap='Blues', xticklabels=list(range(len(label_encoder.classes_))), yticklabels=list(range(len(label_encoder.classes_))))\n",
        "ax.set_xlabel('Predicted Labels')\n",
        "ax.set_ylabel('True Labels')\n",
        "plt.show()"
      ],
      "metadata": {
        "execution": {
          "iopub.status.busy": "2023-03-26T13:39:39.202524Z",
          "iopub.execute_input": "2023-03-26T13:39:39.203217Z",
          "iopub.status.idle": "2023-03-26T13:39:39.975687Z",
          "shell.execute_reply.started": "2023-03-26T13:39:39.203181Z",
          "shell.execute_reply": "2023-03-26T13:39:39.974590Z"
        },
        "trusted": true,
        "id": "q35LNOi0k8GI",
        "outputId": "87b115f0-e887-4f26-ca17-b9e0d6d48701"
      },
      "execution_count": null,
      "outputs": [
        {
          "output_type": "display_data",
          "data": {
            "text/plain": "<Figure size 1000x800 with 2 Axes>",
            "image/png": "[encoded data removed]"
          },
          "metadata": {}
        }
      ]
    },
    {
      "cell_type": "markdown",
      "source": [
        "# Arabic Poetry Generator:"
      ],
      "metadata": {
        "id": "jFxOp8_j1Kcw"
      }
    },
    {
      "cell_type": "markdown",
      "source": [
        "## Importing Modules:"
      ],
      "metadata": {
        "id": "oWIbQdD81aVn"
      }
    },
    {
      "cell_type": "code",
      "source": [
        "# !pip install transformers\n",
        "# !pip install datasets"
      ],
      "metadata": {
        "id": "11ROwQEH1h74",
        "colab": {
          "base_uri": "https://localhost:8080/"
        },
        "outputId": "b56f394e-6285-4511-8f51-4298f79bd644"
      },
      "execution_count": null,
      "outputs": [
        {
          "output_type": "stream",
          "name": "stdout",
          "text": "Looking in indexes: https://pypi.org/simple, https://us-python.pkg.dev/colab-wheels/public/simple/\n\nCollecting transformers\n\n  Downloading transformers-4.27.3-py3-none-any.whl (6.8 MB)\n\n\u001b[2K     \u001b[90m━━━━━━━━━━━━━━━━━━━━━━━━━━━━━━━━━━━━━━━━\u001b[0m \u001b[32m6.8/6.8 MB\u001b[0m \u001b[31m60.3 MB/s\u001b[0m eta \u001b[36m0:00:00\u001b[0m\n\n\u001b[?25hRequirement already satisfied: filelock in /usr/local/lib/python3.9/dist-packages (from transformers) (3.10.1)\n\nRequirement already satisfied: regex!=2019.12.17 in /usr/local/lib/python3.9/dist-packages (from transformers) (2022.10.31)\n\nRequirement already satisfied: tqdm>=4.27 in /usr/local/lib/python3.9/dist-packages (from transformers) (4.65.0)\n\nRequirement already satisfied: requests in /usr/local/lib/python3.9/dist-packages (from transformers) (2.27.1)\n\nRequirement already satisfied: packaging>=20.0 in /usr/local/lib/python3.9/dist-packages (from transformers) (23.0)\n\nRequirement already satisfied: pyyaml>=5.1 in /usr/local/lib/python3.9/dist-packages (from transformers) (6.0)\n\nRequirement already satisfied: numpy>=1.17 in /usr/local/lib/python3.9/dist-packages (from transformers) (1.22.4)\n\nCollecting tokenizers!=0.11.3,<0.14,>=0.11.1\n\n  Downloading tokenizers-0.13.2-cp39-cp39-manylinux_2_17_x86_64.manylinux2014_x86_64.whl (7.6 MB)\n\n\u001b[2K     \u001b[90m━━━━━━━━━━━━━━━━━━━━━━━━━━━━━━━━━━━━━━━━\u001b[0m \u001b[32m7.6/7.6 MB\u001b[0m \u001b[31m65.6 MB/s\u001b[0m eta \u001b[36m0:00:00\u001b[0m\n\n\u001b[?25hCollecting huggingface-hub<1.0,>=0.11.0\n\n  Downloading huggingface_hub-0.13.3-py3-none-any.whl (199 kB)\n\n\u001b[2K     \u001b[90m━━━━━━━━━━━━━━━━━━━━━━━━━━━━━━━━━━━━━━━\u001b[0m \u001b[32m199.8/199.8 KB\u001b[0m \u001b[31m7.0 MB/s\u001b[0m eta \u001b[36m0:00:00\u001b[0m\n\n\u001b[?25hRequirement already satisfied: typing-extensions>=3.7.4.3 in /usr/local/lib/python3.9/dist-packages (from huggingface-hub<1.0,>=0.11.0->transformers) (4.5.0)\n\nRequirement already satisfied: urllib3<1.27,>=1.21.1 in /usr/local/lib/python3.9/dist-packages (from requests->transformers) (1.26.15)\n\nRequirement already satisfied: idna<4,>=2.5 in /usr/local/lib/python3.9/dist-packages (from requests->transformers) (3.4)\n\nRequirement already satisfied: charset-normalizer~=2.0.0 in /usr/local/lib/python3.9/dist-packages (from requests->transformers) (2.0.12)\n\nRequirement already satisfied: certifi>=2017.4.17 in /usr/local/lib/python3.9/dist-packages (from requests->transformers) (2022.12.7)\n\nInstalling collected packages: tokenizers, huggingface-hub, transformers\n\nSuccessfully installed huggingface-hub-0.13.3 tokenizers-0.13.2 transformers-4.27.3\n\nLooking in indexes: https://pypi.org/simple, https://us-python.pkg.dev/colab-wheels/public/simple/\n\nCollecting datasets\n\n  Downloading datasets-2.10.1-py3-none-any.whl (469 kB)\n\n\u001b[2K     \u001b[90m━━━━━━━━━━━━━━━━━━━━━━━━━━━━━━━━━━━━━━━\u001b[0m \u001b[32m469.0/469.0 KB\u001b[0m \u001b[31m9.2 MB/s\u001b[0m eta \u001b[36m0:00:00\u001b[0m\n\n\u001b[?25hCollecting responses<0.19\n\n  Downloading responses-0.18.0-py3-none-any.whl (38 kB)\n\nRequirement already satisfied: requests>=2.19.0 in /usr/local/lib/python3.9/dist-packages (from datasets) (2.27.1)\n\nRequirement already satisfied: pandas in /usr/local/lib/python3.9/dist-packages (from datasets) (1.4.4)\n\nCollecting aiohttp\n\n  Downloading aiohttp-3.8.4-cp39-cp39-manylinux_2_17_x86_64.manylinux2014_x86_64.whl (1.0 MB)\n\n\u001b[2K     \u001b[90m━━━━━━━━━━━━━━━━━━━━━━━━━━━━━━━━━━━━━━━━\u001b[0m \u001b[32m1.0/1.0 MB\u001b[0m \u001b[31m54.2 MB/s\u001b[0m eta \u001b[36m0:00:00\u001b[0m\n\n\u001b[?25hCollecting xxhash\n\n  Downloading xxhash-3.2.0-cp39-cp39-manylinux_2_17_x86_64.manylinux2014_x86_64.whl (212 kB)\n\n\u001b[2K     \u001b[90m━━━━━━━━━━━━━━━━━━━━━━━━━━━━━━━━━━━━━━\u001b[0m \u001b[32m212.2/212.2 KB\u001b[0m \u001b[31m22.3 MB/s\u001b[0m eta \u001b[36m0:00:00\u001b[0m\n\n\u001b[?25hRequirement already satisfied: packaging in /usr/local/lib/python3.9/dist-packages (from datasets) (23.0)\n\nRequirement already satisfied: pyarrow>=6.0.0 in /usr/local/lib/python3.9/dist-packages (from datasets) (9.0.0)\n\nRequirement already satisfied: pyyaml>=5.1 in /usr/local/lib/python3.9/dist-packages (from datasets) (6.0)\n\nRequirement already satisfied: huggingface-hub<1.0.0,>=0.2.0 in /usr/local/lib/python3.9/dist-packages (from datasets) (0.13.3)\n\nCollecting dill<0.3.7,>=0.3.0\n\n  Downloading dill-0.3.6-py3-none-any.whl (110 kB)\n\n\u001b[2K     \u001b[90m━━━━━━━━━━━━━━━━━━━━━━━━━━━━━━━━━━━━━━\u001b[0m \u001b[32m110.5/110.5 KB\u001b[0m \u001b[31m13.6 MB/s\u001b[0m eta \u001b[36m0:00:00\u001b[0m\n\n\u001b[?25hRequirement already satisfied: fsspec[http]>=2021.11.1 in /usr/local/lib/python3.9/dist-packages (from datasets) (2023.3.0)\n\nRequirement already satisfied: numpy>=1.17 in /usr/local/lib/python3.9/dist-packages (from datasets) (1.22.4)\n\nCollecting multiprocess\n\n  Downloading multiprocess-0.70.14-py39-none-any.whl (132 kB)\n\n\u001b[2K     \u001b[90m━━━━━━━━━━━━━━━━━━━━━━━━━━━━━━━━━━━━━━\u001b[0m \u001b[32m132.9/132.9 KB\u001b[0m \u001b[31m17.4 MB/s\u001b[0m eta \u001b[36m0:00:00\u001b[0m\n\n\u001b[?25hRequirement already satisfied: tqdm>=4.62.1 in /usr/local/lib/python3.9/dist-packages (from datasets) (4.65.0)\n\nCollecting yarl<2.0,>=1.0\n\n  Downloading yarl-1.8.2-cp39-cp39-manylinux_2_17_x86_64.manylinux2014_x86_64.whl (264 kB)\n\n\u001b[2K     \u001b[90m━━━━━━━━━━━━━━━━━━━━━━━━━━━━━━━━━━━━━━\u001b[0m \u001b[32m264.6/264.6 KB\u001b[0m \u001b[31m26.3 MB/s\u001b[0m eta \u001b[36m0:00:00\u001b[0m\n\n\u001b[?25hCollecting frozenlist>=1.1.1\n\n  Downloading frozenlist-1.3.3-cp39-cp39-manylinux_2_5_x86_64.manylinux1_x86_64.manylinux_2_17_x86_64.manylinux2014_x86_64.whl (158 kB)\n\n\u001b[2K     \u001b[90m━━━━━━━━━━━━━━━━━━━━━━━━━━━━━━━━━━━━━━\u001b[0m \u001b[32m158.8/158.8 KB\u001b[0m \u001b[31m17.5 MB/s\u001b[0m eta \u001b[36m0:00:00\u001b[0m\n\n\u001b[?25hCollecting async-timeout<5.0,>=4.0.0a3\n\n  Downloading async_timeout-4.0.2-py3-none-any.whl (5.8 kB)\n\nRequirement already satisfied: attrs>=17.3.0 in /usr/local/lib/python3.9/dist-packages (from aiohttp->datasets) (22.2.0)\n\nCollecting multidict<7.0,>=4.5\n\n  Downloading multidict-6.0.4-cp39-cp39-manylinux_2_17_x86_64.manylinux2014_x86_64.whl (114 kB)\n\n\u001b[2K     \u001b[90m━━━━━━━━━━━━━━━━━━━━━━━━━━━━━━━━━━━━━━\u001b[0m \u001b[32m114.2/114.2 KB\u001b[0m \u001b[31m14.1 MB/s\u001b[0m eta \u001b[36m0:00:00\u001b[0m\n\n\u001b[?25hCollecting aiosignal>=1.1.2\n\n  Downloading aiosignal-1.3.1-py3-none-any.whl (7.6 kB)\n\nRequirement already satisfied: charset-normalizer<4.0,>=2.0 in /usr/local/lib/python3.9/dist-packages (from aiohttp->datasets) (2.0.12)\n\nRequirement already satisfied: typing-extensions>=3.7.4.3 in /usr/local/lib/python3.9/dist-packages (from huggingface-hub<1.0.0,>=0.2.0->datasets) (4.5.0)\n\nRequirement already satisfied: filelock in /usr/local/lib/python3.9/dist-packages (from huggingface-hub<1.0.0,>=0.2.0->datasets) (3.10.1)\n\nRequirement already satisfied: certifi>=2017.4.17 in /usr/local/lib/python3.9/dist-packages (from requests>=2.19.0->datasets) (2022.12.7)\n\nRequirement already satisfied: idna<4,>=2.5 in /usr/local/lib/python3.9/dist-packages (from requests>=2.19.0->datasets) (3.4)\n\nRequirement already satisfied: urllib3<1.27,>=1.21.1 in /usr/local/lib/python3.9/dist-packages (from requests>=2.19.0->datasets) (1.26.15)\n\nRequirement already satisfied: python-dateutil>=2.8.1 in /usr/local/lib/python3.9/dist-packages (from pandas->datasets) (2.8.2)\n\nRequirement already satisfied: pytz>=2020.1 in /usr/local/lib/python3.9/dist-packages (from pandas->datasets) (2022.7.1)\n\nRequirement already satisfied: six>=1.5 in /usr/local/lib/python3.9/dist-packages (from python-dateutil>=2.8.1->pandas->datasets) (1.16.0)\n\nInstalling collected packages: xxhash, multidict, frozenlist, dill, async-timeout, yarl, responses, multiprocess, aiosignal, aiohttp, datasets\n\nSuccessfully installed aiohttp-3.8.4 aiosignal-1.3.1 async-timeout-4.0.2 datasets-2.10.1 dill-0.3.6 frozenlist-1.3.3 multidict-6.0.4 multiprocess-0.70.14 responses-0.18.0 xxhash-3.2.0 yarl-1.8.2\n"
        }
      ]
    },
    {
      "cell_type": "code",
      "source": [
        "import pandas as pd\n",
        "from torch.utils.data import Dataset, DataLoader\n",
        "import torch\n",
        "import transformers\n",
        "from transformers import AutoTokenizer, AutoModelForCausalLM, DataCollatorForLanguageModeling, Trainer, TrainingArguments\n",
        "from transformers import pipeline\n",
        "from tqdm import tqdm\n",
        "from datasets import load_dataset"
      ],
      "metadata": {
        "id": "ZxQ0INLW1U3p"
      },
      "execution_count": null,
      "outputs": []
    },
    {
      "cell_type": "code",
      "source": [
        "DEVICE = torch.device('cuda' if torch.cuda.is_available() else 'cpu')\n",
        "print('Device available now:', DEVICE)"
      ],
      "metadata": {
        "colab": {
          "base_uri": "https://localhost:8080/"
        },
        "id": "BlL_McKJ1xEM",
        "outputId": "971b51f8-fea9-4e76-e814-babdfcfa3e57"
      },
      "execution_count": null,
      "outputs": [
        {
          "output_type": "stream",
          "name": "stdout",
          "text": "Device available now: cuda\n"
        }
      ]
    },
    {
      "cell_type": "code",
      "source": [
        "from google.colab import drive\n",
        "drive.mount('/content/drive')"
      ],
      "metadata": {
        "colab": {
          "base_uri": "https://localhost:8080/"
        },
        "id": "cwn6463C2PG0",
        "outputId": "c0ed0f16-37bd-4d14-8732-23b5fa1c8264"
      },
      "execution_count": null,
      "outputs": [
        {
          "output_type": "stream",
          "name": "stdout",
          "text": "Mounted at /content/drive\n"
        }
      ]
    },
    {
      "cell_type": "markdown",
      "source": [
        "## Downloading the dataset:"
      ],
      "metadata": {
        "id": "8PrwiaVv1yOY"
      }
    },
    {
      "cell_type": "code",
      "source": [
        "# !mkdir /root/.kaggle\n",
        "# !cp -r /content/kaggle.json /root/.kaggle\n",
        "# !kaggle datasets download -d ahmedabelal/arabic-poetry\n",
        "# !unzip /content/arabic-poetry.zip\n",
        "# !cp /content/Arabic_poetry_dataset.csv /content/drive/MyDrive/NLP"
      ],
      "metadata": {
        "id": "45xDx6IC16ME"
      },
      "execution_count": null,
      "outputs": []
    },
    {
      "cell_type": "markdown",
      "source": [
        "## Preparing the dataset and training the model:"
      ],
      "metadata": {
        "id": "PunkT24r2GeY"
      }
    },
    {
      "cell_type": "code",
      "source": [
        "df = pd.read_csv('/content/drive/MyDrive/NLP/Arabic_poetry_dataset.csv')\n",
        "df.head()"
      ],
      "metadata": {
        "colab": {
          "base_uri": "https://localhost:8080/",
          "height": 206
        },
        "id": "1o7DjYyD2JUA",
        "outputId": "116dc1e8-7093-4569-b812-2e41530c3826"
      },
      "execution_count": null,
      "outputs": [
        {
          "output_type": "execute_result",
          "execution_count": 27,
          "data": {
            "text/plain": [
              "   id  category      poet_name                    poem_title  \\\n",
              "0   0  الإمارات  خلفان بن مصبح     بدت تختال في حُلل الجمالِ   \n",
              "1   1  الإمارات  خلفان بن مصبح          يا طائر الشعر القرير   \n",
              "2   2  الإمارات  خلفان بن مصبح          بنت حجرات أرى من عجب   \n",
              "3   3  الإمارات  خلفان بن مصبح  هذا الربيع بنور الحسن وافانا   \n",
              "4   4  الإمارات  خلفان بن مصبح   روحي فداك وإن مُنحتُ صدوداً   \n",
              "\n",
              "                                           poem_text  \n",
              "0  بدت تختال في حُلل الجمالِ\\nوجادت بالزيارة والو...  \n",
              "1  يا طائر الشعر القرير\\nيا وحي إلهام الصدور\\nأسع...  \n",
              "2  بنت حجرات أرى من عجب\\nأن أرى فيك جمال العرب\\nد...  \n",
              "3  هذا الربيع بنور الحسن وافانا\\nوقد كسا الأرض با...  \n",
              "4  روحي فداك وإن مُنحتُ صدوداً\\nأخفاك ما بي أم أط...  "
            ],
            "text/html": [
              "\n",
              "  <div id=\"df-ace91ed9-e10d-4ad4-a71b-1a9cdfa49cfc\">\n",
              "    <div class=\"colab-df-container\">\n",
              "      <div>\n",
              "<style scoped>\n",
              "    .dataframe tbody tr th:only-of-type {\n",
              "        vertical-align: middle;\n",
              "    }\n",
              "\n",
              "    .dataframe tbody tr th {\n",
              "        vertical-align: top;\n",
              "    }\n",
              "\n",
              "    .dataframe thead th {\n",
              "        text-align: right;\n",
              "    }\n",
              "</style>\n",
              "<table border=\"1\" class=\"dataframe\">\n",
              "  <thead>\n",
              "    <tr style=\"text-align: right;\">\n",
              "      <th></th>\n",
              "      <th>id</th>\n",
              "      <th>category</th>\n",
              "      <th>poet_name</th>\n",
              "      <th>poem_title</th>\n",
              "      <th>poem_text</th>\n",
              "    </tr>\n",
              "  </thead>\n",
              "  <tbody>\n",
              "    <tr>\n",
              "      <th>0</th>\n",
              "      <td>0</td>\n",
              "      <td>الإمارات</td>\n",
              "      <td>خلفان بن مصبح</td>\n",
              "      <td>بدت تختال في حُلل الجمالِ</td>\n",
              "      <td>بدت تختال في حُلل الجمالِ\\nوجادت بالزيارة والو...</td>\n",
              "    </tr>\n",
              "    <tr>\n",
              "      <th>1</th>\n",
              "      <td>1</td>\n",
              "      <td>الإمارات</td>\n",
              "      <td>خلفان بن مصبح</td>\n",
              "      <td>يا طائر الشعر القرير</td>\n",
              "      <td>يا طائر الشعر القرير\\nيا وحي إلهام الصدور\\nأسع...</td>\n",
              "    </tr>\n",
              "    <tr>\n",
              "      <th>2</th>\n",
              "      <td>2</td>\n",
              "      <td>الإمارات</td>\n",
              "      <td>خلفان بن مصبح</td>\n",
              "      <td>بنت حجرات أرى من عجب</td>\n",
              "      <td>بنت حجرات أرى من عجب\\nأن أرى فيك جمال العرب\\nد...</td>\n",
              "    </tr>\n",
              "    <tr>\n",
              "      <th>3</th>\n",
              "      <td>3</td>\n",
              "      <td>الإمارات</td>\n",
              "      <td>خلفان بن مصبح</td>\n",
              "      <td>هذا الربيع بنور الحسن وافانا</td>\n",
              "      <td>هذا الربيع بنور الحسن وافانا\\nوقد كسا الأرض با...</td>\n",
              "    </tr>\n",
              "    <tr>\n",
              "      <th>4</th>\n",
              "      <td>4</td>\n",
              "      <td>الإمارات</td>\n",
              "      <td>خلفان بن مصبح</td>\n",
              "      <td>روحي فداك وإن مُنحتُ صدوداً</td>\n",
              "      <td>روحي فداك وإن مُنحتُ صدوداً\\nأخفاك ما بي أم أط...</td>\n",
              "    </tr>\n",
              "  </tbody>\n",
              "</table>\n",
              "</div>\n",
              "      <button class=\"colab-df-convert\" onclick=\"convertToInteractive('df-ace91ed9-e10d-4ad4-a71b-1a9cdfa49cfc')\"\n",
              "              title=\"Convert this dataframe to an interactive table.\"\n",
              "              style=\"display:none;\">\n",
              "        \n",
              "  <svg xmlns=\"http://www.w3.org/2000/svg\" height=\"24px\"viewBox=\"0 0 24 24\"\n",
              "       width=\"24px\">\n",
              "    <path d=\"M0 0h24v24H0V0z\" fill=\"none\"/>\n",
              "    <path d=\"M18.56 5.44l.94 2.06.94-2.06 2.06-.94-2.06-.94-.94-2.06-.94 2.06-2.06.94zm-11 1L8.5 8.5l.94-2.06 2.06-.94-2.06-.94L8.5 2.5l-.94 2.06-2.06.94zm10 10l.94 2.06.94-2.06 2.06-.94-2.06-.94-.94-2.06-.94 2.06-2.06.94z\"/><path d=\"M17.41 7.96l-1.37-1.37c-.4-.4-.92-.59-1.43-.59-.52 0-1.04.2-1.43.59L10.3 9.45l-7.72 7.72c-.78.78-.78 2.05 0 2.83L4 21.41c.39.39.9.59 1.41.59.51 0 1.02-.2 1.41-.59l7.78-7.78 2.81-2.81c.8-.78.8-2.07 0-2.86zM5.41 20L4 18.59l7.72-7.72 1.47 1.35L5.41 20z\"/>\n",
              "  </svg>\n",
              "      </button>\n",
              "      \n",
              "  <style>\n",
              "    .colab-df-container {\n",
              "      display:flex;\n",
              "      flex-wrap:wrap;\n",
              "      gap: 12px;\n",
              "    }\n",
              "\n",
              "    .colab-df-convert {\n",
              "      background-color: #E8F0FE;\n",
              "      border: none;\n",
              "      border-radius: 50%;\n",
              "      cursor: pointer;\n",
              "      display: none;\n",
              "      fill: #1967D2;\n",
              "      height: 32px;\n",
              "      padding: 0 0 0 0;\n",
              "      width: 32px;\n",
              "    }\n",
              "\n",
              "    .colab-df-convert:hover {\n",
              "      background-color: #E2EBFA;\n",
              "      box-shadow: 0px 1px 2px rgba(60, 64, 67, 0.3), 0px 1px 3px 1px rgba(60, 64, 67, 0.15);\n",
              "      fill: #174EA6;\n",
              "    }\n",
              "\n",
              "    [theme=dark] .colab-df-convert {\n",
              "      background-color: #3B4455;\n",
              "      fill: #D2E3FC;\n",
              "    }\n",
              "\n",
              "    [theme=dark] .colab-df-convert:hover {\n",
              "      background-color: #434B5C;\n",
              "      box-shadow: 0px 1px 3px 1px rgba(0, 0, 0, 0.15);\n",
              "      filter: drop-shadow(0px 1px 2px rgba(0, 0, 0, 0.3));\n",
              "      fill: #FFFFFF;\n",
              "    }\n",
              "  </style>\n",
              "\n",
              "      <script>\n",
              "        const buttonEl =\n",
              "          document.querySelector('#df-ace91ed9-e10d-4ad4-a71b-1a9cdfa49cfc button.colab-df-convert');\n",
              "        buttonEl.style.display =\n",
              "          google.colab.kernel.accessAllowed ? 'block' : 'none';\n",
              "\n",
              "        async function convertToInteractive(key) {\n",
              "          const element = document.querySelector('#df-ace91ed9-e10d-4ad4-a71b-1a9cdfa49cfc');\n",
              "          const dataTable =\n",
              "            await google.colab.kernel.invokeFunction('convertToInteractive',\n",
              "                                                     [key], {});\n",
              "          if (!dataTable) return;\n",
              "\n",
              "          const docLinkHtml = 'Like what you see? Visit the ' +\n",
              "            '<a target=\"_blank\" href=https://colab.research.google.com/notebooks/data_table.ipynb>data table notebook</a>'\n",
              "            + ' to learn more about interactive tables.';\n",
              "          element.innerHTML = '';\n",
              "          dataTable['output_type'] = 'display_data';\n",
              "          await google.colab.output.renderOutput(dataTable, element);\n",
              "          const docLink = document.createElement('div');\n",
              "          docLink.innerHTML = docLinkHtml;\n",
              "          element.appendChild(docLink);\n",
              "        }\n",
              "      </script>\n",
              "    </div>\n",
              "  </div>\n",
              "  "
            ]
          },
          "metadata": {}
        }
      ]
    },
    {
      "cell_type": "code",
      "source": [
        "test_set = df.sample(n = 200)\n",
        "test_set.head()"
      ],
      "metadata": {
        "id": "p7kgaVqe24yB",
        "outputId": "c87e836e-7cf1-437e-ccfd-82ac45b1bb39",
        "colab": {
          "base_uri": "https://localhost:8080/",
          "height": 206
        }
      },
      "execution_count": null,
      "outputs": [
        {
          "output_type": "execute_result",
          "execution_count": 28,
          "data": {
            "text/plain": [
              "          id       category          poet_name                     poem_title  \\\n",
              "39680  39854   العصر الاموي      الكميت بن زيد   لا ينبت الناس إلا في أرومتهم   \n",
              "22895  23069  العصر العباسي     الأحنف العكبري        حسبي من التريبات والحشم   \n",
              "42257  42431   العصر الاموي  أبو الأسود الدؤلي           زيد مائت كمد الحبارى   \n",
              "25282  25456  العصر العباسي         الخبز أرزي  إن كان لفظي كريها فاصطبر فعلى   \n",
              "30776  30950  العصر الايوبي      أسامة بن منقذ      لا تغبطن أهل بيت سرهم زمن   \n",
              "\n",
              "                                               poem_text  \n",
              "39680  لا ينبت الناس إلا في أرومتهم\\nولا ترى ثمر القِ...  \n",
              "22895  حسبي من التريبات والحشَمِ\\nومن وقوفي بموقف الن...  \n",
              "42257  زَيدٌ مائِتٌ كَمَدَ الحُبارى\\nإِذا ظَعِنَت لَط...  \n",
              "25282  إن كان لفظي كريهاً فاصطبر فعلى\\nكره العلاج يصح...  \n",
              "30776  لا تَغبِطَنْ أهْلَ بيتٍ سَرّهُمْ زمَنٌ\\nفسوفَ ...  "
            ],
            "text/html": [
              "\n",
              "  <div id=\"df-f1d024dd-598a-48d4-a523-e890e88d30c2\">\n",
              "    <div class=\"colab-df-container\">\n",
              "      <div>\n",
              "<style scoped>\n",
              "    .dataframe tbody tr th:only-of-type {\n",
              "        vertical-align: middle;\n",
              "    }\n",
              "\n",
              "    .dataframe tbody tr th {\n",
              "        vertical-align: top;\n",
              "    }\n",
              "\n",
              "    .dataframe thead th {\n",
              "        text-align: right;\n",
              "    }\n",
              "</style>\n",
              "<table border=\"1\" class=\"dataframe\">\n",
              "  <thead>\n",
              "    <tr style=\"text-align: right;\">\n",
              "      <th></th>\n",
              "      <th>id</th>\n",
              "      <th>category</th>\n",
              "      <th>poet_name</th>\n",
              "      <th>poem_title</th>\n",
              "      <th>poem_text</th>\n",
              "    </tr>\n",
              "  </thead>\n",
              "  <tbody>\n",
              "    <tr>\n",
              "      <th>39680</th>\n",
              "      <td>39854</td>\n",
              "      <td>العصر الاموي</td>\n",
              "      <td>الكميت بن زيد</td>\n",
              "      <td>لا ينبت الناس إلا في أرومتهم</td>\n",
              "      <td>لا ينبت الناس إلا في أرومتهم\\nولا ترى ثمر القِ...</td>\n",
              "    </tr>\n",
              "    <tr>\n",
              "      <th>22895</th>\n",
              "      <td>23069</td>\n",
              "      <td>العصر العباسي</td>\n",
              "      <td>الأحنف العكبري</td>\n",
              "      <td>حسبي من التريبات والحشم</td>\n",
              "      <td>حسبي من التريبات والحشَمِ\\nومن وقوفي بموقف الن...</td>\n",
              "    </tr>\n",
              "    <tr>\n",
              "      <th>42257</th>\n",
              "      <td>42431</td>\n",
              "      <td>العصر الاموي</td>\n",
              "      <td>أبو الأسود الدؤلي</td>\n",
              "      <td>زيد مائت كمد الحبارى</td>\n",
              "      <td>زَيدٌ مائِتٌ كَمَدَ الحُبارى\\nإِذا ظَعِنَت لَط...</td>\n",
              "    </tr>\n",
              "    <tr>\n",
              "      <th>25282</th>\n",
              "      <td>25456</td>\n",
              "      <td>العصر العباسي</td>\n",
              "      <td>الخبز أرزي</td>\n",
              "      <td>إن كان لفظي كريها فاصطبر فعلى</td>\n",
              "      <td>إن كان لفظي كريهاً فاصطبر فعلى\\nكره العلاج يصح...</td>\n",
              "    </tr>\n",
              "    <tr>\n",
              "      <th>30776</th>\n",
              "      <td>30950</td>\n",
              "      <td>العصر الايوبي</td>\n",
              "      <td>أسامة بن منقذ</td>\n",
              "      <td>لا تغبطن أهل بيت سرهم زمن</td>\n",
              "      <td>لا تَغبِطَنْ أهْلَ بيتٍ سَرّهُمْ زمَنٌ\\nفسوفَ ...</td>\n",
              "    </tr>\n",
              "  </tbody>\n",
              "</table>\n",
              "</div>\n",
              "      <button class=\"colab-df-convert\" onclick=\"convertToInteractive('df-f1d024dd-598a-48d4-a523-e890e88d30c2')\"\n",
              "              title=\"Convert this dataframe to an interactive table.\"\n",
              "              style=\"display:none;\">\n",
              "        \n",
              "  <svg xmlns=\"http://www.w3.org/2000/svg\" height=\"24px\"viewBox=\"0 0 24 24\"\n",
              "       width=\"24px\">\n",
              "    <path d=\"M0 0h24v24H0V0z\" fill=\"none\"/>\n",
              "    <path d=\"M18.56 5.44l.94 2.06.94-2.06 2.06-.94-2.06-.94-.94-2.06-.94 2.06-2.06.94zm-11 1L8.5 8.5l.94-2.06 2.06-.94-2.06-.94L8.5 2.5l-.94 2.06-2.06.94zm10 10l.94 2.06.94-2.06 2.06-.94-2.06-.94-.94-2.06-.94 2.06-2.06.94z\"/><path d=\"M17.41 7.96l-1.37-1.37c-.4-.4-.92-.59-1.43-.59-.52 0-1.04.2-1.43.59L10.3 9.45l-7.72 7.72c-.78.78-.78 2.05 0 2.83L4 21.41c.39.39.9.59 1.41.59.51 0 1.02-.2 1.41-.59l7.78-7.78 2.81-2.81c.8-.78.8-2.07 0-2.86zM5.41 20L4 18.59l7.72-7.72 1.47 1.35L5.41 20z\"/>\n",
              "  </svg>\n",
              "      </button>\n",
              "      \n",
              "  <style>\n",
              "    .colab-df-container {\n",
              "      display:flex;\n",
              "      flex-wrap:wrap;\n",
              "      gap: 12px;\n",
              "    }\n",
              "\n",
              "    .colab-df-convert {\n",
              "      background-color: #E8F0FE;\n",
              "      border: none;\n",
              "      border-radius: 50%;\n",
              "      cursor: pointer;\n",
              "      display: none;\n",
              "      fill: #1967D2;\n",
              "      height: 32px;\n",
              "      padding: 0 0 0 0;\n",
              "      width: 32px;\n",
              "    }\n",
              "\n",
              "    .colab-df-convert:hover {\n",
              "      background-color: #E2EBFA;\n",
              "      box-shadow: 0px 1px 2px rgba(60, 64, 67, 0.3), 0px 1px 3px 1px rgba(60, 64, 67, 0.15);\n",
              "      fill: #174EA6;\n",
              "    }\n",
              "\n",
              "    [theme=dark] .colab-df-convert {\n",
              "      background-color: #3B4455;\n",
              "      fill: #D2E3FC;\n",
              "    }\n",
              "\n",
              "    [theme=dark] .colab-df-convert:hover {\n",
              "      background-color: #434B5C;\n",
              "      box-shadow: 0px 1px 3px 1px rgba(0, 0, 0, 0.15);\n",
              "      filter: drop-shadow(0px 1px 2px rgba(0, 0, 0, 0.3));\n",
              "      fill: #FFFFFF;\n",
              "    }\n",
              "  </style>\n",
              "\n",
              "      <script>\n",
              "        const buttonEl =\n",
              "          document.querySelector('#df-f1d024dd-598a-48d4-a523-e890e88d30c2 button.colab-df-convert');\n",
              "        buttonEl.style.display =\n",
              "          google.colab.kernel.accessAllowed ? 'block' : 'none';\n",
              "\n",
              "        async function convertToInteractive(key) {\n",
              "          const element = document.querySelector('#df-f1d024dd-598a-48d4-a523-e890e88d30c2');\n",
              "          const dataTable =\n",
              "            await google.colab.kernel.invokeFunction('convertToInteractive',\n",
              "                                                     [key], {});\n",
              "          if (!dataTable) return;\n",
              "\n",
              "          const docLinkHtml = 'Like what you see? Visit the ' +\n",
              "            '<a target=\"_blank\" href=https://colab.research.google.com/notebooks/data_table.ipynb>data table notebook</a>'\n",
              "            + ' to learn more about interactive tables.';\n",
              "          element.innerHTML = '';\n",
              "          dataTable['output_type'] = 'display_data';\n",
              "          await google.colab.output.renderOutput(dataTable, element);\n",
              "          const docLink = document.createElement('div');\n",
              "          docLink.innerHTML = docLinkHtml;\n",
              "          element.appendChild(docLink);\n",
              "        }\n",
              "      </script>\n",
              "    </div>\n",
              "  </div>\n",
              "  "
            ]
          },
          "metadata": {}
        }
      ]
    },
    {
      "cell_type": "code",
      "source": [
        "df = df.loc[~df.index.isin(test_set.index)]"
      ],
      "metadata": {
        "id": "4dzDX-tQ27n7"
      },
      "execution_count": null,
      "outputs": []
    },
    {
      "cell_type": "code",
      "source": [
        "test_set = test_set.reset_index()\n",
        "df = df.reset_index()"
      ],
      "metadata": {
        "id": "5Gkho2lV2-xe"
      },
      "execution_count": null,
      "outputs": []
    },
    {
      "cell_type": "code",
      "source": [
        "test_set['True_end'] = test_set['poem_text'].str.split().str[-20:].apply(' '.join)\n",
        "test_set['poem_text'] = test_set['poem_text'].str.split().str[:-20].apply(' '.join)"
      ],
      "metadata": {
        "id": "zUHDtthp3BEZ"
      },
      "execution_count": null,
      "outputs": []
    },
    {
      "cell_type": "code",
      "source": [
        "test_set.head()"
      ],
      "metadata": {
        "id": "IAIu82Wr3EZi",
        "outputId": "b8dcc469-1afa-4b9a-bfda-2737e2576294",
        "colab": {
          "base_uri": "https://localhost:8080/",
          "height": 250
        }
      },
      "execution_count": null,
      "outputs": [
        {
          "output_type": "execute_result",
          "execution_count": 32,
          "data": {
            "text/plain": [
              "   index     id       category          poet_name  \\\n",
              "0  39680  39854   العصر الاموي      الكميت بن زيد   \n",
              "1  22895  23069  العصر العباسي     الأحنف العكبري   \n",
              "2  42257  42431   العصر الاموي  أبو الأسود الدؤلي   \n",
              "3  25282  25456  العصر العباسي         الخبز أرزي   \n",
              "4  30776  30950  العصر الايوبي      أسامة بن منقذ   \n",
              "\n",
              "                      poem_title  \\\n",
              "0   لا ينبت الناس إلا في أرومتهم   \n",
              "1        حسبي من التريبات والحشم   \n",
              "2           زيد مائت كمد الحبارى   \n",
              "3  إن كان لفظي كريها فاصطبر فعلى   \n",
              "4      لا تغبطن أهل بيت سرهم زمن   \n",
              "\n",
              "                                           poem_text  \\\n",
              "0                                                      \n",
              "1  حسبي من التريبات والحشَمِ ومن وقوفي بموقف الند...   \n",
              "2  زَيدٌ مائِتٌ كَمَدَ الحُبارى إِذا ظَعِنَت لَطي...   \n",
              "3  إن كان لفظي كريهاً فاصطبر فعلى كره العلاج يصحّ...   \n",
              "4  لا تَغبِطَنْ أهْلَ بيتٍ سَرّهُمْ زمَنٌ فسوفَ ي...   \n",
              "\n",
              "                                            True_end  \n",
              "0  لا ينبت الناس إلا في أرومتهم ولا ترى ثمر القِن...  \n",
              "1  سقمي لكن تشبّهت بالملوك وأب ناء كبار التجّار و...  \n",
              "2  وَصاحِبُنا لِضَيعَتِها مِضَمُّ سَتَلقى بَعدَها...  \n",
              "3  أُعاتب إخواني وهم ثقتي طوراً وقد تُصقَل الأسيا...  \n",
              "4  كان يملِكُهُ في ظُلمةِ اللَّحدِ إلاّ خِرقَةُ ا...  "
            ],
            "text/html": [
              "\n",
              "  <div id=\"df-896221ef-029e-4e6c-bc76-a2dde8daf126\">\n",
              "    <div class=\"colab-df-container\">\n",
              "      <div>\n",
              "<style scoped>\n",
              "    .dataframe tbody tr th:only-of-type {\n",
              "        vertical-align: middle;\n",
              "    }\n",
              "\n",
              "    .dataframe tbody tr th {\n",
              "        vertical-align: top;\n",
              "    }\n",
              "\n",
              "    .dataframe thead th {\n",
              "        text-align: right;\n",
              "    }\n",
              "</style>\n",
              "<table border=\"1\" class=\"dataframe\">\n",
              "  <thead>\n",
              "    <tr style=\"text-align: right;\">\n",
              "      <th></th>\n",
              "      <th>index</th>\n",
              "      <th>id</th>\n",
              "      <th>category</th>\n",
              "      <th>poet_name</th>\n",
              "      <th>poem_title</th>\n",
              "      <th>poem_text</th>\n",
              "      <th>True_end</th>\n",
              "    </tr>\n",
              "  </thead>\n",
              "  <tbody>\n",
              "    <tr>\n",
              "      <th>0</th>\n",
              "      <td>39680</td>\n",
              "      <td>39854</td>\n",
              "      <td>العصر الاموي</td>\n",
              "      <td>الكميت بن زيد</td>\n",
              "      <td>لا ينبت الناس إلا في أرومتهم</td>\n",
              "      <td></td>\n",
              "      <td>لا ينبت الناس إلا في أرومتهم ولا ترى ثمر القِن...</td>\n",
              "    </tr>\n",
              "    <tr>\n",
              "      <th>1</th>\n",
              "      <td>22895</td>\n",
              "      <td>23069</td>\n",
              "      <td>العصر العباسي</td>\n",
              "      <td>الأحنف العكبري</td>\n",
              "      <td>حسبي من التريبات والحشم</td>\n",
              "      <td>حسبي من التريبات والحشَمِ ومن وقوفي بموقف الند...</td>\n",
              "      <td>سقمي لكن تشبّهت بالملوك وأب ناء كبار التجّار و...</td>\n",
              "    </tr>\n",
              "    <tr>\n",
              "      <th>2</th>\n",
              "      <td>42257</td>\n",
              "      <td>42431</td>\n",
              "      <td>العصر الاموي</td>\n",
              "      <td>أبو الأسود الدؤلي</td>\n",
              "      <td>زيد مائت كمد الحبارى</td>\n",
              "      <td>زَيدٌ مائِتٌ كَمَدَ الحُبارى إِذا ظَعِنَت لَطي...</td>\n",
              "      <td>وَصاحِبُنا لِضَيعَتِها مِضَمُّ سَتَلقى بَعدَها...</td>\n",
              "    </tr>\n",
              "    <tr>\n",
              "      <th>3</th>\n",
              "      <td>25282</td>\n",
              "      <td>25456</td>\n",
              "      <td>العصر العباسي</td>\n",
              "      <td>الخبز أرزي</td>\n",
              "      <td>إن كان لفظي كريها فاصطبر فعلى</td>\n",
              "      <td>إن كان لفظي كريهاً فاصطبر فعلى كره العلاج يصحّ...</td>\n",
              "      <td>أُعاتب إخواني وهم ثقتي طوراً وقد تُصقَل الأسيا...</td>\n",
              "    </tr>\n",
              "    <tr>\n",
              "      <th>4</th>\n",
              "      <td>30776</td>\n",
              "      <td>30950</td>\n",
              "      <td>العصر الايوبي</td>\n",
              "      <td>أسامة بن منقذ</td>\n",
              "      <td>لا تغبطن أهل بيت سرهم زمن</td>\n",
              "      <td>لا تَغبِطَنْ أهْلَ بيتٍ سَرّهُمْ زمَنٌ فسوفَ ي...</td>\n",
              "      <td>كان يملِكُهُ في ظُلمةِ اللَّحدِ إلاّ خِرقَةُ ا...</td>\n",
              "    </tr>\n",
              "  </tbody>\n",
              "</table>\n",
              "</div>\n",
              "      <button class=\"colab-df-convert\" onclick=\"convertToInteractive('df-896221ef-029e-4e6c-bc76-a2dde8daf126')\"\n",
              "              title=\"Convert this dataframe to an interactive table.\"\n",
              "              style=\"display:none;\">\n",
              "        \n",
              "  <svg xmlns=\"http://www.w3.org/2000/svg\" height=\"24px\"viewBox=\"0 0 24 24\"\n",
              "       width=\"24px\">\n",
              "    <path d=\"M0 0h24v24H0V0z\" fill=\"none\"/>\n",
              "    <path d=\"M18.56 5.44l.94 2.06.94-2.06 2.06-.94-2.06-.94-.94-2.06-.94 2.06-2.06.94zm-11 1L8.5 8.5l.94-2.06 2.06-.94-2.06-.94L8.5 2.5l-.94 2.06-2.06.94zm10 10l.94 2.06.94-2.06 2.06-.94-2.06-.94-.94-2.06-.94 2.06-2.06.94z\"/><path d=\"M17.41 7.96l-1.37-1.37c-.4-.4-.92-.59-1.43-.59-.52 0-1.04.2-1.43.59L10.3 9.45l-7.72 7.72c-.78.78-.78 2.05 0 2.83L4 21.41c.39.39.9.59 1.41.59.51 0 1.02-.2 1.41-.59l7.78-7.78 2.81-2.81c.8-.78.8-2.07 0-2.86zM5.41 20L4 18.59l7.72-7.72 1.47 1.35L5.41 20z\"/>\n",
              "  </svg>\n",
              "      </button>\n",
              "      \n",
              "  <style>\n",
              "    .colab-df-container {\n",
              "      display:flex;\n",
              "      flex-wrap:wrap;\n",
              "      gap: 12px;\n",
              "    }\n",
              "\n",
              "    .colab-df-convert {\n",
              "      background-color: #E8F0FE;\n",
              "      border: none;\n",
              "      border-radius: 50%;\n",
              "      cursor: pointer;\n",
              "      display: none;\n",
              "      fill: #1967D2;\n",
              "      height: 32px;\n",
              "      padding: 0 0 0 0;\n",
              "      width: 32px;\n",
              "    }\n",
              "\n",
              "    .colab-df-convert:hover {\n",
              "      background-color: #E2EBFA;\n",
              "      box-shadow: 0px 1px 2px rgba(60, 64, 67, 0.3), 0px 1px 3px 1px rgba(60, 64, 67, 0.15);\n",
              "      fill: #174EA6;\n",
              "    }\n",
              "\n",
              "    [theme=dark] .colab-df-convert {\n",
              "      background-color: #3B4455;\n",
              "      fill: #D2E3FC;\n",
              "    }\n",
              "\n",
              "    [theme=dark] .colab-df-convert:hover {\n",
              "      background-color: #434B5C;\n",
              "      box-shadow: 0px 1px 3px 1px rgba(0, 0, 0, 0.15);\n",
              "      filter: drop-shadow(0px 1px 2px rgba(0, 0, 0, 0.3));\n",
              "      fill: #FFFFFF;\n",
              "    }\n",
              "  </style>\n",
              "\n",
              "      <script>\n",
              "        const buttonEl =\n",
              "          document.querySelector('#df-896221ef-029e-4e6c-bc76-a2dde8daf126 button.colab-df-convert');\n",
              "        buttonEl.style.display =\n",
              "          google.colab.kernel.accessAllowed ? 'block' : 'none';\n",
              "\n",
              "        async function convertToInteractive(key) {\n",
              "          const element = document.querySelector('#df-896221ef-029e-4e6c-bc76-a2dde8daf126');\n",
              "          const dataTable =\n",
              "            await google.colab.kernel.invokeFunction('convertToInteractive',\n",
              "                                                     [key], {});\n",
              "          if (!dataTable) return;\n",
              "\n",
              "          const docLinkHtml = 'Like what you see? Visit the ' +\n",
              "            '<a target=\"_blank\" href=https://colab.research.google.com/notebooks/data_table.ipynb>data table notebook</a>'\n",
              "            + ' to learn more about interactive tables.';\n",
              "          element.innerHTML = '';\n",
              "          dataTable['output_type'] = 'display_data';\n",
              "          await google.colab.output.renderOutput(dataTable, element);\n",
              "          const docLink = document.createElement('div');\n",
              "          docLink.innerHTML = docLinkHtml;\n",
              "          element.appendChild(docLink);\n",
              "        }\n",
              "      </script>\n",
              "    </div>\n",
              "  </div>\n",
              "  "
            ]
          },
          "metadata": {}
        }
      ]
    },
    {
      "cell_type": "code",
      "source": [
        "train_set_text = df['poem_text']\n",
        "test_set_text = test_set['poem_text']\n",
        "train_set_text = train_set_text.rename('text')\n",
        "test_set_text = test_set_text.rename('text')\n",
        "train_set_text.to_csv(\"/content/drive/MyDrive/NLP/train_set.csv\", index=False)\n",
        "test_set_text.to_csv(\"/content/drive/MyDrive/NLP/test_set.csv\", index=False)"
      ],
      "metadata": {
        "id": "ZOg8DjAi3Gto"
      },
      "execution_count": null,
      "outputs": []
    },
    {
      "cell_type": "code",
      "source": [
        "data_files = {\"train\": \"/content/drive/MyDrive/NLP/train_set.csv\", \"test\": \"/content/drive/MyDrive/NLP/test_set.csv\"}\n",
        "dataset = load_dataset('csv', data_files = data_files)"
      ],
      "metadata": {
        "id": "rwLEuc7O3Nv3",
        "outputId": "9ca72f80-57f6-41d3-9b63-dbb5e5f2ce22",
        "colab": {
          "base_uri": "https://localhost:8080/",
          "height": 168,
          "referenced_widgets": [
            "575647971c8241e2ac9aa114aba5c1dc",
            "1d3bc7a14b354374b92fb27837dfb6e8",
            "b90e16b0b97347abafa467540c6dcac6",
            "d488f023337a49c0a761cfbb4aa2a6c8",
            "94899bdd98284a94b42fd6f28ce43480",
            "926be72f06634710a1f870fb50f9c56a",
            "892d54708695406db98d296677c4c50b",
            "072c4253519f4e4ca2fe8f805ac977d0",
            "9d894127a62a4cf398b40ed4340f1a42",
            "946e61f17dc240f7a3680e7806fe95b5",
            "ae847a74a4f046a48326a9c1aae3210d",
            "af7cd8e7458f45f4a0e533b0ce8eff07",
            "4083c529bc984d818ad3b5b788946342",
            "e82247aeeada4d698afe5f0bbc6f8969",
            "4b1a0ad148094f2182a5d4e380cd87ac",
            "92d6389174694837b6c9fe26b15b80fa",
            "982360da7ad64ec99f7424368fd1d05e",
            "bea0b99dc0d64b91b9a90420ee3f432c",
            "a026f9a5d4674b42b3d09e73fe50569b",
            "14f5674d884942a39e07912c40211ab1",
            "67df1be7f7f0436a811aedcbfb5ac43d",
            "dd3be9cb02514feeabaf44c6613cca74",
            "3ba8450a83db43a29a5cca2d6587bb08",
            "b2927533f56a4b848dd0eadb981fbad1",
            "1805739ccf1f432f88d7b517c8b5e468",
            "1202fa6d499d4337bfe81585a18c0ba4",
            "84e6c19517824ebba3a1a77f119fb73d",
            "f5c06629fdee47afb592e621f01a5730",
            "715b7125f3c9499c8985d8d729b498da",
            "9bc406dba2364238b77cf25e64c74ee5",
            "8a404aeaaec7465cad16a67890c8b295",
            "477cc153d7184e3d9b977082728de3cb",
            "ee8cd3e99fe14531b3f25a328def8a0d",
            "53bae08af79e45d3b43f61fe54bad966",
            "81b3f135ab9a4d1ab87d88601670cf66",
            "0c589562baeb4fefb2d6fe0577ef9e6b",
            "410ca9f0d77c415fb3d66f2007dd9142",
            "55e4dc48403d414e864f9d78177e751a",
            "4f4f087a505a4b0ab55dcb626a171688",
            "a6ac2077ed194d1fb908ecadbc394f25",
            "9bafe5c8dafc4d3fa6982a3620b62497",
            "5a48a9a0eb92417ba1353f63c580aa52",
            "c0b7098b92a846cb8a311a2108bbae18",
            "cdfeaa73ae284d45b9827ee6f9f68017",
            "35640213bc87462e9694eb17af3f8896",
            "3e9268e7b20b44b8b320749d202d12e3",
            "e52bf6563dee436eb7e2bf2737fed961",
            "8d6d21e96f4e48cda1403f3735365ffa",
            "2647e909d2f745e4b0c5814eb1471c0d",
            "75446a7bea774f418e43242931ced088",
            "153e0ebdcd214b2b9f9d1eead3332fb7",
            "8f0444bd017345559d90f8e0cea97278",
            "eb11f7d1a28a495eac30bd6eb5f17456",
            "ceb2127e7308425ca4a6e2e9251b5a30",
            "680fff55034f42aaa1d2d3c4ccdb9239"
          ]
        }
      },
      "execution_count": null,
      "outputs": [
        {
          "output_type": "stream",
          "name": "stdout",
          "text": "Downloading and preparing dataset csv/default to /root/.cache/huggingface/datasets/csv/default-60e14d8a491f8b3c/0.0.0/6b34fb8fcf56f7c8ba51dc895bfa2bfbe43546f190a60fcf74bb5e8afdcc2317...\n"
        },
        {
          "output_type": "display_data",
          "data": {
            "text/plain": [
              "Downloading data files:   0%|          | 0/2 [00:00<?, ?it/s]"
            ],
            "application/vnd.jupyter.widget-view+json": {
              "version_major": 2,
              "version_minor": 0,
              "model_id": "575647971c8241e2ac9aa114aba5c1dc"
            }
          },
          "metadata": {}
        },
        {
          "output_type": "display_data",
          "data": {
            "text/plain": [
              "Extracting data files:   0%|          | 0/2 [00:00<?, ?it/s]"
            ],
            "application/vnd.jupyter.widget-view+json": {
              "version_major": 2,
              "version_minor": 0,
              "model_id": "af7cd8e7458f45f4a0e533b0ce8eff07"
            }
          },
          "metadata": {}
        },
        {
          "output_type": "display_data",
          "data": {
            "text/plain": [
              "Generating train split: 0 examples [00:00, ? examples/s]"
            ],
            "application/vnd.jupyter.widget-view+json": {
              "version_major": 2,
              "version_minor": 0,
              "model_id": "3ba8450a83db43a29a5cca2d6587bb08"
            }
          },
          "metadata": {}
        },
        {
          "output_type": "display_data",
          "data": {
            "text/plain": [
              "Generating test split: 0 examples [00:00, ? examples/s]"
            ],
            "application/vnd.jupyter.widget-view+json": {
              "version_major": 2,
              "version_minor": 0,
              "model_id": "53bae08af79e45d3b43f61fe54bad966"
            }
          },
          "metadata": {}
        },
        {
          "output_type": "stream",
          "name": "stdout",
          "text": "Dataset csv downloaded and prepared to /root/.cache/huggingface/datasets/csv/default-60e14d8a491f8b3c/0.0.0/6b34fb8fcf56f7c8ba51dc895bfa2bfbe43546f190a60fcf74bb5e8afdcc2317. Subsequent calls will reuse this data.\n"
        },
        {
          "output_type": "display_data",
          "data": {
            "text/plain": [
              "  0%|          | 0/2 [00:00<?, ?it/s]"
            ],
            "application/vnd.jupyter.widget-view+json": {
              "version_major": 2,
              "version_minor": 0,
              "model_id": "35640213bc87462e9694eb17af3f8896"
            }
          },
          "metadata": {}
        }
      ]
    },
    {
      "cell_type": "code",
      "source": [
        "dataset"
      ],
      "metadata": {
        "id": "HJ8CDtuV3WqZ",
        "outputId": "001083b5-0e07-4fbd-a781-3d39fb11a6e2",
        "colab": {
          "base_uri": "https://localhost:8080/"
        }
      },
      "execution_count": null,
      "outputs": [
        {
          "output_type": "execute_result",
          "execution_count": 15,
          "data": {
            "text/plain": [
              "DatasetDict({\n",
              "    train: Dataset({\n",
              "        features: ['text'],\n",
              "        num_rows: 54744\n",
              "    })\n",
              "    test: Dataset({\n",
              "        features: ['text'],\n",
              "        num_rows: 200\n",
              "    })\n",
              "})"
            ]
          },
          "metadata": {}
        }
      ]
    },
    {
      "cell_type": "markdown",
      "source": [
        "Here we will use the model we already trained for several epochs and that we uploaded to huggingface"
      ],
      "metadata": {
        "id": "HqPUbfuA3b0c"
      }
    },
    {
      "cell_type": "code",
      "source": [
        "checkpoint = \"belgadreamsbig/arabic-poetry-generator\""
      ],
      "metadata": {
        "id": "GUWCEllF3bSK"
      },
      "execution_count": null,
      "outputs": []
    },
    {
      "cell_type": "code",
      "source": [
        "tokenizer = AutoTokenizer.from_pretrained(checkpoint)"
      ],
      "metadata": {
        "id": "tKcwKX_N4Mdo",
        "outputId": "45aa8bf3-9923-4384-d4f1-9678b89c2f18",
        "colab": {
          "base_uri": "https://localhost:8080/",
          "height": 177,
          "referenced_widgets": [
            "5e479ebcaa9445b2bccdabe3956f187a",
            "c43aecc5b90245918fe457b3163a79a7",
            "5e7198a60e954b2393b4f6646c59d23f",
            "65838cc2bc8a41c4b18941204765a48b",
            "eb9991bccfcb43068ba3d3b9c1ab7585",
            "cafd6dc1575a42bbb0860662eaf772d8",
            "fad2a6080a364d95996a73e0561ae9d4",
            "f725f95d851948f1aafbf2fcfdbbcbd1",
            "56662ed5947846e1a623374ff885e5a4",
            "946bac04648d414f8e98f92c9cff1e8d",
            "0d9b0195ae004fc2a1dc22692eba6f5f",
            "8cb818cf6fc24cbb9f3730f80143920a",
            "27114be9a94545f885a47a37921e3d72",
            "9f073cdf24a94f8bad282304bc883207",
            "9aae1c80165e4af481677ec10a54c8a6",
            "12a958a826154cb2aa80189b69324fc0",
            "796eada0c72c4b3d92749094dc81c172",
            "c604529509d84142a7e94749901eae29",
            "5ea77970ad03493abeded3f105ffd4d1",
            "1a7ab3dc31864f2d8a6bcbd55bf8375b",
            "3ca201acb35244d28fc697041b0823da",
            "10620e421105426abc4056dae2a76f61",
            "da47a1b409ea46969667f29638640078",
            "afbae3cdf04748738974b9b34130d1f2",
            "fe42910026eb4e6280de6a2b0644b21f",
            "7a32fc12cb7742ae8d94be4854dafac0",
            "d1b3b2f76a204a65b86fd6d73891d4fe",
            "59505f812e9449989b91116a8cdd7233",
            "f93a0dc28f064066ba91fab30759aefd",
            "ad8e5e57f1c749fd8be9f09fc6960652",
            "7367c6f1165b4692a3466814fc7ee610",
            "24d51b007b3546c78fe7b3e974665ff9",
            "4b80a7e10131489a95d837c0b44a978d",
            "c45591c118584808adcb4bdb5f78ba9f",
            "a1caa2f1b73647189f4c084c27608186",
            "77fb7c0cc1f44359b7b1bba057a0e4e8",
            "d96f7bb93ec64484a9e48b6d9380eebd",
            "7da90132a1984793a1a20a48796259ab",
            "f4745b63d2fe4ac58d8b604c96355b64",
            "2574aeb8544b4090a478fed2e8cc24d9",
            "4f070598a5e64a00a37d39ddb0281ad8",
            "322a1f99bfea422880120333dd6ad4eb",
            "4b6dcd0b6cfc4b09ab279a125bb1f4d7",
            "6725c03577ae48a0a08d537836436a4a",
            "2665e7a626844accad6ba78461745834",
            "e878038bfb224500889cc4425ea52274",
            "1d29b65d96af40a296f7b09f89bc47fb",
            "4119e822e7aa464a99bf616a70376d77",
            "71af6bd3a13a4c7ab7cc2a0df970a728",
            "5ee959fd8f8a4957855b8cf875869433",
            "dd00f503b5014aaaa4280c664ccfcadc",
            "122b2b85fea44858aec4634453941375",
            "d01ceada749148b28bdda2c5e89f3928",
            "19c60a55b0b5410994030dc9b64ea070",
            "9941bbfb6e9748d6842ba57dda137f2b"
          ]
        }
      },
      "execution_count": null,
      "outputs": [
        {
          "output_type": "display_data",
          "data": {
            "text/plain": [
              "Downloading (…)okenizer_config.json:   0%|          | 0.00/1.04k [00:00<?, ?B/s]"
            ],
            "application/vnd.jupyter.widget-view+json": {
              "version_major": 2,
              "version_minor": 0,
              "model_id": "5e479ebcaa9445b2bccdabe3956f187a"
            }
          },
          "metadata": {}
        },
        {
          "output_type": "display_data",
          "data": {
            "text/plain": [
              "Downloading (…)olve/main/vocab.json:   0%|          | 0.00/1.55M [00:00<?, ?B/s]"
            ],
            "application/vnd.jupyter.widget-view+json": {
              "version_major": 2,
              "version_minor": 0,
              "model_id": "8cb818cf6fc24cbb9f3730f80143920a"
            }
          },
          "metadata": {}
        },
        {
          "output_type": "display_data",
          "data": {
            "text/plain": [
              "Downloading (…)olve/main/merges.txt:   0%|          | 0.00/1.21M [00:00<?, ?B/s]"
            ],
            "application/vnd.jupyter.widget-view+json": {
              "version_major": 2,
              "version_minor": 0,
              "model_id": "da47a1b409ea46969667f29638640078"
            }
          },
          "metadata": {}
        },
        {
          "output_type": "display_data",
          "data": {
            "text/plain": [
              "Downloading (…)/main/tokenizer.json:   0%|          | 0.00/3.61M [00:00<?, ?B/s]"
            ],
            "application/vnd.jupyter.widget-view+json": {
              "version_major": 2,
              "version_minor": 0,
              "model_id": "c45591c118584808adcb4bdb5f78ba9f"
            }
          },
          "metadata": {}
        },
        {
          "output_type": "display_data",
          "data": {
            "text/plain": [
              "Downloading (…)cial_tokens_map.json:   0%|          | 0.00/131 [00:00<?, ?B/s]"
            ],
            "application/vnd.jupyter.widget-view+json": {
              "version_major": 2,
              "version_minor": 0,
              "model_id": "2665e7a626844accad6ba78461745834"
            }
          },
          "metadata": {}
        }
      ]
    },
    {
      "cell_type": "code",
      "source": [
        "def tokenize_function(examples):\n",
        "    text = []\n",
        "    for line in examples[\"text\"]:\n",
        "        if line:\n",
        "            if len(line) > 0 and not line.isspace():\n",
        "                text.append(line)\n",
        "    return tokenizer(text, truncation = True, max_length = 100, padding = True)"
      ],
      "metadata": {
        "id": "y8QjX5Bn4emK"
      },
      "execution_count": null,
      "outputs": []
    },
    {
      "cell_type": "code",
      "source": [
        "tokenized_datasets = dataset.map(tokenize_function, batched=True, remove_columns=[\"text\"])"
      ],
      "metadata": {
        "id": "fio7Tgq84gWC",
        "outputId": "61d2847a-5cc7-4048-f0c8-8e1486c2b075",
        "colab": {
          "base_uri": "https://localhost:8080/",
          "height": 17,
          "referenced_widgets": [
            "5fadb0c6cd21470f984e0bf74e9a1274",
            "603ef06b1de44308b10e104045b0216a",
            "311e53ca49464a4e93488892377c197d",
            "3db0283c7b2945b0a328a494ceec5222",
            "6494b6332a374d45a96653d135ca6ebe",
            "137860990520454384e966431f76083d",
            "41a91cae12ba4395893053bfcbd419f9",
            "d7de17f2957448f69cab28e93c1cfdf2",
            "a191ff7e6aa6471bb3017d8da888f59c",
            "12c96676994f4029a793d00877f94921",
            "060c08c301254fd3b77b40dc6a90d397",
            "93540e4513474012b890f4b6e0e66877",
            "65db1191f8b04dafb2aa7f961597b2b2",
            "3ff678e752c944a88a130a262334e684",
            "6c92189aef4a40dd8813ed37099b063a",
            "64f6b49419f74ab0a6de25ca3dc4a33b",
            "73c6ad3abf0048c4a08b8e3a5851cd71",
            "e69a2a6e8c064fafa862ace84c2c0f58",
            "53e0b6e369ce4753bcb9995526db20ff",
            "0cd3bee9e06c4d9e8e2550ca4cb83240",
            "f0e5dbd4326b45abac3ccd3aca015021",
            "81e79af990f34a4388ca51fea1f123b9"
          ]
        }
      },
      "execution_count": null,
      "outputs": [
        {
          "output_type": "display_data",
          "data": {
            "text/plain": [
              "Map:   0%|          | 0/54744 [00:00<?, ? examples/s]"
            ],
            "application/vnd.jupyter.widget-view+json": {
              "version_major": 2,
              "version_minor": 0,
              "model_id": "5fadb0c6cd21470f984e0bf74e9a1274"
            }
          },
          "metadata": {}
        },
        {
          "output_type": "display_data",
          "data": {
            "text/plain": [
              "Map:   0%|          | 0/200 [00:00<?, ? examples/s]"
            ],
            "application/vnd.jupyter.widget-view+json": {
              "version_major": 2,
              "version_minor": 0,
              "model_id": "93540e4513474012b890f4b6e0e66877"
            }
          },
          "metadata": {}
        }
      ]
    },
    {
      "cell_type": "code",
      "source": [
        "tokenized_datasets.set_format(type=\"torch\", columns=[\"input_ids\", \"attention_mask\"])"
      ],
      "metadata": {
        "id": "WHbHPmsb4obR"
      },
      "execution_count": null,
      "outputs": []
    },
    {
      "cell_type": "code",
      "source": [
        "tokenized_datasets"
      ],
      "metadata": {
        "id": "7S9678g-430c",
        "outputId": "cb0e2f4d-2877-4021-e6ce-a74d85805c0b",
        "colab": {
          "base_uri": "https://localhost:8080/"
        }
      },
      "execution_count": null,
      "outputs": [
        {
          "output_type": "execute_result",
          "execution_count": 25,
          "data": {
            "text/plain": [
              "DatasetDict({\n",
              "    train: Dataset({\n",
              "        features: ['input_ids', 'attention_mask'],\n",
              "        num_rows: 54744\n",
              "    })\n",
              "    test: Dataset({\n",
              "        features: ['input_ids', 'attention_mask'],\n",
              "        num_rows: 151\n",
              "    })\n",
              "})"
            ]
          },
          "metadata": {}
        }
      ]
    },
    {
      "cell_type": "code",
      "source": [
        "data_collator = DataCollatorForLanguageModeling(\n",
        "        tokenizer=tokenizer, mlm=False,\n",
        "    )"
      ],
      "metadata": {
        "id": "bCuw1-7O4_nO"
      },
      "execution_count": null,
      "outputs": []
    },
    {
      "cell_type": "code",
      "source": [
        "model = AutoModelForCausalLM.from_pretrained(checkpoint)"
      ],
      "metadata": {
        "id": "-KPIat605BIs",
        "outputId": "1bb2cd44-cf80-4b95-99cd-b8c4bc6b4116",
        "colab": {
          "base_uri": "https://localhost:8080/",
          "height": 113,
          "referenced_widgets": [
            "954fdd1158f1477ea7ad1d93a17ae1b7",
            "c13276a538e74c2cb01bf4350cc593c4",
            "612861ea06f848959b7e02a8b3f17c49",
            "76d7d9c0d70a49879aa074b56c9fbe64",
            "3728714b6ac4431d84dd9e4bf38d53a2",
            "b308a43391cb45608da6eea764e94326",
            "7c4fc58191fa4f8793664f7f78a62532",
            "1d00144d2e224f02b0cfe73309a19bf9",
            "c652f5d7874643f79fdb8ab0094a2456",
            "57676d4eeaed43adba5f9105529af5e3",
            "45b4d5a65936451b9ce9823c5c1aff89",
            "8d05266d9b7d487ba13c0da0a7762cf3",
            "89b928a96417477f91e1d251c14170ac",
            "ea76f51edda84e36b7f6e6ceb7a19c9d",
            "53a25e4b2e7841a59b85f13db806b509",
            "4e114e8149de4b1b8d4e5208123348d5",
            "ae555978f515478e99d972fee0b5e55b",
            "b5cdd1234aa84b2b8ec0761b5c034044",
            "e221e603d361400f909b4f817a649330",
            "ce5a2f18f41c4c53a97b69204ca21d68",
            "753d5962a0844893be3796131e6fc67c",
            "6eaa6a49d6e644588200ae2d258cfc45",
            "f4751bf996e241a4a527f41bd3caa5d1",
            "fb88979dc1724f4d853bccfb2e3fc8f2",
            "e5f5d428efda483aaa39fb1e6450b45f",
            "a15b4ba869724de88fa6b49e195e62b0",
            "22e50769fdeb4816a26ee92679d98273",
            "dad6879d92c240ecb8d7d596f4903c8d",
            "0917904a9a334b339ee021c978256a20",
            "decb46b1ed774f69894a04d45e8d14bd",
            "7a98fcb14cb646058392652c2ee8ae04",
            "7a99552d973b492f928eb0d67cb65a12",
            "7a9a3256a0e9469cba2616c91fccb106"
          ]
        }
      },
      "execution_count": null,
      "outputs": [
        {
          "output_type": "display_data",
          "data": {
            "text/plain": [
              "Downloading (…)lve/main/config.json:   0%|          | 0.00/960 [00:00<?, ?B/s]"
            ],
            "application/vnd.jupyter.widget-view+json": {
              "version_major": 2,
              "version_minor": 0,
              "model_id": "954fdd1158f1477ea7ad1d93a17ae1b7"
            }
          },
          "metadata": {}
        },
        {
          "output_type": "display_data",
          "data": {
            "text/plain": [
              "Downloading pytorch_model.bin:   0%|          | 0.00/510M [00:00<?, ?B/s]"
            ],
            "application/vnd.jupyter.widget-view+json": {
              "version_major": 2,
              "version_minor": 0,
              "model_id": "8d05266d9b7d487ba13c0da0a7762cf3"
            }
          },
          "metadata": {}
        },
        {
          "output_type": "display_data",
          "data": {
            "text/plain": [
              "Downloading (…)neration_config.json:   0%|          | 0.00/119 [00:00<?, ?B/s]"
            ],
            "application/vnd.jupyter.widget-view+json": {
              "version_major": 2,
              "version_minor": 0,
              "model_id": "f4751bf996e241a4a527f41bd3caa5d1"
            }
          },
          "metadata": {}
        }
      ]
    },
    {
      "cell_type": "code",
      "source": [
        "training_args = TrainingArguments(\n",
        "    output_dir=\"/content/drive/MyDrive/NLP\", #The output directory\n",
        "    overwrite_output_dir=True, #overwrite the content of the output directory\n",
        "    num_train_epochs=2, # number of training epochs\n",
        "    per_device_train_batch_size=16, # batch size for training\n",
        "    per_device_eval_batch_size=64,  # batch size for evaluation\n",
        "    eval_steps = 400, # Number of update steps between two evaluations.\n",
        "    save_steps=800, # after # steps model is saved\n",
        "    warmup_steps=500,# number of warmup steps for learning rate scheduler\n",
        "    prediction_loss_only=True,\n",
        "    )"
      ],
      "metadata": {
        "id": "OauCNNL15E4m"
      },
      "execution_count": null,
      "outputs": []
    },
    {
      "cell_type": "code",
      "source": [
        "model = model.to(DEVICE)"
      ],
      "metadata": {
        "id": "xfdELVvJ5P57"
      },
      "execution_count": null,
      "outputs": []
    },
    {
      "cell_type": "code",
      "source": [
        "trainer = Trainer(\n",
        "    model=model,\n",
        "    args=training_args,\n",
        "    data_collator = data_collator,\n",
        "    train_dataset = tokenized_datasets['train'],\n",
        "    eval_dataset = tokenized_datasets['test'],\n",
        ")"
      ],
      "metadata": {
        "id": "W341xady5RRv"
      },
      "execution_count": null,
      "outputs": []
    },
    {
      "cell_type": "code",
      "source": [
        "trainer.train()"
      ],
      "metadata": {
        "id": "64-y3C6o5Tod",
        "outputId": "fb1eeafd-772c-4c55-bbbe-baae599cf681",
        "colab": {
          "base_uri": "https://localhost:8080/",
          "height": 535
        }
      },
      "execution_count": null,
      "outputs": [
        {
          "output_type": "display_data",
          "data": {
            "text/plain": [
              "<IPython.core.display.HTML object>"
            ],
            "text/html": [
              "\n",
              "    <div>\n",
              "      \n",
              "      <progress value='6844' max='6844' style='width:300px; height:20px; vertical-align: middle;'></progress>\n",
              "      [6844/6844 58:47, Epoch 2/2]\n",
              "    </div>\n",
              "    <table border=\"1\" class=\"dataframe\">\n",
              "  <thead>\n",
              " <tr style=\"text-align: left;\">\n",
              "      <th>Step</th>\n",
              "      <th>Training Loss</th>\n",
              "    </tr>\n",
              "  </thead>\n",
              "  <tbody>\n",
              "    <tr>\n",
              "      <td>500</td>\n",
              "      <td>2.203200</td>\n",
              "    </tr>\n",
              "    <tr>\n",
              "      <td>1000</td>\n",
              "      <td>2.303300</td>\n",
              "    </tr>\n",
              "    <tr>\n",
              "      <td>1500</td>\n",
              "      <td>2.321900</td>\n",
              "    </tr>\n",
              "    <tr>\n",
              "      <td>2000</td>\n",
              "      <td>2.312700</td>\n",
              "    </tr>\n",
              "    <tr>\n",
              "      <td>2500</td>\n",
              "      <td>2.304200</td>\n",
              "    </tr>\n",
              "    <tr>\n",
              "      <td>3000</td>\n",
              "      <td>2.331000</td>\n",
              "    </tr>\n",
              "    <tr>\n",
              "      <td>3500</td>\n",
              "      <td>2.287300</td>\n",
              "    </tr>\n",
              "    <tr>\n",
              "      <td>4000</td>\n",
              "      <td>2.262700</td>\n",
              "    </tr>\n",
              "    <tr>\n",
              "      <td>4500</td>\n",
              "      <td>2.253900</td>\n",
              "    </tr>\n",
              "    <tr>\n",
              "      <td>5000</td>\n",
              "      <td>2.245300</td>\n",
              "    </tr>\n",
              "    <tr>\n",
              "      <td>5500</td>\n",
              "      <td>2.245900</td>\n",
              "    </tr>\n",
              "    <tr>\n",
              "      <td>6000</td>\n",
              "      <td>2.247700</td>\n",
              "    </tr>\n",
              "    <tr>\n",
              "      <td>6500</td>\n",
              "      <td>2.246400</td>\n",
              "    </tr>\n",
              "  </tbody>\n",
              "</table><p>"
            ]
          },
          "metadata": {}
        },
        {
          "output_type": "execute_result",
          "execution_count": 35,
          "data": {
            "text/plain": [
              "TrainOutput(global_step=6844, training_loss=2.2724760446821577, metrics={'train_runtime': 3528.1939, 'train_samples_per_second': 31.032, 'train_steps_per_second': 1.94, 'total_flos': 5587566796800000.0, 'train_loss': 2.2724760446821577, 'epoch': 2.0})"
            ]
          },
          "metadata": {}
        }
      ]
    },
    {
      "cell_type": "markdown",
      "source": [
        "## Uploading the model to huggingface:"
      ],
      "metadata": {
        "id": "T2Hf_0An5WE9"
      }
    },
    {
      "cell_type": "code",
      "source": [
        "from huggingface_hub import login"
      ],
      "metadata": {
        "id": "hHqg_a5f5d-E"
      },
      "execution_count": null,
      "outputs": []
    },
    {
      "cell_type": "code",
      "source": [
        "login()"
      ],
      "metadata": {
        "id": "wI51kZmt5fvN"
      },
      "execution_count": null,
      "outputs": []
    },
    {
      "cell_type": "code",
      "source": [
        "model.push_to_hub('arabic-poetry-generator')\n",
        "tokenizer.push_to_hub('arabic-poetry-generator')"
      ],
      "metadata": {
        "id": "ce8QgV2o5h4p"
      },
      "execution_count": null,
      "outputs": []
    },
    {
      "cell_type": "markdown",
      "source": [
        "# Model Evaluation:"
      ],
      "metadata": {
        "id": "mU3QkdmGyI1e"
      }
    },
    {
      "cell_type": "code",
      "source": [
        "# !pip install evaluate"
      ],
      "metadata": {
        "id": "Kb0A9lWdyyan"
      },
      "execution_count": null,
      "outputs": []
    },
    {
      "cell_type": "code",
      "source": [
        "import pandas as pd\n",
        "import evaluate\n",
        "import warnings\n",
        "warnings.simplefilter('ignore', UserWarning)"
      ],
      "metadata": {
        "id": "cIThP7FTyw1O"
      },
      "execution_count": null,
      "outputs": []
    },
    {
      "cell_type": "code",
      "source": [
        "prompt = 'القدس مدينة تاريخية، بناها الكنعانيون في'\n",
        "\n",
        "bleu_metric = evaluate.load('bleu')\n",
        "bleu_metric.compute(references = [[prompt]], predictions = [prompt])"
      ],
      "metadata": {
        "colab": {
          "base_uri": "https://localhost:8080/",
          "height": 219,
          "referenced_widgets": [
            "909ce407501f434a8440c09cf8143093",
            "81850bc714704c0bb4535c63d8f76c29",
            "cc465baad464462dbcf6fc2326123b96",
            "8c9c5203a0ae44f4a24ba35fec7ae263",
            "dd5765bde8aa45dfa5f0068a0b4f361b",
            "ee8f68a43824416691a2d3e8e998a2ae",
            "ecfed527cfef40a68f6ceb1c9da51a41",
            "95e0482fe0d64862aa71798751761e6a",
            "28a4b35aca4a45efa1dc86751cce3f38",
            "f86f9b34cb954085a7da3e106d8206a0",
            "ad45497c04f646ec80da1cc1be2107f2",
            "3b3ebc0ed69c41cab8d631bc89763eb8",
            "8fba3c2403ac46f9853745a4589ff757",
            "408aee06d3e647fea0aef4a68c599134",
            "10dc1d7fb9c0499f98fe16f33db3d642",
            "e7256dbae71c4f0e86eddd1a4752bc3d",
            "82691204719a41a0bf32207da706f252",
            "c0a0bbf6ac63416eb7b01af9b2955b6e",
            "e14ca27f04cd492491deecb699fe0003",
            "6047aed22b5041669862cb3b6ac0f09a",
            "b40042aecb6c45bcb0e4184d967cbcd8",
            "727b4b9a3d96472190340ad2db0ee17e",
            "ae7fc3a192cc4dc98c971e25f281f890",
            "efff320252864695b249f91d253315a7",
            "e76566c4e35d47f99cf58133c94b38f0",
            "fb47cf665e5540eda1f4f4aee261c990",
            "39f4ceecbe3148a5be7384e8e59d4261",
            "fc82b05e9c1a451abd0e3a8f88f7cad7",
            "d2b6e59af66b4256953f25a9107cc1f4",
            "715434885b2942fca3744135c780db75",
            "e3be6d42388f4190a710db5a80d27e25",
            "92f93df0cbab48cba97192b1c9f6aff1",
            "8278154553454303a1eabcb4121a4175"
          ]
        },
        "id": "W2ZNvggIyIYf",
        "outputId": "151c57b0-3ed2-4eda-b86e-e3dda1ed0ad6"
      },
      "execution_count": null,
      "outputs": [
        {
          "output_type": "display_data",
          "data": {
            "text/plain": [
              "Downloading builder script:   0%|          | 0.00/5.94k [00:00<?, ?B/s]"
            ],
            "application/vnd.jupyter.widget-view+json": {
              "version_major": 2,
              "version_minor": 0,
              "model_id": "909ce407501f434a8440c09cf8143093"
            }
          },
          "metadata": {}
        },
        {
          "output_type": "display_data",
          "data": {
            "text/plain": [
              "Downloading extra modules:   0%|          | 0.00/1.55k [00:00<?, ?B/s]"
            ],
            "application/vnd.jupyter.widget-view+json": {
              "version_major": 2,
              "version_minor": 0,
              "model_id": "3b3ebc0ed69c41cab8d631bc89763eb8"
            }
          },
          "metadata": {}
        },
        {
          "output_type": "display_data",
          "data": {
            "text/plain": [
              "Downloading extra modules:   0%|          | 0.00/3.34k [00:00<?, ?B/s]"
            ],
            "application/vnd.jupyter.widget-view+json": {
              "version_major": 2,
              "version_minor": 0,
              "model_id": "ae7fc3a192cc4dc98c971e25f281f890"
            }
          },
          "metadata": {}
        },
        {
          "output_type": "execute_result",
          "execution_count": 18,
          "data": {
            "text/plain": [
              "{'bleu': 1.0,\n",
              " 'precisions': [1.0, 1.0, 1.0, 1.0],\n",
              " 'brevity_penalty': 1.0,\n",
              " 'length_ratio': 1.0,\n",
              " 'translation_length': 6,\n",
              " 'reference_length': 6}"
            ]
          },
          "metadata": {}
        }
      ]
    },
    {
      "cell_type": "code",
      "source": [
        "ds = pd.read_csv('/content/drive/MyDrive/NLP/Arabic_poetry_dataset.csv')\n",
        "test_ds = ds.sample(20)\n",
        "test_ds['prompt'] = test_ds['poem_text'].str.split().str[-10:].apply(' '.join)\n",
        "test_ds['true_end'] = test_ds['poem_text'].str.split().str[:-10].apply(' '.join)\n",
        "test_ds = test_ds[['prompt', 'true_end']].reset_index()\n",
        "test_ds.head()"
      ],
      "metadata": {
        "colab": {
          "base_uri": "https://localhost:8080/",
          "height": 206
        },
        "id": "P2jo85N10saL",
        "outputId": "3ae044a3-a68d-43ba-d21b-84e4b53d0080"
      },
      "execution_count": null,
      "outputs": [
        {
          "output_type": "execute_result",
          "execution_count": 38,
          "data": {
            "text/plain": [
              "   index                                             prompt  \\\n",
              "0  15559  وبالشَّبُّوطِ والفَرْخِ وبالبِكْر التي لم تَشـ...   \n",
              "1  18270  حارِثُ يُذَكِّرُنا بُعدُ الفِراقِ عُهودَهُ وَت...   \n",
              "2   5869  مما دهما فعلى سيدهم هادي الورى كلما صلى تعالى ...   \n",
              "3  54096  وبِشِبهي قلتُ يا ليتَني شَبِيهك قالت إنّما يَق...   \n",
              "4  47684  بكت مقلتي العبرى وأسياف جفنه من التيه في أغماد...   \n",
              "\n",
              "                                            true_end  \n",
              "0                                 متى عهدُك بالكرْخِ  \n",
              "1  وَما هُوَ إِلّا أَن جَرَت بِفِراقِنا يَدُ الدَ...  \n",
              "2  خل خلي من الى الغي انتمى وتباعد عن جهول ظلما و...  \n",
              "3  ما هجرتُ الْمُدامَ والوَرْدَ والبَد رَ بطَوْعٍ...  \n",
              "4  بروحيَ تيّاهٌ يحلّل أدمعي وكيف يحلّ الماء أكثر...  "
            ],
            "text/html": [
              "\n",
              "  <div id=\"df-7c8f5f0d-be8c-4c08-80fc-7ba6fa395766\">\n",
              "    <div class=\"colab-df-container\">\n",
              "      <div>\n",
              "<style scoped>\n",
              "    .dataframe tbody tr th:only-of-type {\n",
              "        vertical-align: middle;\n",
              "    }\n",
              "\n",
              "    .dataframe tbody tr th {\n",
              "        vertical-align: top;\n",
              "    }\n",
              "\n",
              "    .dataframe thead th {\n",
              "        text-align: right;\n",
              "    }\n",
              "</style>\n",
              "<table border=\"1\" class=\"dataframe\">\n",
              "  <thead>\n",
              "    <tr style=\"text-align: right;\">\n",
              "      <th></th>\n",
              "      <th>index</th>\n",
              "      <th>prompt</th>\n",
              "      <th>true_end</th>\n",
              "    </tr>\n",
              "  </thead>\n",
              "  <tbody>\n",
              "    <tr>\n",
              "      <th>0</th>\n",
              "      <td>15559</td>\n",
              "      <td>وبالشَّبُّوطِ والفَرْخِ وبالبِكْر التي لم تَشـ...</td>\n",
              "      <td>متى عهدُك بالكرْخِ</td>\n",
              "    </tr>\n",
              "    <tr>\n",
              "      <th>1</th>\n",
              "      <td>18270</td>\n",
              "      <td>حارِثُ يُذَكِّرُنا بُعدُ الفِراقِ عُهودَهُ وَت...</td>\n",
              "      <td>وَما هُوَ إِلّا أَن جَرَت بِفِراقِنا يَدُ الدَ...</td>\n",
              "    </tr>\n",
              "    <tr>\n",
              "      <th>2</th>\n",
              "      <td>5869</td>\n",
              "      <td>مما دهما فعلى سيدهم هادي الورى كلما صلى تعالى ...</td>\n",
              "      <td>خل خلي من الى الغي انتمى وتباعد عن جهول ظلما و...</td>\n",
              "    </tr>\n",
              "    <tr>\n",
              "      <th>3</th>\n",
              "      <td>54096</td>\n",
              "      <td>وبِشِبهي قلتُ يا ليتَني شَبِيهك قالت إنّما يَق...</td>\n",
              "      <td>ما هجرتُ الْمُدامَ والوَرْدَ والبَد رَ بطَوْعٍ...</td>\n",
              "    </tr>\n",
              "    <tr>\n",
              "      <th>4</th>\n",
              "      <td>47684</td>\n",
              "      <td>بكت مقلتي العبرى وأسياف جفنه من التيه في أغماد...</td>\n",
              "      <td>بروحيَ تيّاهٌ يحلّل أدمعي وكيف يحلّ الماء أكثر...</td>\n",
              "    </tr>\n",
              "  </tbody>\n",
              "</table>\n",
              "</div>\n",
              "      <button class=\"colab-df-convert\" onclick=\"convertToInteractive('df-7c8f5f0d-be8c-4c08-80fc-7ba6fa395766')\"\n",
              "              title=\"Convert this dataframe to an interactive table.\"\n",
              "              style=\"display:none;\">\n",
              "        \n",
              "  <svg xmlns=\"http://www.w3.org/2000/svg\" height=\"24px\"viewBox=\"0 0 24 24\"\n",
              "       width=\"24px\">\n",
              "    <path d=\"M0 0h24v24H0V0z\" fill=\"none\"/>\n",
              "    <path d=\"M18.56 5.44l.94 2.06.94-2.06 2.06-.94-2.06-.94-.94-2.06-.94 2.06-2.06.94zm-11 1L8.5 8.5l.94-2.06 2.06-.94-2.06-.94L8.5 2.5l-.94 2.06-2.06.94zm10 10l.94 2.06.94-2.06 2.06-.94-2.06-.94-.94-2.06-.94 2.06-2.06.94z\"/><path d=\"M17.41 7.96l-1.37-1.37c-.4-.4-.92-.59-1.43-.59-.52 0-1.04.2-1.43.59L10.3 9.45l-7.72 7.72c-.78.78-.78 2.05 0 2.83L4 21.41c.39.39.9.59 1.41.59.51 0 1.02-.2 1.41-.59l7.78-7.78 2.81-2.81c.8-.78.8-2.07 0-2.86zM5.41 20L4 18.59l7.72-7.72 1.47 1.35L5.41 20z\"/>\n",
              "  </svg>\n",
              "      </button>\n",
              "      \n",
              "  <style>\n",
              "    .colab-df-container {\n",
              "      display:flex;\n",
              "      flex-wrap:wrap;\n",
              "      gap: 12px;\n",
              "    }\n",
              "\n",
              "    .colab-df-convert {\n",
              "      background-color: #E8F0FE;\n",
              "      border: none;\n",
              "      border-radius: 50%;\n",
              "      cursor: pointer;\n",
              "      display: none;\n",
              "      fill: #1967D2;\n",
              "      height: 32px;\n",
              "      padding: 0 0 0 0;\n",
              "      width: 32px;\n",
              "    }\n",
              "\n",
              "    .colab-df-convert:hover {\n",
              "      background-color: #E2EBFA;\n",
              "      box-shadow: 0px 1px 2px rgba(60, 64, 67, 0.3), 0px 1px 3px 1px rgba(60, 64, 67, 0.15);\n",
              "      fill: #174EA6;\n",
              "    }\n",
              "\n",
              "    [theme=dark] .colab-df-convert {\n",
              "      background-color: #3B4455;\n",
              "      fill: #D2E3FC;\n",
              "    }\n",
              "\n",
              "    [theme=dark] .colab-df-convert:hover {\n",
              "      background-color: #434B5C;\n",
              "      box-shadow: 0px 1px 3px 1px rgba(0, 0, 0, 0.15);\n",
              "      filter: drop-shadow(0px 1px 2px rgba(0, 0, 0, 0.3));\n",
              "      fill: #FFFFFF;\n",
              "    }\n",
              "  </style>\n",
              "\n",
              "      <script>\n",
              "        const buttonEl =\n",
              "          document.querySelector('#df-7c8f5f0d-be8c-4c08-80fc-7ba6fa395766 button.colab-df-convert');\n",
              "        buttonEl.style.display =\n",
              "          google.colab.kernel.accessAllowed ? 'block' : 'none';\n",
              "\n",
              "        async function convertToInteractive(key) {\n",
              "          const element = document.querySelector('#df-7c8f5f0d-be8c-4c08-80fc-7ba6fa395766');\n",
              "          const dataTable =\n",
              "            await google.colab.kernel.invokeFunction('convertToInteractive',\n",
              "                                                     [key], {});\n",
              "          if (!dataTable) return;\n",
              "\n",
              "          const docLinkHtml = 'Like what you see? Visit the ' +\n",
              "            '<a target=\"_blank\" href=https://colab.research.google.com/notebooks/data_table.ipynb>data table notebook</a>'\n",
              "            + ' to learn more about interactive tables.';\n",
              "          element.innerHTML = '';\n",
              "          dataTable['output_type'] = 'display_data';\n",
              "          await google.colab.output.renderOutput(dataTable, element);\n",
              "          const docLink = document.createElement('div');\n",
              "          docLink.innerHTML = docLinkHtml;\n",
              "          element.appendChild(docLink);\n",
              "        }\n",
              "      </script>\n",
              "    </div>\n",
              "  </div>\n",
              "  "
            ]
          },
          "metadata": {}
        }
      ]
    },
    {
      "cell_type": "code",
      "source": [
        "generator = pipeline('text-generation', model = checkpoint)\n",
        "generations = []\n",
        "for i, prompt in enumerate(test_ds['prompt']):\n",
        "    generations.append(generator(prompt, max_length = 100, num_return_sequences = 1, pad_token_id = 50256)[0]['generated_text'])"
      ],
      "metadata": {
        "id": "6oisKGei03lC"
      },
      "execution_count": null,
      "outputs": []
    },
    {
      "cell_type": "code",
      "source": [
        "for i in range(len(test_ds)):\n",
        "    if test_ds['true_end'][i]: print(bleu_metric.compute(references = [[test_ds['true_end'][i]]], predictions = [generations[i]]))"
      ],
      "metadata": {
        "colab": {
          "base_uri": "https://localhost:8080/"
        },
        "id": "mtLnjCe4z6MR",
        "outputId": "9b660602-2532-4256-f394-ac2701cd14ac"
      },
      "execution_count": null,
      "outputs": [
        {
          "output_type": "stream",
          "name": "stdout",
          "text": "{'bleu': 0.0, 'precisions': [0.0, 0.0, 0.0, 0.0], 'brevity_penalty': 1.0, 'length_ratio': 5.666666666666667, 'translation_length': 17, 'reference_length': 3}\n\n{'bleu': 0.0, 'precisions': [0.0, 0.0, 0.0, 0.0], 'brevity_penalty': 1.0, 'length_ratio': 1.0, 'translation_length': 12, 'reference_length': 12}\n\n{'bleu': 0.0, 'precisions': [0.0967741935483871, 0.01639344262295082, 0.0, 0.0], 'brevity_penalty': 0.18092414583249508, 'length_ratio': 0.36904761904761907, 'translation_length': 62, 'reference_length': 168}\n\n{'bleu': 0.0, 'precisions': [0.17647058823529413, 0.0, 0.0, 0.0], 'brevity_penalty': 0.27413964557012743, 'length_ratio': 0.4358974358974359, 'translation_length': 17, 'reference_length': 39}\n\n{'bleu': 0.0, 'precisions': [0.0, 0.0, 0.0, 0.0], 'brevity_penalty': 1.0, 'length_ratio': 4.555555555555555, 'translation_length': 41, 'reference_length': 9}\n\n{'bleu': 0.0, 'precisions': [0.04, 0.0, 0.0, 0.0], 'brevity_penalty': 1.0, 'length_ratio': 3.5714285714285716, 'translation_length': 25, 'reference_length': 7}\n\n{'bleu': 0.0, 'precisions': [0.06666666666666667, 0.0, 0.0, 0.0], 'brevity_penalty': 0.0848672789700174, 'length_ratio': 0.28846153846153844, 'translation_length': 15, 'reference_length': 52}\n\n{'bleu': 0.0, 'precisions': [0.15, 0.0, 0.0, 0.0], 'brevity_penalty': 1.0677040100347827e-06, 'length_ratio': 0.06779661016949153, 'translation_length': 20, 'reference_length': 295}\n\n{'bleu': 0.0, 'precisions': [0.0, 0.0, 0.0, 0.0], 'brevity_penalty': 1.0, 'length_ratio': 2.7, 'translation_length': 27, 'reference_length': 10}\n\n{'bleu': 0.0, 'precisions': [0.09090909090909091, 0.0, 0.0, 0.0], 'brevity_penalty': 0.21321493331446215, 'length_ratio': 0.39285714285714285, 'translation_length': 11, 'reference_length': 28}\n\n{'bleu': 0.0, 'precisions': [0.0, 0.0, 0.0, 0.0], 'brevity_penalty': 0.2158150833986898, 'length_ratio': 0.39473684210526316, 'translation_length': 15, 'reference_length': 38}\n\n{'bleu': 0.0, 'precisions': [0.0, 0.0, 0.0, 0.0], 'brevity_penalty': 0.6996725373751302, 'length_ratio': 0.7368421052631579, 'translation_length': 14, 'reference_length': 19}\n\n{'bleu': 0.0, 'precisions': [0.13333333333333333, 0.0, 0.0, 0.0], 'brevity_penalty': 0.010744800311986828, 'length_ratio': 0.18072289156626506, 'translation_length': 15, 'reference_length': 83}\n\n{'bleu': 0.0, 'precisions': [0.125, 0.0, 0.0, 0.0], 'brevity_penalty': 0.6065306597126334, 'length_ratio': 0.6666666666666666, 'translation_length': 16, 'reference_length': 24}\n\n{'bleu': 0.0, 'precisions': [0.14814814814814814, 0.0, 0.0, 0.0], 'brevity_penalty': 0.00810872355434584, 'length_ratio': 0.17197452229299362, 'translation_length': 27, 'reference_length': 157}\n\n{'bleu': 0.0, 'precisions': [0.0625, 0.0, 0.0, 0.0], 'brevity_penalty': 0.8290291181804004, 'length_ratio': 0.8421052631578947, 'translation_length': 16, 'reference_length': 19}\n\n{'bleu': 0.0, 'precisions': [0.12195121951219512, 0.0, 0.0, 0.0], 'brevity_penalty': 0.5991788634896815, 'length_ratio': 0.6612903225806451, 'translation_length': 41, 'reference_length': 62}\n\n{'bleu': 0.0, 'precisions': [0.0, 0.0, 0.0, 0.0], 'brevity_penalty': 1.0, 'length_ratio': 19.0, 'translation_length': 38, 'reference_length': 2}\n\n{'bleu': 0.0, 'precisions': [0.0, 0.0, 0.0, 0.0], 'brevity_penalty': 1.0, 'length_ratio': 2.2857142857142856, 'translation_length': 16, 'reference_length': 7}\n"
        }
      ]
    },
    {
      "cell_type": "markdown",
      "source": [
        "# Bibliography"
      ],
      "metadata": {
        "id": "Y9qCXLW5-mYm"
      }
    },
    {
      "cell_type": "markdown",
      "source": [
        "**Datasets:**\n",
        "* Arabic Poetry : [link](https://www.kaggle.com/datasets/ahmedabelal/arabic-poetry)\n",
        "* Arabic Poetry Dataset (6th - 21st century) : [link](https://www.kaggle.com/datasets/fahd09/arabic-poetry-dataset-478-2017)\n",
        "\n",
        "**Words Datasets:**\n",
        "* Meta_words : [link](https://www.kaggle.com/datasets/mohamedezzeldien/meta-words)\n",
        "* Animals and Nature : [link](https://www.kaggle.com/datasets/mohamedezzeldien/words)\n",
        "* War : [link](https://www.kaggle.com/datasets/jawherjabri/words-arabic)\n",
        "\n",
        "**Finetuned model:**\n",
        "* Bert base AraBERT : [link](https://huggingface.co/aubmindlab/bert-base-arabertv02)\n",
        "* 5 epochs : [link](https://www.kaggle.com/datasets/jawherjabri/model-arabic-fine-tined) :  Version 1\n",
        "* 10 epoch : [link](https://www.kaggle.com/datasets/firasmeddeb/model-arabic-fine-tuned2): Version 1\n",
        "* 15 epochs : [link](https://www.kaggle.com/datasets/jawherjabri/model-arabic-fine-tined) :  Version 4\n",
        "* 20 epochs : [link](https://www.kaggle.com/datasets/jawherjabri/model-arabic-fine-tined) :  Version 5\n",
        "\n"
      ],
      "metadata": {
        "id": "Yw9colW_-mYm"
      }
    }
  ]
}